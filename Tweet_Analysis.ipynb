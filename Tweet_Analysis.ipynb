{
  "nbformat": 4,
  "nbformat_minor": 0,
  "metadata": {
    "colab": {
      "provenance": []
    },
    "kernelspec": {
      "name": "python3",
      "display_name": "Python 3"
    },
    "language_info": {
      "name": "python"
    }
  },
  "cells": [
    {
      "cell_type": "code",
      "execution_count": 1,
      "metadata": {
        "id": "Kz53SjuF1PSI"
      },
      "outputs": [],
      "source": [
        "from sklearn.pipeline import Pipeline\n",
        "from sklearn.model_selection import train_test_split, cross_val_score, GridSearchCV\n",
        "from sklearn.preprocessing import StandardScaler, OneHotEncoder\n",
        "from sklearn.compose import ColumnTransformer\n",
        "from sklearn.metrics import mean_absolute_error, mean_squared_error, classification_report, roc_curve, auc, accuracy_score\n",
        "from sklearn import metrics\n",
        "import pandas as pd\n",
        "import numpy as np\n",
        "import seaborn as sns\n",
        "import matplotlib.pyplot as plt"
      ]
    },
    {
      "cell_type": "code",
      "source": [
        "# Read in data locally\n",
        "#df = pd.read_csv('data/Tweets.csv', encoding='latin1')\n",
        "\n",
        "# Read in data using google colab/drive\n",
        "df = pd.read_csv('/content/drive/MyDrive/Flatiron/project_4/tweets.csv', encoding='latin1')"
      ],
      "metadata": {
        "id": "roEFZ9hY19cc"
      },
      "execution_count": 2,
      "outputs": []
    },
    {
      "cell_type": "code",
      "source": [
        "numerical_features = list(df.select_dtypes(\"number\"))\n",
        "categorical_features = list(df.select_dtypes(\"object\"))\n",
        "\n",
        "print(f'Numerical Columns: \\n{numerical_features}\\n')\n",
        "print(f'Numerical Columns: \\n{categorical_features}')"
      ],
      "metadata": {
        "colab": {
          "base_uri": "https://localhost:8080/"
        },
        "id": "eYmCU4keipfe",
        "outputId": "caaa7de2-b817-43b8-f1db-10048980a874"
      },
      "execution_count": 3,
      "outputs": [
        {
          "output_type": "stream",
          "name": "stdout",
          "text": [
            "Numerical Columns: \n",
            "[]\n",
            "\n",
            "Numerical Columns: \n",
            "['tweet_text', 'emotion_in_tweet_is_directed_at', 'is_there_an_emotion_directed_at_a_brand_or_product']\n"
          ]
        }
      ]
    },
    {
      "cell_type": "markdown",
      "source": [
        "## EDA"
      ],
      "metadata": {
        "id": "vETEilA7ek6y"
      }
    },
    {
      "cell_type": "code",
      "source": [
        "df.head()"
      ],
      "metadata": {
        "colab": {
          "base_uri": "https://localhost:8080/",
          "height": 206
        },
        "id": "m-i3ulV04RdU",
        "outputId": "d533b794-af69-410d-b4a8-1c360070d318"
      },
      "execution_count": 11,
      "outputs": [
        {
          "output_type": "execute_result",
          "data": {
            "text/plain": [
              "                                               tweet tweet_is_directed_at  \\\n",
              "0  .@wesley83 i have a 3g iphone. after 3 hrs twe...               iphone   \n",
              "1  @jessedee know about @fludapp ? awesome ipad/i...   ipad or iphone app   \n",
              "2  @swonderlin can not wait for #ipad 2 also. the...                 ipad   \n",
              "3  @sxsw i hope this year's festival isn't as cra...   ipad or iphone app   \n",
              "4  @sxtxstate great stuff on fri #sxsw: marissa m...               google   \n",
              "\n",
              "    emotion  character_count  word_count  is_tweet_negative  is_apple  \n",
              "0  negative              127          23                  1         1  \n",
              "1  positive              139          22                  0         1  \n",
              "2  positive               79          15                  0         1  \n",
              "3  negative               82          15                  1         1  \n",
              "4  positive              131          17                  0         0  "
            ],
            "text/html": [
              "\n",
              "\n",
              "  <div id=\"df-8aecd441-bf65-4850-a62e-b4f48de4ed73\">\n",
              "    <div class=\"colab-df-container\">\n",
              "      <div>\n",
              "<style scoped>\n",
              "    .dataframe tbody tr th:only-of-type {\n",
              "        vertical-align: middle;\n",
              "    }\n",
              "\n",
              "    .dataframe tbody tr th {\n",
              "        vertical-align: top;\n",
              "    }\n",
              "\n",
              "    .dataframe thead th {\n",
              "        text-align: right;\n",
              "    }\n",
              "</style>\n",
              "<table border=\"1\" class=\"dataframe\">\n",
              "  <thead>\n",
              "    <tr style=\"text-align: right;\">\n",
              "      <th></th>\n",
              "      <th>tweet</th>\n",
              "      <th>tweet_is_directed_at</th>\n",
              "      <th>emotion</th>\n",
              "      <th>character_count</th>\n",
              "      <th>word_count</th>\n",
              "      <th>is_tweet_negative</th>\n",
              "      <th>is_apple</th>\n",
              "    </tr>\n",
              "  </thead>\n",
              "  <tbody>\n",
              "    <tr>\n",
              "      <th>0</th>\n",
              "      <td>.@wesley83 i have a 3g iphone. after 3 hrs twe...</td>\n",
              "      <td>iphone</td>\n",
              "      <td>negative</td>\n",
              "      <td>127</td>\n",
              "      <td>23</td>\n",
              "      <td>1</td>\n",
              "      <td>1</td>\n",
              "    </tr>\n",
              "    <tr>\n",
              "      <th>1</th>\n",
              "      <td>@jessedee know about @fludapp ? awesome ipad/i...</td>\n",
              "      <td>ipad or iphone app</td>\n",
              "      <td>positive</td>\n",
              "      <td>139</td>\n",
              "      <td>22</td>\n",
              "      <td>0</td>\n",
              "      <td>1</td>\n",
              "    </tr>\n",
              "    <tr>\n",
              "      <th>2</th>\n",
              "      <td>@swonderlin can not wait for #ipad 2 also. the...</td>\n",
              "      <td>ipad</td>\n",
              "      <td>positive</td>\n",
              "      <td>79</td>\n",
              "      <td>15</td>\n",
              "      <td>0</td>\n",
              "      <td>1</td>\n",
              "    </tr>\n",
              "    <tr>\n",
              "      <th>3</th>\n",
              "      <td>@sxsw i hope this year's festival isn't as cra...</td>\n",
              "      <td>ipad or iphone app</td>\n",
              "      <td>negative</td>\n",
              "      <td>82</td>\n",
              "      <td>15</td>\n",
              "      <td>1</td>\n",
              "      <td>1</td>\n",
              "    </tr>\n",
              "    <tr>\n",
              "      <th>4</th>\n",
              "      <td>@sxtxstate great stuff on fri #sxsw: marissa m...</td>\n",
              "      <td>google</td>\n",
              "      <td>positive</td>\n",
              "      <td>131</td>\n",
              "      <td>17</td>\n",
              "      <td>0</td>\n",
              "      <td>0</td>\n",
              "    </tr>\n",
              "  </tbody>\n",
              "</table>\n",
              "</div>\n",
              "      <button class=\"colab-df-convert\" onclick=\"convertToInteractive('df-8aecd441-bf65-4850-a62e-b4f48de4ed73')\"\n",
              "              title=\"Convert this dataframe to an interactive table.\"\n",
              "              style=\"display:none;\">\n",
              "\n",
              "  <svg xmlns=\"http://www.w3.org/2000/svg\" height=\"24px\"viewBox=\"0 0 24 24\"\n",
              "       width=\"24px\">\n",
              "    <path d=\"M0 0h24v24H0V0z\" fill=\"none\"/>\n",
              "    <path d=\"M18.56 5.44l.94 2.06.94-2.06 2.06-.94-2.06-.94-.94-2.06-.94 2.06-2.06.94zm-11 1L8.5 8.5l.94-2.06 2.06-.94-2.06-.94L8.5 2.5l-.94 2.06-2.06.94zm10 10l.94 2.06.94-2.06 2.06-.94-2.06-.94-.94-2.06-.94 2.06-2.06.94z\"/><path d=\"M17.41 7.96l-1.37-1.37c-.4-.4-.92-.59-1.43-.59-.52 0-1.04.2-1.43.59L10.3 9.45l-7.72 7.72c-.78.78-.78 2.05 0 2.83L4 21.41c.39.39.9.59 1.41.59.51 0 1.02-.2 1.41-.59l7.78-7.78 2.81-2.81c.8-.78.8-2.07 0-2.86zM5.41 20L4 18.59l7.72-7.72 1.47 1.35L5.41 20z\"/>\n",
              "  </svg>\n",
              "      </button>\n",
              "\n",
              "\n",
              "\n",
              "    <div id=\"df-280f9ed0-f82a-4674-aad0-46f34206235f\">\n",
              "      <button class=\"colab-df-quickchart\" onclick=\"quickchart('df-280f9ed0-f82a-4674-aad0-46f34206235f')\"\n",
              "              title=\"Suggest charts.\"\n",
              "              style=\"display:none;\">\n",
              "\n",
              "<svg xmlns=\"http://www.w3.org/2000/svg\" height=\"24px\"viewBox=\"0 0 24 24\"\n",
              "     width=\"24px\">\n",
              "    <g>\n",
              "        <path d=\"M19 3H5c-1.1 0-2 .9-2 2v14c0 1.1.9 2 2 2h14c1.1 0 2-.9 2-2V5c0-1.1-.9-2-2-2zM9 17H7v-7h2v7zm4 0h-2V7h2v10zm4 0h-2v-4h2v4z\"/>\n",
              "    </g>\n",
              "</svg>\n",
              "      </button>\n",
              "    </div>\n",
              "\n",
              "<style>\n",
              "  .colab-df-quickchart {\n",
              "    background-color: #E8F0FE;\n",
              "    border: none;\n",
              "    border-radius: 50%;\n",
              "    cursor: pointer;\n",
              "    display: none;\n",
              "    fill: #1967D2;\n",
              "    height: 32px;\n",
              "    padding: 0 0 0 0;\n",
              "    width: 32px;\n",
              "  }\n",
              "\n",
              "  .colab-df-quickchart:hover {\n",
              "    background-color: #E2EBFA;\n",
              "    box-shadow: 0px 1px 2px rgba(60, 64, 67, 0.3), 0px 1px 3px 1px rgba(60, 64, 67, 0.15);\n",
              "    fill: #174EA6;\n",
              "  }\n",
              "\n",
              "  [theme=dark] .colab-df-quickchart {\n",
              "    background-color: #3B4455;\n",
              "    fill: #D2E3FC;\n",
              "  }\n",
              "\n",
              "  [theme=dark] .colab-df-quickchart:hover {\n",
              "    background-color: #434B5C;\n",
              "    box-shadow: 0px 1px 3px 1px rgba(0, 0, 0, 0.15);\n",
              "    filter: drop-shadow(0px 1px 2px rgba(0, 0, 0, 0.3));\n",
              "    fill: #FFFFFF;\n",
              "  }\n",
              "</style>\n",
              "\n",
              "    <script>\n",
              "      async function quickchart(key) {\n",
              "        const containerElement = document.querySelector('#' + key);\n",
              "        const charts = await google.colab.kernel.invokeFunction(\n",
              "            'suggestCharts', [key], {});\n",
              "      }\n",
              "    </script>\n",
              "\n",
              "      <script>\n",
              "\n",
              "function displayQuickchartButton(domScope) {\n",
              "  let quickchartButtonEl =\n",
              "    domScope.querySelector('#df-280f9ed0-f82a-4674-aad0-46f34206235f button.colab-df-quickchart');\n",
              "  quickchartButtonEl.style.display =\n",
              "    google.colab.kernel.accessAllowed ? 'block' : 'none';\n",
              "}\n",
              "\n",
              "        displayQuickchartButton(document);\n",
              "      </script>\n",
              "      <style>\n",
              "    .colab-df-container {\n",
              "      display:flex;\n",
              "      flex-wrap:wrap;\n",
              "      gap: 12px;\n",
              "    }\n",
              "\n",
              "    .colab-df-convert {\n",
              "      background-color: #E8F0FE;\n",
              "      border: none;\n",
              "      border-radius: 50%;\n",
              "      cursor: pointer;\n",
              "      display: none;\n",
              "      fill: #1967D2;\n",
              "      height: 32px;\n",
              "      padding: 0 0 0 0;\n",
              "      width: 32px;\n",
              "    }\n",
              "\n",
              "    .colab-df-convert:hover {\n",
              "      background-color: #E2EBFA;\n",
              "      box-shadow: 0px 1px 2px rgba(60, 64, 67, 0.3), 0px 1px 3px 1px rgba(60, 64, 67, 0.15);\n",
              "      fill: #174EA6;\n",
              "    }\n",
              "\n",
              "    [theme=dark] .colab-df-convert {\n",
              "      background-color: #3B4455;\n",
              "      fill: #D2E3FC;\n",
              "    }\n",
              "\n",
              "    [theme=dark] .colab-df-convert:hover {\n",
              "      background-color: #434B5C;\n",
              "      box-shadow: 0px 1px 3px 1px rgba(0, 0, 0, 0.15);\n",
              "      filter: drop-shadow(0px 1px 2px rgba(0, 0, 0, 0.3));\n",
              "      fill: #FFFFFF;\n",
              "    }\n",
              "  </style>\n",
              "\n",
              "      <script>\n",
              "        const buttonEl =\n",
              "          document.querySelector('#df-8aecd441-bf65-4850-a62e-b4f48de4ed73 button.colab-df-convert');\n",
              "        buttonEl.style.display =\n",
              "          google.colab.kernel.accessAllowed ? 'block' : 'none';\n",
              "\n",
              "        async function convertToInteractive(key) {\n",
              "          const element = document.querySelector('#df-8aecd441-bf65-4850-a62e-b4f48de4ed73');\n",
              "          const dataTable =\n",
              "            await google.colab.kernel.invokeFunction('convertToInteractive',\n",
              "                                                     [key], {});\n",
              "          if (!dataTable) return;\n",
              "\n",
              "          const docLinkHtml = 'Like what you see? Visit the ' +\n",
              "            '<a target=\"_blank\" href=https://colab.research.google.com/notebooks/data_table.ipynb>data table notebook</a>'\n",
              "            + ' to learn more about interactive tables.';\n",
              "          element.innerHTML = '';\n",
              "          dataTable['output_type'] = 'display_data';\n",
              "          await google.colab.output.renderOutput(dataTable, element);\n",
              "          const docLink = document.createElement('div');\n",
              "          docLink.innerHTML = docLinkHtml;\n",
              "          element.appendChild(docLink);\n",
              "        }\n",
              "      </script>\n",
              "    </div>\n",
              "  </div>\n"
            ]
          },
          "metadata": {},
          "execution_count": 11
        }
      ]
    },
    {
      "cell_type": "code",
      "source": [
        "df.info()"
      ],
      "metadata": {
        "colab": {
          "base_uri": "https://localhost:8080/"
        },
        "id": "yHt98QNp5MoC",
        "outputId": "3701766f-7709-4199-b98d-8bdee82e7715"
      },
      "execution_count": 12,
      "outputs": [
        {
          "output_type": "stream",
          "name": "stdout",
          "text": [
            "<class 'pandas.core.frame.DataFrame'>\n",
            "Int64Index: 9075 entries, 0 to 9092\n",
            "Data columns (total 7 columns):\n",
            " #   Column                Non-Null Count  Dtype \n",
            "---  ------                --------------  ----- \n",
            " 0   tweet                 9075 non-null   object\n",
            " 1   tweet_is_directed_at  3291 non-null   object\n",
            " 2   emotion               9075 non-null   object\n",
            " 3   character_count       9075 non-null   int64 \n",
            " 4   word_count            9075 non-null   int64 \n",
            " 5   is_tweet_negative     9075 non-null   int64 \n",
            " 6   is_apple              8369 non-null   Int64 \n",
            "dtypes: Int64(1), int64(3), object(3)\n",
            "memory usage: 576.0+ KB\n"
          ]
        }
      ]
    },
    {
      "cell_type": "code",
      "source": [
        "df.nunique().sort_values(ascending=True)"
      ],
      "metadata": {
        "colab": {
          "base_uri": "https://localhost:8080/"
        },
        "id": "qRbAU0Vo5cTJ",
        "outputId": "731e4d17-b2e2-44b2-bef2-0ddc52c64317"
      },
      "execution_count": 13,
      "outputs": [
        {
          "output_type": "execute_result",
          "data": {
            "text/plain": [
              "is_tweet_negative          2\n",
              "is_apple                   2\n",
              "emotion                    4\n",
              "tweet_is_directed_at       9\n",
              "word_count                31\n",
              "character_count          144\n",
              "tweet                   9030\n",
              "dtype: int64"
            ]
          },
          "metadata": {},
          "execution_count": 13
        }
      ]
    },
    {
      "cell_type": "code",
      "source": [
        "df.isna().sum().sort_values(ascending=False)"
      ],
      "metadata": {
        "colab": {
          "base_uri": "https://localhost:8080/"
        },
        "id": "8AbtMd1_gFJx",
        "outputId": "5d0ff77e-4256-4dd0-f39a-624b913c37f4"
      },
      "execution_count": 14,
      "outputs": [
        {
          "output_type": "execute_result",
          "data": {
            "text/plain": [
              "tweet_is_directed_at    5784\n",
              "is_apple                 706\n",
              "tweet                      0\n",
              "emotion                    0\n",
              "character_count            0\n",
              "word_count                 0\n",
              "is_tweet_negative          0\n",
              "dtype: int64"
            ]
          },
          "metadata": {},
          "execution_count": 14
        }
      ]
    },
    {
      "cell_type": "markdown",
      "source": [
        "\n",
        "## Data Cleaning"
      ],
      "metadata": {
        "id": "t16P1R4Meod6"
      }
    },
    {
      "cell_type": "code",
      "source": [
        "# Lowercase\n",
        "df = df.applymap(lambda s:s.lower() if type(s) == str else s)\n",
        "\n",
        "# Renaming columns to better reflect the data\n",
        "rename_cols = {\n",
        "      'tweet_text': 'tweet',\n",
        "      'emotion_in_tweet_is_directed_at': 'tweet_is_directed_at',\n",
        "      'is_there_an_emotion_directed_at_a_brand_or_product': 'emotion'\n",
        "              }\n",
        "df = df.rename(columns=rename_cols)\n",
        "\n",
        "\n",
        "# rename values in the 'emotion' column\n",
        "rename_values = {\n",
        "      'no emotion toward brand or product': 'no emotion',\n",
        "      'positive emotion': 'positive',\n",
        "      'negative emotion': 'negative',\n",
        "      \"i can't tell\": 'unsure'\n",
        "              }\n",
        "df['emotion'] = df['emotion'].map(rename_values)\n",
        "\n",
        "\n",
        "# Dropping (1) single row from df['tweet_text']\n",
        "df.dropna(subset='tweet', inplace=True)\n",
        "\n",
        "\n",
        "# Filter out 17 tweets that contain both Apple & Google\n",
        "apple_and_google = ~((df['tweet_is_directed_at'].isna()) &\n",
        "                   (df['tweet'].str.contains('google')) &\n",
        "                   (df['tweet'].str.contains('apple')))\n",
        "df = df[apple_and_google]\n",
        "\n",
        "\n",
        "\n",
        "## Create assert statements to confirm the code achieved its goals:\n",
        "\n",
        "assert df.loc[(df['tweet_is_directed_at'].isna()) & (df['tweet'].str.contains('google')) & (df['tweet'].str.contains('apple')), 'tweet'].empty\n"
      ],
      "metadata": {
        "id": "5UM7zONye4az"
      },
      "execution_count": 8,
      "outputs": []
    },
    {
      "cell_type": "markdown",
      "source": [
        "## Feature Engineering"
      ],
      "metadata": {
        "id": "0Ot2nCoomxvf"
      }
    },
    {
      "cell_type": "code",
      "source": [
        "# Create column of with the character length of the tweet\n",
        "df['character_count'] = df['tweet'].apply(len)\n",
        "# Create column of with the word count of the tweet\n",
        "df['word_count'] = df['tweet'].apply(lambda x: len(str(x).split()))\n",
        "# Creat column to determine if the tweet was negative toward a brand or not\n",
        "df['is_tweet_negative'] = df['emotion'].apply(lambda x: 1 if x == 'negative' else 0)\n",
        "\n",
        "\n",
        "\n",
        "# What company is the tweet about?\n",
        "renamed_values = {\n",
        "      'ipad': 1, 'ipad or iphone app': 1,\n",
        "      'iphone': 1, 'other google product or service': 0,\n",
        "      'android app': 0, 'android': 0, 'google': 0,\n",
        "      'other apple product or service': 1, 'apple': 1,\n",
        "                 }\n",
        "df['is_apple'] = df['tweet_is_directed_at'].map(renamed_values).astype('Int64')\n",
        "\n",
        "\n",
        "# Assigning unknown tweet to company based on 'apple_words'\n",
        "apple_words = ['apple', 'iphone','ipod','ipad', 'i-pad', 'app store', 'itunes']\n",
        "apple_regex = '|'.join(apple_words)  # creates the string 'apple|iphone|ipod|ipad|i-pad'\n",
        "\n",
        "df.loc[(df['is_apple'].isna()) & df['tweet'].str.contains(apple_regex, case=False), 'is_apple'] = 1\n",
        "\n",
        "\n",
        "# Assigning unknown tweet to company based on 'google_words'\n",
        "google_words = ['google', 'android','pixel', 'google play']\n",
        "google_regex = '|'.join(google_words)  # creates the string 'google|android|pixel|google play'\n",
        "\n",
        "df.loc[(df['is_apple'].isna()) & df['tweet'].str.contains(google_regex, case=False), 'is_apple'] = 0"
      ],
      "metadata": {
        "id": "Zg4bNV_Cmjwr"
      },
      "execution_count": 9,
      "outputs": []
    },
    {
      "cell_type": "code",
      "source": [
        "df['is_apple'].value_counts()"
      ],
      "metadata": {
        "colab": {
          "base_uri": "https://localhost:8080/"
        },
        "id": "vRl8yyig_yX5",
        "outputId": "bdd4c5fa-12c2-4068-acd4-5a9c7e3ec374"
      },
      "execution_count": 10,
      "outputs": [
        {
          "output_type": "execute_result",
          "data": {
            "text/plain": [
              "1    5567\n",
              "0    2802\n",
              "Name: is_apple, dtype: Int64"
            ]
          },
          "metadata": {},
          "execution_count": 10
        }
      ]
    }
  ]
}