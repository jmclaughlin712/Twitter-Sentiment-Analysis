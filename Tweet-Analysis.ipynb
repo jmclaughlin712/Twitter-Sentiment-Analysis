{
  "cells": [
    {
      "cell_type": "code",
      "execution_count": 10,
      "metadata": {
        "id": "Kz53SjuF1PSI"
      },
      "outputs": [],
      "source": [
        "# Data handling and computation\n",
        "import pandas as pd\n",
        "import numpy as np\n",
        "\n",
        "# Data visualization\n",
        "import matplotlib.pyplot as plt\n",
        "import seaborn as sns\n",
        "\n",
        "# Data preprocessing\n",
        "from sklearn.preprocessing import StandardScaler, OneHotEncoder, LabelEncoder\n",
        "from sklearn.compose import ColumnTransformer\n",
        "from sklearn.feature_extraction.text import TfidfVectorizer\n",
        "from sklearn.naive_bayes import MultinomialNB\n",
        "from imblearn.over_sampling import SMOTE\n",
        "\n",
        "# Model selection and validation\n",
        "from sklearn.model_selection import train_test_split, cross_val_score, GridSearchCV\n",
        "from sklearn.linear_model import LogisticRegression\n",
        "from sklearn.tree import DecisionTreeClassifier\n",
        "from sklearn.ensemble import RandomForestClassifier, VotingClassifier\n",
        "import xgboost as xgb\n",
        "\n",
        "# Pipeline library for efficient workflow\n",
        "from sklearn.pipeline import Pipeline, make_pipeline\n",
        "\n",
        "# Metrics libraries for evaluating model performance\n",
        "from sklearn.metrics import mean_absolute_error, mean_squared_error, classification_report, roc_curve, auc, accuracy_score, confusion_matrix, precision_score\n",
        "from sklearn import metrics\n",
        "\n",
        "# Natural Language Toolkit\n",
        "import nltk\n",
        "from nltk.corpus import stopwords\n",
        "from nltk.tokenize import word_tokenize\n",
        "from nltk.stem import WordNetLemmatizer\n",
        "import re\n",
        "\n",
        "# Ignore warning messages\n",
        "import warnings\n",
        "warnings.simplefilter(\"ignore\")"
      ]
    },
    {
      "cell_type": "code",
      "execution_count": 11,
      "metadata": {
        "id": "roEFZ9hY19cc"
      },
      "outputs": [],
      "source": [
        "# Read in data locally\n",
        "df = pd.read_csv('data/Tweets.csv', encoding='latin1')\n",
        "\n",
        "# Read in data using google colab/drive\n",
        "#df = pd.read_csv('/content/drive/MyDrive/Flatiron/project_4/tweets.csv', encoding='latin1')"
      ]
    },
    {
      "cell_type": "code",
      "execution_count": 12,
      "metadata": {
        "colab": {
          "base_uri": "https://localhost:8080/"
        },
        "id": "eYmCU4keipfe",
        "outputId": "154f25e7-167a-4f9a-a13e-70ed8bd2458c"
      },
      "outputs": [
        {
          "name": "stdout",
          "output_type": "stream",
          "text": [
            "Numerical Columns: \n",
            "[]\n",
            "\n",
            "Categorical Columns: \n",
            "['tweet_text', 'emotion_in_tweet_is_directed_at', 'is_there_an_emotion_directed_at_a_brand_or_product']\n"
          ]
        }
      ],
      "source": [
        "numerical_features = list(df.select_dtypes(\"number\"))\n",
        "categorical_features = list(df.select_dtypes(\"object\"))\n",
        "\n",
        "print(f'Numerical Columns: \\n{numerical_features}\\n')\n",
        "print(f'Categorical Columns: \\n{categorical_features}')"
      ]
    },
    {
      "cell_type": "markdown",
      "metadata": {
        "id": "vETEilA7ek6y"
      },
      "source": [
        "## EDA"
      ]
    },
    {
      "cell_type": "code",
      "execution_count": 13,
      "metadata": {
        "colab": {
          "base_uri": "https://localhost:8080/",
          "height": 565
        },
        "id": "m-i3ulV04RdU",
        "outputId": "8b8ec034-1332-4bef-b551-01d908facbe8"
      },
      "outputs": [
        {
          "data": {
            "text/html": [
              "<div>\n",
              "<style scoped>\n",
              "    .dataframe tbody tr th:only-of-type {\n",
              "        vertical-align: middle;\n",
              "    }\n",
              "\n",
              "    .dataframe tbody tr th {\n",
              "        vertical-align: top;\n",
              "    }\n",
              "\n",
              "    .dataframe thead th {\n",
              "        text-align: right;\n",
              "    }\n",
              "</style>\n",
              "<table border=\"1\" class=\"dataframe\">\n",
              "  <thead>\n",
              "    <tr style=\"text-align: right;\">\n",
              "      <th></th>\n",
              "      <th>tweet_text</th>\n",
              "      <th>emotion_in_tweet_is_directed_at</th>\n",
              "      <th>is_there_an_emotion_directed_at_a_brand_or_product</th>\n",
              "    </tr>\n",
              "  </thead>\n",
              "  <tbody>\n",
              "    <tr>\n",
              "      <th>0</th>\n",
              "      <td>.@wesley83 I have a 3G iPhone. After 3 hrs twe...</td>\n",
              "      <td>iPhone</td>\n",
              "      <td>Negative emotion</td>\n",
              "    </tr>\n",
              "    <tr>\n",
              "      <th>1</th>\n",
              "      <td>@jessedee Know about @fludapp ? Awesome iPad/i...</td>\n",
              "      <td>iPad or iPhone App</td>\n",
              "      <td>Positive emotion</td>\n",
              "    </tr>\n",
              "    <tr>\n",
              "      <th>2</th>\n",
              "      <td>@swonderlin Can not wait for #iPad 2 also. The...</td>\n",
              "      <td>iPad</td>\n",
              "      <td>Positive emotion</td>\n",
              "    </tr>\n",
              "    <tr>\n",
              "      <th>3</th>\n",
              "      <td>@sxsw I hope this year's festival isn't as cra...</td>\n",
              "      <td>iPad or iPhone App</td>\n",
              "      <td>Negative emotion</td>\n",
              "    </tr>\n",
              "    <tr>\n",
              "      <th>4</th>\n",
              "      <td>@sxtxstate great stuff on Fri #SXSW: Marissa M...</td>\n",
              "      <td>Google</td>\n",
              "      <td>Positive emotion</td>\n",
              "    </tr>\n",
              "  </tbody>\n",
              "</table>\n",
              "</div>"
            ],
            "text/plain": [
              "                                          tweet_text  \\\n",
              "0  .@wesley83 I have a 3G iPhone. After 3 hrs twe...   \n",
              "1  @jessedee Know about @fludapp ? Awesome iPad/i...   \n",
              "2  @swonderlin Can not wait for #iPad 2 also. The...   \n",
              "3  @sxsw I hope this year's festival isn't as cra...   \n",
              "4  @sxtxstate great stuff on Fri #SXSW: Marissa M...   \n",
              "\n",
              "  emotion_in_tweet_is_directed_at  \\\n",
              "0                          iPhone   \n",
              "1              iPad or iPhone App   \n",
              "2                            iPad   \n",
              "3              iPad or iPhone App   \n",
              "4                          Google   \n",
              "\n",
              "  is_there_an_emotion_directed_at_a_brand_or_product  \n",
              "0                                   Negative emotion  \n",
              "1                                   Positive emotion  \n",
              "2                                   Positive emotion  \n",
              "3                                   Negative emotion  \n",
              "4                                   Positive emotion  "
            ]
          },
          "execution_count": 13,
          "metadata": {},
          "output_type": "execute_result"
        }
      ],
      "source": [
        "df.head()"
      ]
    },
    {
      "cell_type": "code",
      "execution_count": 14,
      "metadata": {
        "colab": {
          "base_uri": "https://localhost:8080/"
        },
        "id": "yHt98QNp5MoC",
        "outputId": "4cd5aa61-830d-46dc-9334-4eb4400957f9"
      },
      "outputs": [
        {
          "name": "stdout",
          "output_type": "stream",
          "text": [
            "<class 'pandas.core.frame.DataFrame'>\n",
            "RangeIndex: 9093 entries, 0 to 9092\n",
            "Data columns (total 3 columns):\n",
            " #   Column                                              Non-Null Count  Dtype \n",
            "---  ------                                              --------------  ----- \n",
            " 0   tweet_text                                          9092 non-null   object\n",
            " 1   emotion_in_tweet_is_directed_at                     3291 non-null   object\n",
            " 2   is_there_an_emotion_directed_at_a_brand_or_product  9093 non-null   object\n",
            "dtypes: object(3)\n",
            "memory usage: 213.2+ KB\n"
          ]
        }
      ],
      "source": [
        "df.info()"
      ]
    },
    {
      "cell_type": "code",
      "execution_count": 15,
      "metadata": {
        "colab": {
          "base_uri": "https://localhost:8080/"
        },
        "id": "qRbAU0Vo5cTJ",
        "outputId": "2f7ba023-b204-4acd-9ad3-4e06d20a8746"
      },
      "outputs": [
        {
          "data": {
            "text/plain": [
              "is_there_an_emotion_directed_at_a_brand_or_product       4\n",
              "emotion_in_tweet_is_directed_at                          9\n",
              "tweet_text                                            9065\n",
              "dtype: int64"
            ]
          },
          "execution_count": 15,
          "metadata": {},
          "output_type": "execute_result"
        }
      ],
      "source": [
        "df.nunique().sort_values(ascending=True)"
      ]
    },
    {
      "cell_type": "code",
      "execution_count": 16,
      "metadata": {
        "colab": {
          "base_uri": "https://localhost:8080/"
        },
        "id": "8AbtMd1_gFJx",
        "outputId": "42dc4906-deb1-421d-8f5e-5951f30b0023"
      },
      "outputs": [
        {
          "data": {
            "text/plain": [
              "emotion_in_tweet_is_directed_at                       5802\n",
              "tweet_text                                               1\n",
              "is_there_an_emotion_directed_at_a_brand_or_product       0\n",
              "dtype: int64"
            ]
          },
          "execution_count": 16,
          "metadata": {},
          "output_type": "execute_result"
        }
      ],
      "source": [
        "df.isna().sum().sort_values(ascending=False)"
      ]
    },
    {
      "cell_type": "code",
      "execution_count": 17,
      "metadata": {
        "colab": {
          "base_uri": "https://localhost:8080/",
          "height": 369
        },
        "id": "03RYTBKOSs42",
        "outputId": "5c2fb3e5-f0d5-4b8d-a20b-b45af1d164ff"
      },
      "outputs": [
        {
          "data": {
            "text/html": [
              "<div>\n",
              "<style scoped>\n",
              "    .dataframe tbody tr th:only-of-type {\n",
              "        vertical-align: middle;\n",
              "    }\n",
              "\n",
              "    .dataframe tbody tr th {\n",
              "        vertical-align: top;\n",
              "    }\n",
              "\n",
              "    .dataframe thead th {\n",
              "        text-align: right;\n",
              "    }\n",
              "</style>\n",
              "<table border=\"1\" class=\"dataframe\">\n",
              "  <thead>\n",
              "    <tr style=\"text-align: right;\">\n",
              "      <th></th>\n",
              "    </tr>\n",
              "  </thead>\n",
              "  <tbody>\n",
              "  </tbody>\n",
              "</table>\n",
              "</div>"
            ],
            "text/plain": [
              "Empty DataFrame\n",
              "Columns: []\n",
              "Index: []"
            ]
          },
          "execution_count": 17,
          "metadata": {},
          "output_type": "execute_result"
        }
      ],
      "source": [
        "# Add ‘numeric_only=True’ param to avoid ‘could not convert string to float’ issue\n",
        "df.corr(numeric_only=True)"
      ]
    },
    {
      "cell_type": "markdown",
      "metadata": {
        "id": "t16P1R4Meod6"
      },
      "source": [
        "\n",
        "## Data Cleaning"
      ]
    },
    {
      "cell_type": "code",
      "execution_count": 18,
      "metadata": {
        "id": "5UM7zONye4az"
      },
      "outputs": [],
      "source": [
        "# Lowercase\n",
        "df = df.applymap(lambda s:s.lower() if type(s) == str else s)\n",
        "\n",
        "# Renaming columns to better reflect the data\n",
        "rename_cols = {\n",
        "      'tweet_text': 'tweet',\n",
        "      'emotion_in_tweet_is_directed_at': 'tweet_is_directed_at',\n",
        "      'is_there_an_emotion_directed_at_a_brand_or_product': 'emotion'\n",
        "              }\n",
        "df = df.rename(columns=rename_cols)\n",
        "\n",
        "\n",
        "# rename values in the 'emotion' column\n",
        "rename_values = {\n",
        "      'no emotion toward brand or product': 'no emotion',\n",
        "      'positive emotion': 'positive',\n",
        "      'negative emotion': 'negative',\n",
        "      \"i can't tell\": 'unsure'\n",
        "              }\n",
        "df['emotion'] = df['emotion'].map(rename_values)\n",
        "\n",
        "# Dropping (1) single row from df['tweet_text']\n",
        "df.dropna(subset=['tweet'], inplace=True)\n",
        "\n",
        "\n",
        "# Filter out 17 tweets that contain both Apple & Google\n",
        "apple_and_google = ~((df['tweet_is_directed_at'].isna()) &\n",
        "                   (df['tweet'].str.contains('google')) &\n",
        "                   (df['tweet'].str.contains('apple')))\n",
        "df = df[apple_and_google]\n",
        "\n",
        "\n",
        "\n",
        "## Create assert statements to confirm the code achieved its goals:\n",
        "\n",
        "assert df.loc[(df['tweet_is_directed_at'].isna()) & (df['tweet'].str.contains('google')) & (df['tweet'].str.contains('apple')), 'tweet'].empty\n"
      ]
    },
    {
      "cell_type": "markdown",
      "metadata": {
        "id": "0Ot2nCoomxvf"
      },
      "source": [
        "## Feature Engineering"
      ]
    },
    {
      "cell_type": "code",
      "execution_count": 19,
      "metadata": {
        "id": "Zg4bNV_Cmjwr"
      },
      "outputs": [],
      "source": [
        "# Create column of with the character length of the tweet\n",
        "df['character_count'] = df['tweet'].apply(len)\n",
        "\n",
        "\n",
        "# Create column of with the word count of the tweet\n",
        "df['word_count'] = df['tweet'].apply(lambda x: len(str(x).split()))\n",
        "\n",
        "\n",
        "# Creat column to determine if the tweet was negative toward a brand or not\n",
        "df['is_tweet_negative'] = df['emotion'].apply(lambda x: 1 if x == 'negative' else 0 if x == 'positive' else 2)\n",
        "\n",
        "# What company is the tweet about?\n",
        "renamed_values = {\n",
        "      'ipad': 1, 'ipad or iphone app': 1,\n",
        "      'iphone': 1, 'other google product or service': 0,\n",
        "      'android app': 0, 'android': 0, 'google': 0,\n",
        "      'other apple product or service': 1, 'apple': 1,\n",
        "                 }\n",
        "df['is_apple'] = df['tweet_is_directed_at'].map(renamed_values).astype('Int64')\n",
        "\n",
        "\n",
        "# Creating a feature call 'number_of_mentions' to count @mentions\n",
        "df['number_of_mentions'] = df['tweet'].str.count('@\\w+')\n",
        "\n",
        "\n",
        "# Create a feature 'hashtags_count' to count hashtags\n",
        "df['hashtags_count'] = df['tweet'].str.count('#')\n",
        "\n",
        "\n",
        "# Create feature named 'average_word_length'\n",
        "df['average_word_length'] = df['tweet'].apply(lambda x: np.mean([len(word) for word in x.split()]))\n",
        "\n",
        "# Adding column to tell if data was generated by chatgpt data\n",
        "df['chatgpt_data'] = 0\n"
      ]
    },
    {
      "cell_type": "markdown",
      "metadata": {
        "id": "lmV1_oDmVn1J"
      },
      "source": [
        "## Data Filtering"
      ]
    },
    {
      "cell_type": "code",
      "execution_count": 20,
      "metadata": {
        "id": "Wsbk8FprVnh3"
      },
      "outputs": [],
      "source": [
        "# Assigning unknown tweet to company based on 'apple_words'\n",
        "apple_words = ['apple', 'iphone','ipod','ipad', 'i-pad', 'app store', 'itunes']\n",
        "apple_regex = '|'.join(apple_words)  # creates the string 'apple|iphone|ipod|ipad|i-pad'\n",
        "\n",
        "df.loc[(df['is_apple'].isna()) & df['tweet'].str.contains(apple_regex, case=False), 'is_apple'] = 1\n",
        "\n",
        "\n",
        "# Assigning unknown tweet to company based on 'google_words'\n",
        "google_words = ['google', 'android','pixel', 'google play']\n",
        "google_regex = '|'.join(google_words)  # creates the string 'google|android|pixel|google play'\n",
        "\n",
        "df.loc[(df['is_apple'].isna()) & df['tweet'].str.contains(google_regex, case=False), 'is_apple'] = 0\n",
        "\n",
        "\n",
        "# Dropping tweets that have no mention of either Apple or Google\n",
        "df.dropna(subset=['is_apple'], inplace=True)\n",
        "\n",
        "\n",
        "# Drop the column 'tweet_is_directed_at' due to many missing values\n",
        "#df = df.drop(columns=['tweet_is_directed_at'])"
      ]
    },
    {
      "cell_type": "code",
      "execution_count": 21,
      "metadata": {
        "colab": {
          "base_uri": "https://localhost:8080/"
        },
        "id": "vRl8yyig_yX5",
        "outputId": "bed3fb1f-0847-4197-ff36-79b731a8b449"
      },
      "outputs": [
        {
          "data": {
            "text/plain": [
              "is_apple\n",
              "1    5567\n",
              "0    2802\n",
              "Name: count, dtype: Int64"
            ]
          },
          "execution_count": 21,
          "metadata": {},
          "output_type": "execute_result"
        }
      ],
      "source": [
        "df['is_apple'].value_counts()"
      ]
    },
    {
      "cell_type": "code",
      "execution_count": 22,
      "metadata": {
        "colab": {
          "base_uri": "https://localhost:8080/"
        },
        "id": "voFLUkvS8ESg",
        "outputId": "1e15fb5c-d664-4e03-b943-59873be03791"
      },
      "outputs": [
        {
          "data": {
            "text/plain": [
              "is_tweet_negative\n",
              "2    4833\n",
              "0    2967\n",
              "1     569\n",
              "Name: count, dtype: int64"
            ]
          },
          "execution_count": 22,
          "metadata": {},
          "output_type": "execute_result"
        }
      ],
      "source": [
        "df['is_tweet_negative'].value_counts()"
      ]
    },
    {
      "cell_type": "markdown",
      "metadata": {
        "id": "IbWY-vsgKw6q"
      },
      "source": [
        "## Import and Join Negative Tweet Data (via ChatGPT prompt engineering)"
      ]
    },
    {
      "cell_type": "code",
      "execution_count": 23,
      "metadata": {
        "colab": {
          "base_uri": "https://localhost:8080/"
        },
        "id": "SvWMeQsFLgTs",
        "outputId": "1ad59301-c863-4e34-8e66-adb679740214"
      },
      "outputs": [
        {
          "data": {
            "text/plain": [
              "is_tweet_negative\n",
              "2    4833\n",
              "0    2967\n",
              "1     569\n",
              "Name: count, dtype: int64"
            ]
          },
          "execution_count": 23,
          "metadata": {},
          "output_type": "execute_result"
        }
      ],
      "source": [
        "df['is_tweet_negative'].value_counts()"
      ]
    },
    {
      "cell_type": "code",
      "execution_count": 24,
      "metadata": {
        "id": "ox6yFLL5K4ke"
      },
      "outputs": [],
      "source": [
        "# Read in data locally\n",
        "neg_tweets = pd.read_csv('data/chatgpt_tweet_data.csv')\n",
        "\n",
        "# Read in data using google colab/drive\n",
        "#neg_tweets = pd.read_csv('/content/drive/MyDrive/Flatiron/project_4/chatgpt_tweet_data.csv')\n",
        "\n",
        "# Lowercase\n",
        "neg_tweets = neg_tweets.applymap(lambda s:s.lower() if type(s) == str else s)\n",
        "\n",
        "# Adding column to tell if data was generated by chatgpt data\n",
        "neg_tweets['chatgpt_data'] = 1"
      ]
    },
    {
      "cell_type": "code",
      "execution_count": 25,
      "metadata": {
        "colab": {
          "base_uri": "https://localhost:8080/",
          "height": 600
        },
        "id": "HhnB34QHPbcH",
        "outputId": "ad6583ed-0a87-4550-f867-49ec43836aa2"
      },
      "outputs": [
        {
          "data": {
            "text/html": [
              "<div>\n",
              "<style scoped>\n",
              "    .dataframe tbody tr th:only-of-type {\n",
              "        vertical-align: middle;\n",
              "    }\n",
              "\n",
              "    .dataframe tbody tr th {\n",
              "        vertical-align: top;\n",
              "    }\n",
              "\n",
              "    .dataframe thead th {\n",
              "        text-align: right;\n",
              "    }\n",
              "</style>\n",
              "<table border=\"1\" class=\"dataframe\">\n",
              "  <thead>\n",
              "    <tr style=\"text-align: right;\">\n",
              "      <th></th>\n",
              "      <th>tweet</th>\n",
              "      <th>tweet_is_directed_at</th>\n",
              "      <th>emotion</th>\n",
              "      <th>character_count</th>\n",
              "      <th>word_count</th>\n",
              "      <th>is_tweet_negative</th>\n",
              "      <th>is_apple</th>\n",
              "      <th>number_of_mentions</th>\n",
              "      <th>hashtags_count</th>\n",
              "      <th>average_word_length</th>\n",
              "      <th>chatgpt_data</th>\n",
              "    </tr>\n",
              "  </thead>\n",
              "  <tbody>\n",
              "    <tr>\n",
              "      <th>0</th>\n",
              "      <td>can't believe how slow the new iphone is!</td>\n",
              "      <td>apple</td>\n",
              "      <td>negative</td>\n",
              "      <td>37</td>\n",
              "      <td>8</td>\n",
              "      <td>1</td>\n",
              "      <td>1</td>\n",
              "      <td>0</td>\n",
              "      <td>0</td>\n",
              "      <td>4.6</td>\n",
              "      <td>1</td>\n",
              "    </tr>\n",
              "    <tr>\n",
              "      <th>1</th>\n",
              "      <td>google search results are so frustrating!</td>\n",
              "      <td>google</td>\n",
              "      <td>negative</td>\n",
              "      <td>37</td>\n",
              "      <td>6</td>\n",
              "      <td>1</td>\n",
              "      <td>0</td>\n",
              "      <td>0</td>\n",
              "      <td>0</td>\n",
              "      <td>6.2</td>\n",
              "      <td>1</td>\n",
              "    </tr>\n",
              "    <tr>\n",
              "      <th>2</th>\n",
              "      <td>the latest apple update crashed my device again!</td>\n",
              "      <td>apple</td>\n",
              "      <td>negative</td>\n",
              "      <td>45</td>\n",
              "      <td>9</td>\n",
              "      <td>1</td>\n",
              "      <td>1</td>\n",
              "      <td>0</td>\n",
              "      <td>0</td>\n",
              "      <td>4.8</td>\n",
              "      <td>1</td>\n",
              "    </tr>\n",
              "    <tr>\n",
              "      <th>3</th>\n",
              "      <td>i'm so disappointed with google's new feature.</td>\n",
              "      <td>google</td>\n",
              "      <td>negative</td>\n",
              "      <td>40</td>\n",
              "      <td>8</td>\n",
              "      <td>1</td>\n",
              "      <td>0</td>\n",
              "      <td>0</td>\n",
              "      <td>0</td>\n",
              "      <td>5.0</td>\n",
              "      <td>1</td>\n",
              "    </tr>\n",
              "    <tr>\n",
              "      <th>4</th>\n",
              "      <td>apple's customer service is a nightmare!</td>\n",
              "      <td>apple</td>\n",
              "      <td>negative</td>\n",
              "      <td>38</td>\n",
              "      <td>7</td>\n",
              "      <td>1</td>\n",
              "      <td>1</td>\n",
              "      <td>0</td>\n",
              "      <td>0</td>\n",
              "      <td>5.4</td>\n",
              "      <td>1</td>\n",
              "    </tr>\n",
              "  </tbody>\n",
              "</table>\n",
              "</div>"
            ],
            "text/plain": [
              "                                              tweet tweet_is_directed_at  \\\n",
              "0         can't believe how slow the new iphone is!                apple   \n",
              "1         google search results are so frustrating!               google   \n",
              "2  the latest apple update crashed my device again!                apple   \n",
              "3    i'm so disappointed with google's new feature.               google   \n",
              "4          apple's customer service is a nightmare!                apple   \n",
              "\n",
              "    emotion  character_count  word_count  is_tweet_negative  is_apple  \\\n",
              "0  negative               37           8                  1         1   \n",
              "1  negative               37           6                  1         0   \n",
              "2  negative               45           9                  1         1   \n",
              "3  negative               40           8                  1         0   \n",
              "4  negative               38           7                  1         1   \n",
              "\n",
              "   number_of_mentions  hashtags_count  average_word_length  chatgpt_data  \n",
              "0                   0               0                  4.6             1  \n",
              "1                   0               0                  6.2             1  \n",
              "2                   0               0                  4.8             1  \n",
              "3                   0               0                  5.0             1  \n",
              "4                   0               0                  5.4             1  "
            ]
          },
          "execution_count": 25,
          "metadata": {},
          "output_type": "execute_result"
        }
      ],
      "source": [
        "neg_tweets.head()"
      ]
    },
    {
      "cell_type": "code",
      "execution_count": 26,
      "metadata": {
        "id": "Xe_VSnVhO2CX"
      },
      "outputs": [],
      "source": [
        "#Join Dataframes\n",
        "df = pd.concat([df, neg_tweets], ignore_index=True)"
      ]
    },
    {
      "cell_type": "code",
      "execution_count": 27,
      "metadata": {
        "colab": {
          "base_uri": "https://localhost:8080/"
        },
        "id": "WYpoWfawL1Aw",
        "outputId": "b887972d-a547-4285-ed35-0c8e2522b5ed"
      },
      "outputs": [
        {
          "data": {
            "text/plain": [
              "is_tweet_negative\n",
              "2    4833\n",
              "0    2967\n",
              "1    2920\n",
              "Name: count, dtype: int64"
            ]
          },
          "execution_count": 27,
          "metadata": {},
          "output_type": "execute_result"
        }
      ],
      "source": [
        "df['is_tweet_negative'].value_counts()"
      ]
    },
    {
      "cell_type": "markdown",
      "metadata": {
        "id": "OAB1YmtFjbUc"
      },
      "source": [
        "## Modeling"
      ]
    },
    {
      "cell_type": "code",
      "execution_count": 28,
      "metadata": {
        "colab": {
          "base_uri": "https://localhost:8080/"
        },
        "id": "4Mg4oMNQjcK2",
        "outputId": "53dd1c3b-e449-43c2-ceb3-1d8ecedbecb2"
      },
      "outputs": [
        {
          "name": "stderr",
          "output_type": "stream",
          "text": [
            "[nltk_data] Downloading package stopwords to\n",
            "[nltk_data]     /Users/llakes/nltk_data...\n",
            "[nltk_data]   Package stopwords is already up-to-date!\n",
            "[nltk_data] Downloading package wordnet to /Users/llakes/nltk_data...\n",
            "[nltk_data]   Package wordnet is already up-to-date!\n"
          ]
        }
      ],
      "source": [
        "# You might need to download these if you haven't already\n",
        "nltk.download('stopwords')\n",
        "nltk.download('wordnet')\n",
        "\n",
        "stop_words = set(stopwords.words('english'))\n",
        "lemmatizer = WordNetLemmatizer()"
      ]
    },
    {
      "cell_type": "code",
      "execution_count": 29,
      "metadata": {
        "id": "D3SRsiob2Auu"
      },
      "outputs": [],
      "source": [
        "# Function to preprocess tweets\n",
        "def preprocess(tweet):\n",
        "    tweet = tweet.lower()\n",
        "    tweet = re.sub(r'[^\\w\\s@#]', ' ', tweet)\n",
        "    tweet = re.sub(r'\\s+[a-zA-Z]\\s+', ' ', tweet)\n",
        "    tweet = re.sub(r'\\s+', ' ', tweet, flags=re.I)\n",
        "    tweet = re.sub(r'^b\\s+', '', tweet)\n",
        "    tweet = tweet.split()\n",
        "    tweet = [lemmatizer.lemmatize(word) for word in tweet if not word in stop_words]\n",
        "    tweet = ' '.join(tweet)\n",
        "    return tweet\n",
        "\n"
      ]
    },
    {
      "cell_type": "code",
      "execution_count": 30,
      "metadata": {
        "id": "LCBEaB-94Edz"
      },
      "outputs": [],
      "source": [
        "# Apply preprocessing function to tweets\n",
        "df['processed_tweet'] = df['tweet'].apply(preprocess)"
      ]
    },
    {
      "cell_type": "code",
      "execution_count": 31,
      "metadata": {
        "id": "hEtXcN3L4NZs"
      },
      "outputs": [],
      "source": [
        "# Feature extraction with TF-IDF\n",
        "vectorizer = TfidfVectorizer(max_features=1000)\n",
        "X = vectorizer.fit_transform(df['processed_tweet']).toarray()\n",
        "y = df['is_tweet_negative']"
      ]
    },
    {
      "cell_type": "code",
      "execution_count": 32,
      "metadata": {
        "id": "ePMW_n2-4IHp"
      },
      "outputs": [],
      "source": [
        "# Split data into training set and test set\n",
        "X_train, X_test, y_train, y_test = train_test_split(X, y, test_size=0.2, random_state=42)\n"
      ]
    },
    {
      "cell_type": "code",
      "execution_count": 33,
      "metadata": {
        "colab": {
          "base_uri": "https://localhost:8080/"
        },
        "id": "79KsaJSqR9Ta",
        "outputId": "59a42b66-4683-410d-f9ef-3d7ebd394aad"
      },
      "outputs": [
        {
          "name": "stdout",
          "output_type": "stream",
          "text": [
            "Original class distribution: \n",
            " is_tweet_negative\n",
            "2    3867\n",
            "0    2379\n",
            "1    2330\n",
            "Name: count, dtype: int64\n"
          ]
        }
      ],
      "source": [
        "# Print the original class distribution\n",
        "print('Original class distribution: \\n', y_train.value_counts())"
      ]
    },
    {
      "cell_type": "code",
      "execution_count": 34,
      "metadata": {
        "colab": {
          "base_uri": "https://localhost:8080/"
        },
        "id": "DvIlcQEX4RXn",
        "outputId": "f296c7e3-70db-4b2e-d806-516c2ddf25a4"
      },
      "outputs": [
        {
          "name": "stdout",
          "output_type": "stream",
          "text": [
            "              precision    recall  f1-score   support\n",
            "\n",
            "           0       0.59      0.44      0.50       588\n",
            "           1       0.93      0.81      0.87       590\n",
            "           2       0.66      0.83      0.74       966\n",
            "\n",
            "    accuracy                           0.71      2144\n",
            "   macro avg       0.73      0.69      0.70      2144\n",
            "weighted avg       0.72      0.71      0.71      2144\n",
            "\n",
            "Accuracy: 0.7136194029850746\n"
          ]
        }
      ],
      "source": [
        "# Train the model\n",
        "classifier = LogisticRegression()\n",
        "classifier.fit(X_train, y_train)\n",
        "\n",
        "# Make predictions\n",
        "y_pred = classifier.predict(X_test)\n",
        "\n",
        "# Evaluate the model\n",
        "print(classification_report(y_test, y_pred))\n",
        "print(\"Accuracy:\", accuracy_score(y_test, y_pred))"
      ]
    },
    {
      "cell_type": "code",
      "execution_count": 88,
      "metadata": {
        "colab": {
          "base_uri": "https://localhost:8080/",
          "height": 606
        },
        "id": "my4XZrwXMawZ",
        "outputId": "a6330179-ffa1-49ca-a396-4b995cb68bfe"
      },
      "outputs": [
        {
          "data": {
            "image/png": "[encoded data removed]",
            "text/plain": [
              "<Figure size 288x288 with 2 Axes>"
            ]
          },
          "metadata": {
            "needs_background": "light"
          },
          "output_type": "display_data"
        },
        {
          "name": "stdout",
          "output_type": "stream",
          "text": [
            "              precision    recall  f1-score   support\n",
            "\n",
            "           0       0.59      0.44      0.50       588\n",
            "           1       0.93      0.81      0.87       590\n",
            "           2       0.66      0.83      0.74       966\n",
            "\n",
            "    accuracy                           0.71      2144\n",
            "   macro avg       0.73      0.69      0.70      2144\n",
            "weighted avg       0.72      0.71      0.71      2144\n",
            "\n",
            "Accuracy: 0.7136194029850746\n"
          ]
        }
      ],
      "source": [
        "# Generate confusion matrix\n",
        "matrix = confusion_matrix(y_test, y_pred)\n",
        "\n",
        "# Create a heatmap from the confusion matrix\n",
        "fig, ax = plt.subplots(figsize=(4,4))\n",
        "sns.heatmap(matrix, annot=True, cmap='RdPu', fmt='d')\n",
        "\n",
        "plt.title('Confusion Matrix of Logistic Regression Model')\n",
        "plt.xlabel('Predicted Label')\n",
        "plt.ylabel('True Label')\n",
        "\n",
        "labels = ['Positive', 'Negative', 'Neutral']\n",
        "ax.set_xticklabels(labels)\n",
        "ax.set_yticklabels(labels)\n",
        "\n",
        "plt.show()\n",
        "\n",
        "# Evaluate the model\n",
        "print(classification_report(y_test, y_pred))\n",
        "print(\"Accuracy:\", accuracy_score(y_test, y_pred))"
      ]
    },
    {
      "cell_type": "code",
      "execution_count": 73,
      "metadata": {},
      "outputs": [
        {
          "data": {
            "text/html": [
              "<div>\n",
              "<style scoped>\n",
              "    .dataframe tbody tr th:only-of-type {\n",
              "        vertical-align: middle;\n",
              "    }\n",
              "\n",
              "    .dataframe tbody tr th {\n",
              "        vertical-align: top;\n",
              "    }\n",
              "\n",
              "    .dataframe thead th {\n",
              "        text-align: right;\n",
              "    }\n",
              "</style>\n",
              "<table border=\"1\" class=\"dataframe\">\n",
              "  <thead>\n",
              "    <tr style=\"text-align: right;\">\n",
              "      <th></th>\n",
              "      <th>tweet</th>\n",
              "      <th>tweet_is_directed_at</th>\n",
              "      <th>emotion</th>\n",
              "      <th>character_count</th>\n",
              "      <th>word_count</th>\n",
              "      <th>is_tweet_negative</th>\n",
              "      <th>is_apple</th>\n",
              "      <th>number_of_mentions</th>\n",
              "      <th>hashtags_count</th>\n",
              "      <th>average_word_length</th>\n",
              "      <th>chatgpt_data</th>\n",
              "      <th>processed_tweet</th>\n",
              "    </tr>\n",
              "  </thead>\n",
              "  <tbody>\n",
              "    <tr>\n",
              "      <th>0</th>\n",
              "      <td>.@wesley83 i have a 3g iphone. after 3 hrs twe...</td>\n",
              "      <td>iphone</td>\n",
              "      <td>negative</td>\n",
              "      <td>127</td>\n",
              "      <td>23</td>\n",
              "      <td>1</td>\n",
              "      <td>1</td>\n",
              "      <td>1</td>\n",
              "      <td>2</td>\n",
              "      <td>4.521739</td>\n",
              "      <td>0</td>\n",
              "      <td>@wesley83 3g iphone 3 hr tweeting #rise_austin...</td>\n",
              "    </tr>\n",
              "    <tr>\n",
              "      <th>1</th>\n",
              "      <td>@jessedee know about @fludapp ? awesome ipad/i...</td>\n",
              "      <td>ipad or iphone app</td>\n",
              "      <td>positive</td>\n",
              "      <td>139</td>\n",
              "      <td>22</td>\n",
              "      <td>0</td>\n",
              "      <td>1</td>\n",
              "      <td>2</td>\n",
              "      <td>1</td>\n",
              "      <td>5.363636</td>\n",
              "      <td>0</td>\n",
              "      <td>@jessedee know @fludapp awesome ipad iphone ap...</td>\n",
              "    </tr>\n",
              "    <tr>\n",
              "      <th>2</th>\n",
              "      <td>@swonderlin can not wait for #ipad 2 also. the...</td>\n",
              "      <td>ipad</td>\n",
              "      <td>positive</td>\n",
              "      <td>79</td>\n",
              "      <td>15</td>\n",
              "      <td>0</td>\n",
              "      <td>1</td>\n",
              "      <td>1</td>\n",
              "      <td>2</td>\n",
              "      <td>4.333333</td>\n",
              "      <td>0</td>\n",
              "      <td>@swonderlin wait #ipad 2 also sale #sxsw</td>\n",
              "    </tr>\n",
              "    <tr>\n",
              "      <th>3</th>\n",
              "      <td>@sxsw i hope this year's festival isn't as cra...</td>\n",
              "      <td>ipad or iphone app</td>\n",
              "      <td>negative</td>\n",
              "      <td>82</td>\n",
              "      <td>15</td>\n",
              "      <td>1</td>\n",
              "      <td>1</td>\n",
              "      <td>1</td>\n",
              "      <td>1</td>\n",
              "      <td>4.533333</td>\n",
              "      <td>0</td>\n",
              "      <td>@sxsw hope year festival crashy year iphone ap...</td>\n",
              "    </tr>\n",
              "    <tr>\n",
              "      <th>4</th>\n",
              "      <td>@sxtxstate great stuff on fri #sxsw: marissa m...</td>\n",
              "      <td>google</td>\n",
              "      <td>positive</td>\n",
              "      <td>131</td>\n",
              "      <td>17</td>\n",
              "      <td>0</td>\n",
              "      <td>0</td>\n",
              "      <td>1</td>\n",
              "      <td>1</td>\n",
              "      <td>6.764706</td>\n",
              "      <td>0</td>\n",
              "      <td>@sxtxstate great stuff fri #sxsw marissa mayer...</td>\n",
              "    </tr>\n",
              "  </tbody>\n",
              "</table>\n",
              "</div>"
            ],
            "text/plain": [
              "                                               tweet tweet_is_directed_at  \\\n",
              "0  .@wesley83 i have a 3g iphone. after 3 hrs twe...               iphone   \n",
              "1  @jessedee know about @fludapp ? awesome ipad/i...   ipad or iphone app   \n",
              "2  @swonderlin can not wait for #ipad 2 also. the...                 ipad   \n",
              "3  @sxsw i hope this year's festival isn't as cra...   ipad or iphone app   \n",
              "4  @sxtxstate great stuff on fri #sxsw: marissa m...               google   \n",
              "\n",
              "    emotion  character_count  word_count  is_tweet_negative  is_apple  \\\n",
              "0  negative              127          23                  1         1   \n",
              "1  positive              139          22                  0         1   \n",
              "2  positive               79          15                  0         1   \n",
              "3  negative               82          15                  1         1   \n",
              "4  positive              131          17                  0         0   \n",
              "\n",
              "   number_of_mentions  hashtags_count  average_word_length  chatgpt_data  \\\n",
              "0                   1               2             4.521739             0   \n",
              "1                   2               1             5.363636             0   \n",
              "2                   1               2             4.333333             0   \n",
              "3                   1               1             4.533333             0   \n",
              "4                   1               1             6.764706             0   \n",
              "\n",
              "                                     processed_tweet  \n",
              "0  @wesley83 3g iphone 3 hr tweeting #rise_austin...  \n",
              "1  @jessedee know @fludapp awesome ipad iphone ap...  \n",
              "2           @swonderlin wait #ipad 2 also sale #sxsw  \n",
              "3  @sxsw hope year festival crashy year iphone ap...  \n",
              "4  @sxtxstate great stuff fri #sxsw marissa mayer...  "
            ]
          },
          "execution_count": 73,
          "metadata": {},
          "output_type": "execute_result"
        }
      ],
      "source": [
        "df.head()"
      ]
    },
    {
      "cell_type": "code",
      "execution_count": 74,
      "metadata": {},
      "outputs": [],
      "source": [
        "# Function to fit model and print classification report.\n",
        "def model_tester(model, X_train=X_train, y_train=y_train):\n",
        "    model.fit(X_train, y_train)\n",
        "    print(classification_report(y_test, model.predict(X_test)))"
      ]
    },
    {
      "cell_type": "code",
      "execution_count": 75,
      "metadata": {},
      "outputs": [],
      "source": [
        "# Function to perform grid search and print classification report for best parameters.\n",
        "def model_best_param_tester(model, params, X_train=X_train, y_train=y_train):\n",
        "    gridsearch=GridSearchCV(model, param_grid=params)\n",
        "    gridsearch.fit(X_train, y_train)\n",
        "    print(gridsearch.best_params_)\n",
        "    return model_tester(gridsearch.best_estimator_)"
      ]
    },
    {
      "cell_type": "code",
      "execution_count": 76,
      "metadata": {},
      "outputs": [],
      "source": [
        "#Initializing the models we will test out.\n",
        "logreg=LogisticRegression()\n",
        "bayes=MultinomialNB()\n",
        "dtc=DecisionTreeClassifier()\n",
        "rfc=RandomForestClassifier()\n",
        "xg=xgb.XGBClassifier()"
      ]
    },
    {
      "cell_type": "markdown",
      "metadata": {},
      "source": [
        "We will examine each model with its optimal parameters to see how it performs on our target metric, precision. "
      ]
    },
    {
      "cell_type": "code",
      "execution_count": 77,
      "metadata": {},
      "outputs": [
        {
          "name": "stdout",
          "output_type": "stream",
          "text": [
            "{'C': 1, 'solver': 'lbfgs'}\n",
            "              precision    recall  f1-score   support\n",
            "\n",
            "           0       0.59      0.44      0.50       588\n",
            "           1       0.93      0.81      0.87       590\n",
            "           2       0.66      0.83      0.74       966\n",
            "\n",
            "    accuracy                           0.71      2144\n",
            "   macro avg       0.73      0.69      0.70      2144\n",
            "weighted avg       0.72      0.71      0.71      2144\n",
            "\n"
          ]
        }
      ],
      "source": [
        "model_best_param_tester(logreg, {'C': [0.01, 0.1, 1, 10], 'solver': ['lbfgs', 'liblinear', 'newton-cg']})"
      ]
    },
    {
      "cell_type": "code",
      "execution_count": 78,
      "metadata": {},
      "outputs": [
        {
          "name": "stdout",
          "output_type": "stream",
          "text": [
            "{'alpha': 1, 'fit_prior': True}\n",
            "              precision    recall  f1-score   support\n",
            "\n",
            "           0       0.61      0.36      0.45       588\n",
            "           1       0.92      0.77      0.84       590\n",
            "           2       0.64      0.86      0.73       966\n",
            "\n",
            "    accuracy                           0.70      2144\n",
            "   macro avg       0.72      0.67      0.68      2144\n",
            "weighted avg       0.71      0.70      0.69      2144\n",
            "\n"
          ]
        }
      ],
      "source": [
        "model_best_param_tester(bayes, {'fit_prior': [True, False], 'alpha': [0.001, 0.01, 0.1, 1]})"
      ]
    },
    {
      "cell_type": "code",
      "execution_count": 79,
      "metadata": {},
      "outputs": [
        {
          "name": "stdout",
          "output_type": "stream",
          "text": [
            "{'max_depth': 2, 'max_features': 4}\n",
            "              precision    recall  f1-score   support\n",
            "\n",
            "           0       0.00      0.00      0.00       588\n",
            "           1       0.62      0.03      0.06       590\n",
            "           2       0.46      1.00      0.63       966\n",
            "\n",
            "    accuracy                           0.46      2144\n",
            "   macro avg       0.36      0.34      0.23      2144\n",
            "weighted avg       0.38      0.46      0.30      2144\n",
            "\n"
          ]
        }
      ],
      "source": [
        "model_best_param_tester(dtc, {'max_depth': [1,2,3,4,5], 'max_features': [1,2,3,4]})"
      ]
    },
    {
      "cell_type": "code",
      "execution_count": 80,
      "metadata": {},
      "outputs": [
        {
          "name": "stdout",
          "output_type": "stream",
          "text": [
            "{'criterion': 'gini', 'max_features': 1, 'n_estimators': 150}\n",
            "              precision    recall  f1-score   support\n",
            "\n",
            "           0       0.62      0.40      0.49       588\n",
            "           1       0.93      0.83      0.88       590\n",
            "           2       0.66      0.84      0.74       966\n",
            "\n",
            "    accuracy                           0.72      2144\n",
            "   macro avg       0.74      0.69      0.70      2144\n",
            "weighted avg       0.72      0.72      0.71      2144\n",
            "\n"
          ]
        }
      ],
      "source": [
        "model_best_param_tester(rfc, {'n_estimators': [100, 150], 'max_features': [1,'sqrt', 'log2'], 'criterion': ['gini', 'entropy']})"
      ]
    },
    {
      "cell_type": "code",
      "execution_count": 81,
      "metadata": {},
      "outputs": [
        {
          "name": "stdout",
          "output_type": "stream",
          "text": [
            "{'booster': 'gbtree'}\n",
            "              precision    recall  f1-score   support\n",
            "\n",
            "           0       0.60      0.40      0.48       588\n",
            "           1       0.96      0.81      0.88       590\n",
            "           2       0.66      0.86      0.74       966\n",
            "\n",
            "    accuracy                           0.72      2144\n",
            "   macro avg       0.74      0.69      0.70      2144\n",
            "weighted avg       0.72      0.72      0.71      2144\n",
            "\n"
          ]
        }
      ],
      "source": [
        "model_best_param_tester(xg, {'booster': ['gbtree', 'gblinear' 'dart']})"
      ]
    },
    {
      "cell_type": "markdown",
      "metadata": {},
      "source": [
        "The Gradient Boosting Classifier with default parameters has the best performance of all the models examined."
      ]
    }
  ],
  "metadata": {
    "colab": {
      "provenance": []
    },
    "kernelspec": {
      "display_name": "Python 3",
      "name": "python3"
    },
    "language_info": {
      "codemirror_mode": {
        "name": "ipython",
        "version": 3
      },
      "file_extension": ".py",
      "mimetype": "text/x-python",
      "name": "python",
      "nbconvert_exporter": "python",
      "pygments_lexer": "ipython3",
      "version": "3.8.5"
    }
  },
  "nbformat": 4,
  "nbformat_minor": 0
}
