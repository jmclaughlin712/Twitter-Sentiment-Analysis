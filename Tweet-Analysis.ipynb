{
  "cells": [
    {
      "cell_type": "code",
      "execution_count": 185,
      "metadata": {
        "id": "Kz53SjuF1PSI"
      },
      "outputs": [],
      "source": [
        "# Data handling and computation\n",
        "import pandas as pd\n",
        "import numpy as np\n",
        "\n",
        "# Data visualization\n",
        "import matplotlib.pyplot as plt\n",
        "import seaborn as sns\n",
        "\n",
        "# Data preprocessing\n",
        "from sklearn.preprocessing import StandardScaler, OneHotEncoder, LabelEncoder\n",
        "from sklearn.compose import ColumnTransformer\n",
        "from sklearn.feature_extraction.text import TfidfVectorizer\n",
        "from sklearn.naive_bayes import MultinomialNB\n",
        "from imblearn.over_sampling import SMOTE\n",
        "\n",
        "# Model selection and validation\n",
        "from sklearn.model_selection import train_test_split, cross_val_score, GridSearchCV\n",
        "from sklearn.linear_model import LogisticRegression\n",
        "from sklearn.tree import DecisionTreeClassifier\n",
        "from sklearn.ensemble import RandomForestClassifier, VotingClassifier\n",
        "import xgboost as xgb\n",
        "\n",
        "# Pipeline library for efficient workflow\n",
        "from sklearn.pipeline import Pipeline, make_pipeline\n",
        "\n",
        "# Metrics libraries for evaluating model performance\n",
        "from sklearn.metrics import mean_absolute_error, mean_squared_error, classification_report, roc_curve, auc, accuracy_score, confusion_matrix, precision_score\n",
        "from sklearn import metrics\n",
        "\n",
        "# Natural Language Toolkit\n",
        "import nltk\n",
        "from nltk.corpus import stopwords\n",
        "from nltk.tokenize import word_tokenize\n",
        "from nltk.stem import WordNetLemmatizer\n",
        "import re\n",
        "\n",
        "# Ignore warning messages\n",
        "import warnings\n",
        "warnings.simplefilter(\"ignore\")"
      ]
    },
    {
      "cell_type": "code",
      "execution_count": 186,
      "metadata": {
        "id": "roEFZ9hY19cc"
      },
      "outputs": [],
      "source": [
        "# Read in data locally\n",
        "df = pd.read_csv('data/Tweets.csv', encoding='latin1')\n",
        "\n",
        "# Read in data using google colab/drive\n",
        "#df = pd.read_csv('/content/drive/MyDrive/Flatiron/project_4/tweets.csv', encoding='latin1')"
      ]
    },
    {
      "cell_type": "code",
      "execution_count": 187,
      "metadata": {
        "colab": {
          "base_uri": "https://localhost:8080/"
        },
        "id": "eYmCU4keipfe",
        "outputId": "fb2f3c6b-da9e-4908-8766-68c9641c5657"
      },
<<<<<<< HEAD
=======
      "execution_count": 9,
>>>>>>> c21e0f6a480190761cb999b0fd032fe1a09ec12e
      "outputs": [
        {
          "name": "stdout",
          "output_type": "stream",
          "text": [
            "Numerical Columns: \n",
            "[]\n",
            "\n",
            "Categorical Columns: \n",
<<<<<<< HEAD
            "['tweet_text', 'emotion_in_tweet_is_directed_at', 'is_there_an_emotion_directed_at_a_brand_or_product']\n"
=======
            "['tweet', 'tweet_is_directed_at', 'emotion']\n"
>>>>>>> c21e0f6a480190761cb999b0fd032fe1a09ec12e
          ]
        }
      ],
      "source": [
        "numerical_features = list(df.select_dtypes(\"number\"))\n",
        "categorical_features = list(df.select_dtypes(\"object\"))\n",
        "\n",
        "print(f'Numerical Columns: \\n{numerical_features}\\n')\n",
        "print(f'Categorical Columns: \\n{categorical_features}')"
      ]
    },
    {
      "cell_type": "markdown",
      "metadata": {
        "id": "vETEilA7ek6y"
      },
      "source": [
        "## EDA"
      ]
    },
    {
      "cell_type": "code",
      "execution_count": 188,
      "metadata": {
        "colab": {
          "base_uri": "https://localhost:8080/",
          "height": 565
        },
        "id": "m-i3ulV04RdU",
        "outputId": "5dc6f0ad-d4a3-4e7e-9d2b-67d642aff842"
      },
<<<<<<< HEAD
=======
      "execution_count": 10,
>>>>>>> c21e0f6a480190761cb999b0fd032fe1a09ec12e
      "outputs": [
        {
          "data": {
            "text/html": [
<<<<<<< HEAD
              "<div>\n",
=======
              "\n",
              "\n",
              "  <div id=\"df-6429af65-82cc-4dd1-aaed-45da0b4a6866\">\n",
              "    <div class=\"colab-df-container\">\n",
              "      <div>\n",
>>>>>>> c21e0f6a480190761cb999b0fd032fe1a09ec12e
              "<style scoped>\n",
              "    .dataframe tbody tr th:only-of-type {\n",
              "        vertical-align: middle;\n",
              "    }\n",
              "\n",
              "    .dataframe tbody tr th {\n",
              "        vertical-align: top;\n",
              "    }\n",
              "\n",
              "    .dataframe thead th {\n",
              "        text-align: right;\n",
              "    }\n",
              "</style>\n",
              "<table border=\"1\" class=\"dataframe\">\n",
              "  <thead>\n",
              "    <tr style=\"text-align: right;\">\n",
              "      <th></th>\n",
              "      <th>tweet_text</th>\n",
              "      <th>emotion_in_tweet_is_directed_at</th>\n",
              "      <th>is_there_an_emotion_directed_at_a_brand_or_product</th>\n",
              "    </tr>\n",
              "  </thead>\n",
              "  <tbody>\n",
              "    <tr>\n",
              "      <th>0</th>\n",
              "      <td>.@wesley83 I have a 3G iPhone. After 3 hrs twe...</td>\n",
              "      <td>iPhone</td>\n",
              "      <td>Negative emotion</td>\n",
              "    </tr>\n",
              "    <tr>\n",
              "      <th>1</th>\n",
              "      <td>@jessedee Know about @fludapp ? Awesome iPad/i...</td>\n",
              "      <td>iPad or iPhone App</td>\n",
              "      <td>Positive emotion</td>\n",
              "    </tr>\n",
              "    <tr>\n",
              "      <th>2</th>\n",
              "      <td>@swonderlin Can not wait for #iPad 2 also. The...</td>\n",
              "      <td>iPad</td>\n",
              "      <td>Positive emotion</td>\n",
              "    </tr>\n",
              "    <tr>\n",
              "      <th>3</th>\n",
              "      <td>@sxsw I hope this year's festival isn't as cra...</td>\n",
              "      <td>iPad or iPhone App</td>\n",
              "      <td>Negative emotion</td>\n",
              "    </tr>\n",
              "    <tr>\n",
              "      <th>4</th>\n",
              "      <td>@sxtxstate great stuff on Fri #SXSW: Marissa M...</td>\n",
              "      <td>Google</td>\n",
              "      <td>Positive emotion</td>\n",
              "    </tr>\n",
              "  </tbody>\n",
              "</table>\n",
<<<<<<< HEAD
              "</div>"
            ],
            "text/plain": [
              "                                          tweet_text  \\\n",
              "0  .@wesley83 I have a 3G iPhone. After 3 hrs twe...   \n",
              "1  @jessedee Know about @fludapp ? Awesome iPad/i...   \n",
              "2  @swonderlin Can not wait for #iPad 2 also. The...   \n",
              "3  @sxsw I hope this year's festival isn't as cra...   \n",
              "4  @sxtxstate great stuff on Fri #SXSW: Marissa M...   \n",
=======
              "</div>\n",
              "      <button class=\"colab-df-convert\" onclick=\"convertToInteractive('df-6429af65-82cc-4dd1-aaed-45da0b4a6866')\"\n",
              "              title=\"Convert this dataframe to an interactive table.\"\n",
              "              style=\"display:none;\">\n",
>>>>>>> c21e0f6a480190761cb999b0fd032fe1a09ec12e
              "\n",
              "  emotion_in_tweet_is_directed_at  \\\n",
              "0                          iPhone   \n",
              "1              iPad or iPhone App   \n",
              "2                            iPad   \n",
              "3              iPad or iPhone App   \n",
              "4                          Google   \n",
              "\n",
<<<<<<< HEAD
              "  is_there_an_emotion_directed_at_a_brand_or_product  \n",
              "0                                   Negative emotion  \n",
              "1                                   Positive emotion  \n",
              "2                                   Positive emotion  \n",
              "3                                   Negative emotion  \n",
              "4                                   Positive emotion  "
=======
              "\n",
              "\n",
              "    <div id=\"df-ff6b06c1-280a-4d02-b76d-5ca0e9f034fd\">\n",
              "      <button class=\"colab-df-quickchart\" onclick=\"quickchart('df-ff6b06c1-280a-4d02-b76d-5ca0e9f034fd')\"\n",
              "              title=\"Suggest charts.\"\n",
              "              style=\"display:none;\">\n",
              "\n",
              "<svg xmlns=\"http://www.w3.org/2000/svg\" height=\"24px\"viewBox=\"0 0 24 24\"\n",
              "     width=\"24px\">\n",
              "    <g>\n",
              "        <path d=\"M19 3H5c-1.1 0-2 .9-2 2v14c0 1.1.9 2 2 2h14c1.1 0 2-.9 2-2V5c0-1.1-.9-2-2-2zM9 17H7v-7h2v7zm4 0h-2V7h2v10zm4 0h-2v-4h2v4z\"/>\n",
              "    </g>\n",
              "</svg>\n",
              "      </button>\n",
              "    </div>\n",
              "\n",
              "<style>\n",
              "  .colab-df-quickchart {\n",
              "    background-color: #E8F0FE;\n",
              "    border: none;\n",
              "    border-radius: 50%;\n",
              "    cursor: pointer;\n",
              "    display: none;\n",
              "    fill: #1967D2;\n",
              "    height: 32px;\n",
              "    padding: 0 0 0 0;\n",
              "    width: 32px;\n",
              "  }\n",
              "\n",
              "  .colab-df-quickchart:hover {\n",
              "    background-color: #E2EBFA;\n",
              "    box-shadow: 0px 1px 2px rgba(60, 64, 67, 0.3), 0px 1px 3px 1px rgba(60, 64, 67, 0.15);\n",
              "    fill: #174EA6;\n",
              "  }\n",
              "\n",
              "  [theme=dark] .colab-df-quickchart {\n",
              "    background-color: #3B4455;\n",
              "    fill: #D2E3FC;\n",
              "  }\n",
              "\n",
              "  [theme=dark] .colab-df-quickchart:hover {\n",
              "    background-color: #434B5C;\n",
              "    box-shadow: 0px 1px 3px 1px rgba(0, 0, 0, 0.15);\n",
              "    filter: drop-shadow(0px 1px 2px rgba(0, 0, 0, 0.3));\n",
              "    fill: #FFFFFF;\n",
              "  }\n",
              "</style>\n",
              "\n",
              "    <script>\n",
              "      async function quickchart(key) {\n",
              "        const containerElement = document.querySelector('#' + key);\n",
              "        const charts = await google.colab.kernel.invokeFunction(\n",
              "            'suggestCharts', [key], {});\n",
              "      }\n",
              "    </script>\n",
              "\n",
              "      <script>\n",
              "\n",
              "function displayQuickchartButton(domScope) {\n",
              "  let quickchartButtonEl =\n",
              "    domScope.querySelector('#df-ff6b06c1-280a-4d02-b76d-5ca0e9f034fd button.colab-df-quickchart');\n",
              "  quickchartButtonEl.style.display =\n",
              "    google.colab.kernel.accessAllowed ? 'block' : 'none';\n",
              "}\n",
              "\n",
              "        displayQuickchartButton(document);\n",
              "      </script>\n",
              "      <style>\n",
              "    .colab-df-container {\n",
              "      display:flex;\n",
              "      flex-wrap:wrap;\n",
              "      gap: 12px;\n",
              "    }\n",
              "\n",
              "    .colab-df-convert {\n",
              "      background-color: #E8F0FE;\n",
              "      border: none;\n",
              "      border-radius: 50%;\n",
              "      cursor: pointer;\n",
              "      display: none;\n",
              "      fill: #1967D2;\n",
              "      height: 32px;\n",
              "      padding: 0 0 0 0;\n",
              "      width: 32px;\n",
              "    }\n",
              "\n",
              "    .colab-df-convert:hover {\n",
              "      background-color: #E2EBFA;\n",
              "      box-shadow: 0px 1px 2px rgba(60, 64, 67, 0.3), 0px 1px 3px 1px rgba(60, 64, 67, 0.15);\n",
              "      fill: #174EA6;\n",
              "    }\n",
              "\n",
              "    [theme=dark] .colab-df-convert {\n",
              "      background-color: #3B4455;\n",
              "      fill: #D2E3FC;\n",
              "    }\n",
              "\n",
              "    [theme=dark] .colab-df-convert:hover {\n",
              "      background-color: #434B5C;\n",
              "      box-shadow: 0px 1px 3px 1px rgba(0, 0, 0, 0.15);\n",
              "      filter: drop-shadow(0px 1px 2px rgba(0, 0, 0, 0.3));\n",
              "      fill: #FFFFFF;\n",
              "    }\n",
              "  </style>\n",
              "\n",
              "      <script>\n",
              "        const buttonEl =\n",
              "          document.querySelector('#df-6429af65-82cc-4dd1-aaed-45da0b4a6866 button.colab-df-convert');\n",
              "        buttonEl.style.display =\n",
              "          google.colab.kernel.accessAllowed ? 'block' : 'none';\n",
              "\n",
              "        async function convertToInteractive(key) {\n",
              "          const element = document.querySelector('#df-6429af65-82cc-4dd1-aaed-45da0b4a6866');\n",
              "          const dataTable =\n",
              "            await google.colab.kernel.invokeFunction('convertToInteractive',\n",
              "                                                     [key], {});\n",
              "          if (!dataTable) return;\n",
              "\n",
              "          const docLinkHtml = 'Like what you see? Visit the ' +\n",
              "            '<a target=\"_blank\" href=https://colab.research.google.com/notebooks/data_table.ipynb>data table notebook</a>'\n",
              "            + ' to learn more about interactive tables.';\n",
              "          element.innerHTML = '';\n",
              "          dataTable['output_type'] = 'display_data';\n",
              "          await google.colab.output.renderOutput(dataTable, element);\n",
              "          const docLink = document.createElement('div');\n",
              "          docLink.innerHTML = docLinkHtml;\n",
              "          element.appendChild(docLink);\n",
              "        }\n",
              "      </script>\n",
              "    </div>\n",
              "  </div>\n"
>>>>>>> c21e0f6a480190761cb999b0fd032fe1a09ec12e
            ]
          },
          "execution_count": 188,
          "metadata": {},
<<<<<<< HEAD
          "output_type": "execute_result"
=======
          "execution_count": 10
>>>>>>> c21e0f6a480190761cb999b0fd032fe1a09ec12e
        }
      ],
      "source": [
        "df.head()"
      ]
    },
    {
      "cell_type": "code",
      "execution_count": 189,
      "metadata": {
        "colab": {
          "base_uri": "https://localhost:8080/"
        },
        "id": "yHt98QNp5MoC",
        "outputId": "0c49b4d8-dc48-4480-e5f2-b2b964011a5a"
      },
<<<<<<< HEAD
=======
      "execution_count": 19,
>>>>>>> c21e0f6a480190761cb999b0fd032fe1a09ec12e
      "outputs": [
        {
          "name": "stdout",
          "output_type": "stream",
          "text": [
            "<class 'pandas.core.frame.DataFrame'>\n",
<<<<<<< HEAD
            "RangeIndex: 9093 entries, 0 to 9092\n",
            "Data columns (total 3 columns):\n",
            " #   Column                                              Non-Null Count  Dtype \n",
            "---  ------                                              --------------  ----- \n",
            " 0   tweet_text                                          9092 non-null   object\n",
            " 1   emotion_in_tweet_is_directed_at                     3291 non-null   object\n",
            " 2   is_there_an_emotion_directed_at_a_brand_or_product  9093 non-null   object\n",
            "dtypes: object(3)\n",
            "memory usage: 213.2+ KB\n"
=======
            "RangeIndex: 10720 entries, 0 to 10719\n",
            "Data columns (total 11 columns):\n",
            " #   Column                Non-Null Count  Dtype  \n",
            "---  ------                --------------  -----  \n",
            " 0   tweet                 10720 non-null  object \n",
            " 1   tweet_is_directed_at  5642 non-null   object \n",
            " 2   emotion               10720 non-null  object \n",
            " 3   character_count       10720 non-null  int64  \n",
            " 4   word_count            10720 non-null  int64  \n",
            " 5   is_tweet_negative     10720 non-null  int64  \n",
            " 6   is_apple              10720 non-null  Int64  \n",
            " 7   number_of_mentions    10720 non-null  int64  \n",
            " 8   hashtags_count        10720 non-null  int64  \n",
            " 9   average_word_length   10720 non-null  float64\n",
            " 10  chatgpt_data          10720 non-null  int64  \n",
            "dtypes: Int64(1), float64(1), int64(6), object(3)\n",
            "memory usage: 931.8+ KB\n"
>>>>>>> c21e0f6a480190761cb999b0fd032fe1a09ec12e
          ]
        }
      ],
      "source": [
        "df.info()"
      ]
    },
    {
      "cell_type": "code",
      "execution_count": 190,
      "metadata": {
        "colab": {
          "base_uri": "https://localhost:8080/"
        },
        "id": "qRbAU0Vo5cTJ",
        "outputId": "2f7ba023-b204-4acd-9ad3-4e06d20a8746"
      },
      "outputs": [
        {
          "data": {
            "text/plain": [
              "is_there_an_emotion_directed_at_a_brand_or_product       4\n",
              "emotion_in_tweet_is_directed_at                          9\n",
              "tweet_text                                            9065\n",
              "dtype: int64"
            ]
          },
          "execution_count": 190,
          "metadata": {},
          "output_type": "execute_result"
        }
      ],
      "source": [
        "df.nunique().sort_values(ascending=True)"
      ]
    },
    {
      "cell_type": "code",
      "execution_count": 191,
      "metadata": {
        "colab": {
          "base_uri": "https://localhost:8080/"
        },
        "id": "8AbtMd1_gFJx",
        "outputId": "42dc4906-deb1-421d-8f5e-5951f30b0023"
      },
      "outputs": [
        {
          "data": {
            "text/plain": [
              "emotion_in_tweet_is_directed_at                       5802\n",
              "tweet_text                                               1\n",
              "is_there_an_emotion_directed_at_a_brand_or_product       0\n",
              "dtype: int64"
            ]
          },
          "execution_count": 191,
          "metadata": {},
          "output_type": "execute_result"
        }
      ],
      "source": [
        "df.isna().sum().sort_values(ascending=False)"
      ]
    },
    {
      "cell_type": "code",
      "execution_count": 192,
      "metadata": {
        "colab": {
          "base_uri": "https://localhost:8080/",
          "height": 369
        },
        "id": "03RYTBKOSs42",
        "outputId": "5c2fb3e5-f0d5-4b8d-a20b-b45af1d164ff"
      },
      "outputs": [
        {
          "data": {
            "text/html": [
              "<div>\n",
              "<style scoped>\n",
              "    .dataframe tbody tr th:only-of-type {\n",
              "        vertical-align: middle;\n",
              "    }\n",
              "\n",
              "    .dataframe tbody tr th {\n",
              "        vertical-align: top;\n",
              "    }\n",
              "\n",
              "    .dataframe thead th {\n",
              "        text-align: right;\n",
              "    }\n",
              "</style>\n",
              "<table border=\"1\" class=\"dataframe\">\n",
              "  <thead>\n",
              "    <tr style=\"text-align: right;\">\n",
              "      <th></th>\n",
              "    </tr>\n",
              "  </thead>\n",
              "  <tbody>\n",
              "  </tbody>\n",
              "</table>\n",
              "</div>"
            ],
            "text/plain": [
              "Empty DataFrame\n",
              "Columns: []\n",
              "Index: []"
            ]
          },
          "execution_count": 192,
          "metadata": {},
          "output_type": "execute_result"
        }
      ],
      "source": [
        "df.corr()"
      ]
    },
    {
      "cell_type": "markdown",
      "metadata": {
        "id": "t16P1R4Meod6"
      },
      "source": [
        "\n",
        "## Data Cleaning"
      ]
    },
    {
      "cell_type": "code",
      "execution_count": 193,
      "metadata": {
        "id": "5UM7zONye4az"
      },
      "outputs": [],
      "source": [
        "# Lowercase\n",
        "df = df.applymap(lambda s:s.lower() if type(s) == str else s)\n",
        "\n",
        "# Renaming columns to better reflect the data\n",
        "rename_cols = {\n",
        "      'tweet_text': 'tweet',\n",
        "      'emotion_in_tweet_is_directed_at': 'tweet_is_directed_at',\n",
        "      'is_there_an_emotion_directed_at_a_brand_or_product': 'emotion'\n",
        "              }\n",
        "df = df.rename(columns=rename_cols)\n",
        "\n",
        "\n",
        "# rename values in the 'emotion' column\n",
        "rename_values = {\n",
        "      'no emotion toward brand or product': 'no emotion',\n",
        "      'positive emotion': 'positive',\n",
        "      'negative emotion': 'negative',\n",
        "      \"i can't tell\": 'unsure'\n",
        "              }\n",
        "df['emotion'] = df['emotion'].map(rename_values)\n",
        "\n",
        "# Dropping (1) single row from df['tweet_text']\n",
        "df.dropna(subset=['tweet'], inplace=True)\n",
        "\n",
        "\n",
        "# Filter out 17 tweets that contain both Apple & Google\n",
        "apple_and_google = ~((df['tweet_is_directed_at'].isna()) &\n",
        "                   (df['tweet'].str.contains('google')) &\n",
        "                   (df['tweet'].str.contains('apple')))\n",
        "df = df[apple_and_google]\n",
        "\n",
        "\n",
        "\n",
        "## Create assert statements to confirm the code achieved its goals:\n",
        "\n",
        "assert df.loc[(df['tweet_is_directed_at'].isna()) & (df['tweet'].str.contains('google')) & (df['tweet'].str.contains('apple')), 'tweet'].empty\n"
<<<<<<< HEAD
      ]
=======
      ],
      "metadata": {
        "id": "5UM7zONye4az"
      },
      "execution_count": 6,
      "outputs": []
>>>>>>> c21e0f6a480190761cb999b0fd032fe1a09ec12e
    },
    {
      "cell_type": "markdown",
      "metadata": {
        "id": "0Ot2nCoomxvf"
      },
      "source": [
        "## Feature Engineering"
      ]
    },
    {
      "cell_type": "code",
      "execution_count": 194,
      "metadata": {
        "id": "Zg4bNV_Cmjwr"
      },
      "outputs": [],
      "source": [
        "# Create column of with the character length of the tweet\n",
        "df['character_count'] = df['tweet'].apply(len)\n",
        "\n",
        "\n",
        "# Create column of with the word count of the tweet\n",
        "df['word_count'] = df['tweet'].apply(lambda x: len(str(x).split()))\n",
        "\n",
        "\n",
        "# Creat column to determine if the tweet was negative toward a brand or not\n",
        "df['is_tweet_negative'] = df['emotion'].apply(lambda x: 1 if x == 'negative' else 0 if x == 'positive' else 2)\n",
        "\n",
        "# What company is the tweet about?\n",
        "renamed_values = {\n",
        "      'ipad': 1, 'ipad or iphone app': 1,\n",
        "      'iphone': 1, 'other google product or service': 0,\n",
        "      'android app': 0, 'android': 0, 'google': 0,\n",
        "      'other apple product or service': 1, 'apple': 1,\n",
        "                 }\n",
        "df['is_apple'] = df['tweet_is_directed_at'].map(renamed_values).astype('Int64')\n",
        "\n",
        "\n",
        "# Creating a feature call 'number_of_mentions' to count @mentions\n",
        "df['number_of_mentions'] = df['tweet'].str.count('@\\w+')\n",
        "\n",
        "\n",
        "# Create a feature 'hashtags_count' to count hashtags\n",
        "df['hashtags_count'] = df['tweet'].str.count('#')\n",
        "\n",
        "\n",
        "# Create feature named 'average_word_length'\n",
        "df['average_word_length'] = df['tweet'].apply(lambda x: np.mean([len(word) for word in x.split()]))\n",
        "\n",
        "# Adding column to tell if data was generated by chatgpt data\n",
        "df['chatgpt_data'] = 0\n"
<<<<<<< HEAD
      ]
=======
      ],
      "metadata": {
        "id": "Zg4bNV_Cmjwr"
      },
      "execution_count": 7,
      "outputs": []
>>>>>>> c21e0f6a480190761cb999b0fd032fe1a09ec12e
    },
    {
      "cell_type": "markdown",
      "metadata": {
        "id": "lmV1_oDmVn1J"
      },
      "source": [
        "## Data Filtering"
      ]
    },
    {
      "cell_type": "code",
      "execution_count": 195,
      "metadata": {
        "id": "Wsbk8FprVnh3"
      },
      "outputs": [],
      "source": [
        "# Assigning unknown tweet to company based on 'apple_words'\n",
        "apple_words = ['apple', 'iphone','ipod','ipad', 'i-pad', 'app store', 'itunes']\n",
        "apple_regex = '|'.join(apple_words)  # creates the string 'apple|iphone|ipod|ipad|i-pad'\n",
        "\n",
        "df.loc[(df['is_apple'].isna()) & df['tweet'].str.contains(apple_regex, case=False), 'is_apple'] = 1\n",
        "\n",
        "\n",
        "# Assigning unknown tweet to company based on 'google_words'\n",
        "google_words = ['google', 'android','pixel', 'google play']\n",
        "google_regex = '|'.join(google_words)  # creates the string 'google|android|pixel|google play'\n",
        "\n",
        "df.loc[(df['is_apple'].isna()) & df['tweet'].str.contains(google_regex, case=False), 'is_apple'] = 0\n",
        "\n",
        "\n",
        "# Dropping tweets that have no mention of either Apple or Google\n",
        "df.dropna(subset=['is_apple'], inplace=True)\n",
        "\n",
        "\n",
        "# Drop the column 'tweet_is_directed_at' due to many missing values\n",
        "#df = df.drop(columns=['tweet_is_directed_at'])"
<<<<<<< HEAD
      ]
=======
      ],
      "metadata": {
        "id": "Wsbk8FprVnh3"
      },
      "execution_count": 8,
      "outputs": []
>>>>>>> c21e0f6a480190761cb999b0fd032fe1a09ec12e
    },
    {
      "cell_type": "code",
      "execution_count": 196,
      "metadata": {
        "colab": {
          "base_uri": "https://localhost:8080/"
        },
        "id": "vRl8yyig_yX5",
        "outputId": "bed3fb1f-0847-4197-ff36-79b731a8b449"
      },
      "outputs": [
        {
          "data": {
            "text/plain": [
              "1    5567\n",
              "0    2802\n",
              "Name: is_apple, dtype: Int64"
            ]
          },
          "execution_count": 196,
          "metadata": {},
          "output_type": "execute_result"
        }
      ],
      "source": [
        "df['is_apple'].value_counts()"
      ]
    },
    {
      "cell_type": "code",
      "execution_count": 197,
      "metadata": {
        "colab": {
          "base_uri": "https://localhost:8080/"
        },
        "id": "voFLUkvS8ESg",
        "outputId": "1e15fb5c-d664-4e03-b943-59873be03791"
      },
      "outputs": [
        {
          "data": {
            "text/plain": [
              "2    4833\n",
              "0    2967\n",
              "1     569\n",
              "Name: is_tweet_negative, dtype: int64"
            ]
          },
          "execution_count": 197,
          "metadata": {},
          "output_type": "execute_result"
        }
      ],
      "source": [
        "df['is_tweet_negative'].value_counts()"
      ]
    },
    {
      "cell_type": "markdown",
      "metadata": {
        "id": "IbWY-vsgKw6q"
      },
      "source": [
        "## Import and Join Negative Tweet Data (via ChatGPT prompt engineering)"
      ]
    },
    {
      "cell_type": "code",
      "execution_count": 198,
      "metadata": {
        "colab": {
          "base_uri": "https://localhost:8080/"
        },
        "id": "SvWMeQsFLgTs",
        "outputId": "bd910ee9-5d06-4060-a81e-d07d29f87da4"
      },
<<<<<<< HEAD
=======
      "execution_count": 12,
>>>>>>> c21e0f6a480190761cb999b0fd032fe1a09ec12e
      "outputs": [
        {
          "data": {
            "text/plain": [
              "2    4833\n",
              "0    2967\n",
              "1     569\n",
              "Name: is_tweet_negative, dtype: int64"
            ]
          },
          "execution_count": 198,
          "metadata": {},
<<<<<<< HEAD
          "output_type": "execute_result"
=======
          "execution_count": 12
>>>>>>> c21e0f6a480190761cb999b0fd032fe1a09ec12e
        }
      ],
      "source": [
        "df['is_tweet_negative'].value_counts()"
      ]
    },
    {
      "cell_type": "code",
      "execution_count": 199,
      "metadata": {
        "id": "ox6yFLL5K4ke"
      },
      "outputs": [],
      "source": [
        "# Read in data locally\n",
        "neg_tweets = pd.read_csv('data/chatgpt_tweet_data.csv')\n",
        "\n",
        "# Read in data using google colab/drive\n",
        "#neg_tweets = pd.read_csv('/content/drive/MyDrive/Flatiron/project_4/chatgpt_tweet_data.csv')\n",
        "\n",
        "# Lowercase\n",
        "neg_tweets = neg_tweets.applymap(lambda s:s.lower() if type(s) == str else s)\n",
        "\n",
        "# Adding column to tell if data was generated by chatgpt data\n",
        "neg_tweets['chatgpt_data'] = 1"
<<<<<<< HEAD
      ]
=======
      ],
      "metadata": {
        "id": "ox6yFLL5K4ke"
      },
      "execution_count": 13,
      "outputs": []
>>>>>>> c21e0f6a480190761cb999b0fd032fe1a09ec12e
    },
    {
      "cell_type": "code",
      "execution_count": 200,
      "metadata": {
        "colab": {
          "base_uri": "https://localhost:8080/",
          "height": 600
        },
        "id": "HhnB34QHPbcH",
        "outputId": "a2b856fd-926d-432d-b259-99bcd2d94428"
      },
<<<<<<< HEAD
=======
      "execution_count": 14,
>>>>>>> c21e0f6a480190761cb999b0fd032fe1a09ec12e
      "outputs": [
        {
          "data": {
            "text/html": [
<<<<<<< HEAD
              "<div>\n",
=======
              "\n",
              "\n",
              "  <div id=\"df-1f5a43ce-d57d-411f-9e4e-e69179786b07\">\n",
              "    <div class=\"colab-df-container\">\n",
              "      <div>\n",
>>>>>>> c21e0f6a480190761cb999b0fd032fe1a09ec12e
              "<style scoped>\n",
              "    .dataframe tbody tr th:only-of-type {\n",
              "        vertical-align: middle;\n",
              "    }\n",
              "\n",
              "    .dataframe tbody tr th {\n",
              "        vertical-align: top;\n",
              "    }\n",
              "\n",
              "    .dataframe thead th {\n",
              "        text-align: right;\n",
              "    }\n",
              "</style>\n",
              "<table border=\"1\" class=\"dataframe\">\n",
              "  <thead>\n",
              "    <tr style=\"text-align: right;\">\n",
              "      <th></th>\n",
              "      <th>tweet</th>\n",
              "      <th>tweet_is_directed_at</th>\n",
              "      <th>emotion</th>\n",
              "      <th>character_count</th>\n",
              "      <th>word_count</th>\n",
              "      <th>is_tweet_negative</th>\n",
              "      <th>is_apple</th>\n",
              "      <th>number_of_mentions</th>\n",
              "      <th>hashtags_count</th>\n",
              "      <th>average_word_length</th>\n",
              "      <th>chatgpt_data</th>\n",
              "    </tr>\n",
              "  </thead>\n",
              "  <tbody>\n",
              "    <tr>\n",
              "      <th>0</th>\n",
              "      <td>can't believe how slow the new iphone is!</td>\n",
              "      <td>apple</td>\n",
              "      <td>negative</td>\n",
              "      <td>37</td>\n",
              "      <td>8</td>\n",
              "      <td>1</td>\n",
              "      <td>1</td>\n",
              "      <td>0</td>\n",
              "      <td>0</td>\n",
              "      <td>4.6</td>\n",
              "      <td>1</td>\n",
              "    </tr>\n",
              "    <tr>\n",
              "      <th>1</th>\n",
              "      <td>google search results are so frustrating!</td>\n",
              "      <td>google</td>\n",
              "      <td>negative</td>\n",
              "      <td>37</td>\n",
              "      <td>6</td>\n",
              "      <td>1</td>\n",
              "      <td>0</td>\n",
              "      <td>0</td>\n",
              "      <td>0</td>\n",
              "      <td>6.2</td>\n",
              "      <td>1</td>\n",
              "    </tr>\n",
              "    <tr>\n",
              "      <th>2</th>\n",
              "      <td>the latest apple update crashed my device again!</td>\n",
              "      <td>apple</td>\n",
              "      <td>negative</td>\n",
              "      <td>45</td>\n",
              "      <td>9</td>\n",
              "      <td>1</td>\n",
              "      <td>1</td>\n",
              "      <td>0</td>\n",
              "      <td>0</td>\n",
              "      <td>4.8</td>\n",
              "      <td>1</td>\n",
              "    </tr>\n",
              "    <tr>\n",
              "      <th>3</th>\n",
              "      <td>i'm so disappointed with google's new feature.</td>\n",
              "      <td>google</td>\n",
              "      <td>negative</td>\n",
              "      <td>40</td>\n",
              "      <td>8</td>\n",
              "      <td>1</td>\n",
              "      <td>0</td>\n",
              "      <td>0</td>\n",
              "      <td>0</td>\n",
              "      <td>5.0</td>\n",
              "      <td>1</td>\n",
              "    </tr>\n",
              "    <tr>\n",
              "      <th>4</th>\n",
              "      <td>apple's customer service is a nightmare!</td>\n",
              "      <td>apple</td>\n",
              "      <td>negative</td>\n",
              "      <td>38</td>\n",
              "      <td>7</td>\n",
              "      <td>1</td>\n",
              "      <td>1</td>\n",
              "      <td>0</td>\n",
              "      <td>0</td>\n",
              "      <td>5.4</td>\n",
              "      <td>1</td>\n",
              "    </tr>\n",
              "  </tbody>\n",
              "</table>\n",
<<<<<<< HEAD
              "</div>"
            ],
            "text/plain": [
              "                                              tweet tweet_is_directed_at  \\\n",
              "0         can't believe how slow the new iphone is!                apple   \n",
              "1         google search results are so frustrating!               google   \n",
              "2  the latest apple update crashed my device again!                apple   \n",
              "3    i'm so disappointed with google's new feature.               google   \n",
              "4          apple's customer service is a nightmare!                apple   \n",
=======
              "</div>\n",
              "      <button class=\"colab-df-convert\" onclick=\"convertToInteractive('df-1f5a43ce-d57d-411f-9e4e-e69179786b07')\"\n",
              "              title=\"Convert this dataframe to an interactive table.\"\n",
              "              style=\"display:none;\">\n",
>>>>>>> c21e0f6a480190761cb999b0fd032fe1a09ec12e
              "\n",
              "    emotion  character_count  word_count  is_tweet_negative  is_apple  \\\n",
              "0  negative               37           8                  1         1   \n",
              "1  negative               37           6                  1         0   \n",
              "2  negative               45           9                  1         1   \n",
              "3  negative               40           8                  1         0   \n",
              "4  negative               38           7                  1         1   \n",
              "\n",
<<<<<<< HEAD
              "   number_of_mentions  hashtags_count  average_word_length  chatgpt_data  \n",
              "0                   0               0                  4.6             1  \n",
              "1                   0               0                  6.2             1  \n",
              "2                   0               0                  4.8             1  \n",
              "3                   0               0                  5.0             1  \n",
              "4                   0               0                  5.4             1  "
=======
              "\n",
              "\n",
              "    <div id=\"df-98d74c8a-8ee7-4863-8a39-810dd97c473e\">\n",
              "      <button class=\"colab-df-quickchart\" onclick=\"quickchart('df-98d74c8a-8ee7-4863-8a39-810dd97c473e')\"\n",
              "              title=\"Suggest charts.\"\n",
              "              style=\"display:none;\">\n",
              "\n",
              "<svg xmlns=\"http://www.w3.org/2000/svg\" height=\"24px\"viewBox=\"0 0 24 24\"\n",
              "     width=\"24px\">\n",
              "    <g>\n",
              "        <path d=\"M19 3H5c-1.1 0-2 .9-2 2v14c0 1.1.9 2 2 2h14c1.1 0 2-.9 2-2V5c0-1.1-.9-2-2-2zM9 17H7v-7h2v7zm4 0h-2V7h2v10zm4 0h-2v-4h2v4z\"/>\n",
              "    </g>\n",
              "</svg>\n",
              "      </button>\n",
              "    </div>\n",
              "\n",
              "<style>\n",
              "  .colab-df-quickchart {\n",
              "    background-color: #E8F0FE;\n",
              "    border: none;\n",
              "    border-radius: 50%;\n",
              "    cursor: pointer;\n",
              "    display: none;\n",
              "    fill: #1967D2;\n",
              "    height: 32px;\n",
              "    padding: 0 0 0 0;\n",
              "    width: 32px;\n",
              "  }\n",
              "\n",
              "  .colab-df-quickchart:hover {\n",
              "    background-color: #E2EBFA;\n",
              "    box-shadow: 0px 1px 2px rgba(60, 64, 67, 0.3), 0px 1px 3px 1px rgba(60, 64, 67, 0.15);\n",
              "    fill: #174EA6;\n",
              "  }\n",
              "\n",
              "  [theme=dark] .colab-df-quickchart {\n",
              "    background-color: #3B4455;\n",
              "    fill: #D2E3FC;\n",
              "  }\n",
              "\n",
              "  [theme=dark] .colab-df-quickchart:hover {\n",
              "    background-color: #434B5C;\n",
              "    box-shadow: 0px 1px 3px 1px rgba(0, 0, 0, 0.15);\n",
              "    filter: drop-shadow(0px 1px 2px rgba(0, 0, 0, 0.3));\n",
              "    fill: #FFFFFF;\n",
              "  }\n",
              "</style>\n",
              "\n",
              "    <script>\n",
              "      async function quickchart(key) {\n",
              "        const containerElement = document.querySelector('#' + key);\n",
              "        const charts = await google.colab.kernel.invokeFunction(\n",
              "            'suggestCharts', [key], {});\n",
              "      }\n",
              "    </script>\n",
              "\n",
              "      <script>\n",
              "\n",
              "function displayQuickchartButton(domScope) {\n",
              "  let quickchartButtonEl =\n",
              "    domScope.querySelector('#df-98d74c8a-8ee7-4863-8a39-810dd97c473e button.colab-df-quickchart');\n",
              "  quickchartButtonEl.style.display =\n",
              "    google.colab.kernel.accessAllowed ? 'block' : 'none';\n",
              "}\n",
              "\n",
              "        displayQuickchartButton(document);\n",
              "      </script>\n",
              "      <style>\n",
              "    .colab-df-container {\n",
              "      display:flex;\n",
              "      flex-wrap:wrap;\n",
              "      gap: 12px;\n",
              "    }\n",
              "\n",
              "    .colab-df-convert {\n",
              "      background-color: #E8F0FE;\n",
              "      border: none;\n",
              "      border-radius: 50%;\n",
              "      cursor: pointer;\n",
              "      display: none;\n",
              "      fill: #1967D2;\n",
              "      height: 32px;\n",
              "      padding: 0 0 0 0;\n",
              "      width: 32px;\n",
              "    }\n",
              "\n",
              "    .colab-df-convert:hover {\n",
              "      background-color: #E2EBFA;\n",
              "      box-shadow: 0px 1px 2px rgba(60, 64, 67, 0.3), 0px 1px 3px 1px rgba(60, 64, 67, 0.15);\n",
              "      fill: #174EA6;\n",
              "    }\n",
              "\n",
              "    [theme=dark] .colab-df-convert {\n",
              "      background-color: #3B4455;\n",
              "      fill: #D2E3FC;\n",
              "    }\n",
              "\n",
              "    [theme=dark] .colab-df-convert:hover {\n",
              "      background-color: #434B5C;\n",
              "      box-shadow: 0px 1px 3px 1px rgba(0, 0, 0, 0.15);\n",
              "      filter: drop-shadow(0px 1px 2px rgba(0, 0, 0, 0.3));\n",
              "      fill: #FFFFFF;\n",
              "    }\n",
              "  </style>\n",
              "\n",
              "      <script>\n",
              "        const buttonEl =\n",
              "          document.querySelector('#df-1f5a43ce-d57d-411f-9e4e-e69179786b07 button.colab-df-convert');\n",
              "        buttonEl.style.display =\n",
              "          google.colab.kernel.accessAllowed ? 'block' : 'none';\n",
              "\n",
              "        async function convertToInteractive(key) {\n",
              "          const element = document.querySelector('#df-1f5a43ce-d57d-411f-9e4e-e69179786b07');\n",
              "          const dataTable =\n",
              "            await google.colab.kernel.invokeFunction('convertToInteractive',\n",
              "                                                     [key], {});\n",
              "          if (!dataTable) return;\n",
              "\n",
              "          const docLinkHtml = 'Like what you see? Visit the ' +\n",
              "            '<a target=\"_blank\" href=https://colab.research.google.com/notebooks/data_table.ipynb>data table notebook</a>'\n",
              "            + ' to learn more about interactive tables.';\n",
              "          element.innerHTML = '';\n",
              "          dataTable['output_type'] = 'display_data';\n",
              "          await google.colab.output.renderOutput(dataTable, element);\n",
              "          const docLink = document.createElement('div');\n",
              "          docLink.innerHTML = docLinkHtml;\n",
              "          element.appendChild(docLink);\n",
              "        }\n",
              "      </script>\n",
              "    </div>\n",
              "  </div>\n"
>>>>>>> c21e0f6a480190761cb999b0fd032fe1a09ec12e
            ]
          },
          "execution_count": 200,
          "metadata": {},
<<<<<<< HEAD
          "output_type": "execute_result"
=======
          "execution_count": 14
        }
      ]
    },
    {
      "cell_type": "code",
      "source": [
        "neg_tweets.info()"
      ],
      "metadata": {
        "colab": {
          "base_uri": "https://localhost:8080/"
        },
        "id": "tR1yGCHj2L8S",
        "outputId": "13a66a52-4ca5-4f7f-d40b-79ca16ed7a91"
      },
      "execution_count": 15,
      "outputs": [
        {
          "output_type": "stream",
          "name": "stdout",
          "text": [
            "<class 'pandas.core.frame.DataFrame'>\n",
            "RangeIndex: 2351 entries, 0 to 2350\n",
            "Data columns (total 11 columns):\n",
            " #   Column                Non-Null Count  Dtype  \n",
            "---  ------                --------------  -----  \n",
            " 0   tweet                 2351 non-null   object \n",
            " 1   tweet_is_directed_at  2351 non-null   object \n",
            " 2   emotion               2351 non-null   object \n",
            " 3   character_count       2351 non-null   int64  \n",
            " 4   word_count            2351 non-null   int64  \n",
            " 5   is_tweet_negative     2351 non-null   int64  \n",
            " 6   is_apple              2351 non-null   int64  \n",
            " 7   number_of_mentions    2351 non-null   int64  \n",
            " 8   hashtags_count        2351 non-null   int64  \n",
            " 9   average_word_length   2351 non-null   float64\n",
            " 10  chatgpt_data          2351 non-null   int64  \n",
            "dtypes: float64(1), int64(7), object(3)\n",
            "memory usage: 202.2+ KB\n"
          ]
>>>>>>> c21e0f6a480190761cb999b0fd032fe1a09ec12e
        }
      ],
      "source": [
        "neg_tweets.head()"
      ]
    },
    {
      "cell_type": "code",
<<<<<<< HEAD
      "execution_count": 201,
      "metadata": {
        "id": "Xe_VSnVhO2CX"
      },
      "outputs": [],
      "source": [
        "#Join Dataframes\n",
        "df = pd.concat([df, neg_tweets], ignore_index=True)"
      ]
=======
      "source": [
        "#Join Dataframes\n",
        "df = pd.concat([df, neg_tweets], ignore_index=True)"
      ],
      "metadata": {
        "id": "Xe_VSnVhO2CX"
      },
      "execution_count": 16,
      "outputs": []
>>>>>>> c21e0f6a480190761cb999b0fd032fe1a09ec12e
    },
    {
      "cell_type": "code",
      "execution_count": 202,
      "metadata": {
        "colab": {
          "base_uri": "https://localhost:8080/"
        },
        "id": "WYpoWfawL1Aw",
        "outputId": "70a61ade-b51b-4526-d6ce-3eadc69264d1"
      },
<<<<<<< HEAD
=======
      "execution_count": 17,
>>>>>>> c21e0f6a480190761cb999b0fd032fe1a09ec12e
      "outputs": [
        {
          "data": {
            "text/plain": [
              "2    4833\n",
              "0    2967\n",
              "1    2920\n",
              "Name: is_tweet_negative, dtype: int64"
            ]
          },
          "execution_count": 202,
          "metadata": {},
<<<<<<< HEAD
          "output_type": "execute_result"
=======
          "execution_count": 17
>>>>>>> c21e0f6a480190761cb999b0fd032fe1a09ec12e
        }
      ],
      "source": [
        "df['is_tweet_negative'].value_counts()"
      ]
    },
    {
      "cell_type": "markdown",
      "metadata": {
        "id": "OAB1YmtFjbUc"
      },
      "source": [
        "## Modeling"
      ]
    },
    {
      "cell_type": "code",
      "execution_count": 203,
      "metadata": {
        "colab": {
          "base_uri": "https://localhost:8080/"
        },
        "id": "4Mg4oMNQjcK2",
        "outputId": "59407353-2029-4c75-8758-f494589a82ea"
      },
<<<<<<< HEAD
=======
      "execution_count": 20,
>>>>>>> c21e0f6a480190761cb999b0fd032fe1a09ec12e
      "outputs": [
        {
          "name": "stderr",
          "output_type": "stream",
          "text": [
            "[nltk_data] Downloading package stopwords to\n",
            "[nltk_data]     C:\\Users\\jimmy\\AppData\\Roaming\\nltk_data...\n",
            "[nltk_data]   Package stopwords is already up-to-date!\n",
            "[nltk_data] Downloading package wordnet to\n",
            "[nltk_data]     C:\\Users\\jimmy\\AppData\\Roaming\\nltk_data...\n",
            "[nltk_data]   Package wordnet is already up-to-date!\n"
          ]
        }
      ],
      "source": [
        "# You might need to download these if you haven't already\n",
        "nltk.download('stopwords')\n",
        "nltk.download('wordnet')\n",
        "\n",
        "stop_words = set(stopwords.words('english'))\n",
        "lemmatizer = WordNetLemmatizer()"
      ]
    },
    {
      "cell_type": "code",
      "execution_count": 204,
      "metadata": {
        "id": "D3SRsiob2Auu"
      },
      "outputs": [],
      "source": [
        "# Function to preprocess tweets\n",
        "def preprocess(tweet):\n",
        "    tweet = tweet.lower()\n",
        "    tweet = re.sub(r'[^\\w\\s@#]', ' ', tweet)\n",
        "    tweet = re.sub(r'\\s+[a-zA-Z]\\s+', ' ', tweet)\n",
        "    tweet = re.sub(r'\\s+', ' ', tweet, flags=re.I)\n",
        "    tweet = re.sub(r'^b\\s+', '', tweet)\n",
        "    tweet = tweet.split()\n",
        "    tweet = [lemmatizer.lemmatize(word) for word in tweet if not word in stop_words]\n",
        "    tweet = ' '.join(tweet)\n",
        "    return tweet\n",
        "\n"
<<<<<<< HEAD
      ]
=======
      ],
      "metadata": {
        "id": "D3SRsiob2Auu"
      },
      "execution_count": 21,
      "outputs": []
>>>>>>> c21e0f6a480190761cb999b0fd032fe1a09ec12e
    },
    {
      "cell_type": "code",
      "execution_count": 205,
      "metadata": {
        "id": "LCBEaB-94Edz"
      },
<<<<<<< HEAD
      "outputs": [],
      "source": [
        "# Apply preprocessing function to tweets\n",
        "df['processed_tweet'] = df['tweet'].apply(preprocess)"
      ]
=======
      "execution_count": 22,
      "outputs": []
>>>>>>> c21e0f6a480190761cb999b0fd032fe1a09ec12e
    },
    {
      "cell_type": "code",
      "execution_count": 206,
      "metadata": {
        "id": "hEtXcN3L4NZs"
      },
      "outputs": [],
      "source": [
        "# Feature extraction with TF-IDF\n",
        "vectorizer = TfidfVectorizer(max_features=1000)\n",
        "X = vectorizer.fit_transform(df['processed_tweet']).toarray()\n",
        "y = df['is_tweet_negative']"
<<<<<<< HEAD
      ]
=======
      ],
      "metadata": {
        "id": "hEtXcN3L4NZs"
      },
      "execution_count": 23,
      "outputs": []
>>>>>>> c21e0f6a480190761cb999b0fd032fe1a09ec12e
    },
    {
      "cell_type": "code",
      "execution_count": 207,
      "metadata": {
        "id": "ePMW_n2-4IHp"
      },
<<<<<<< HEAD
      "outputs": [],
      "source": [
        "# Split data into training set and test set\n",
        "X_train, X_test, y_train, y_test = train_test_split(X, y, test_size=0.2, random_state=42)\n"
      ]
=======
      "execution_count": 24,
      "outputs": []
>>>>>>> c21e0f6a480190761cb999b0fd032fe1a09ec12e
    },
    {
      "cell_type": "code",
      "execution_count": 208,
      "metadata": {
        "colab": {
          "base_uri": "https://localhost:8080/"
        },
        "id": "79KsaJSqR9Ta",
        "outputId": "d64cb5f8-35ba-4844-c34c-319b1116a209"
      },
<<<<<<< HEAD
=======
      "execution_count": 25,
>>>>>>> c21e0f6a480190761cb999b0fd032fe1a09ec12e
      "outputs": [
        {
          "name": "stdout",
          "output_type": "stream",
          "text": [
            "Original class distribution: \n",
            " 2    3867\n",
            "0    2379\n",
            "1    2330\n",
            "Name: is_tweet_negative, dtype: int64\n"
          ]
        }
      ],
      "source": [
        "# Print the original class distribution\n",
        "print('Original class distribution: \\n', y_train.value_counts())"
      ]
    },
    {
      "cell_type": "code",
      "execution_count": 209,
      "metadata": {
        "colab": {
          "base_uri": "https://localhost:8080/"
        },
        "id": "DvIlcQEX4RXn",
        "outputId": "f296c7e3-70db-4b2e-d806-516c2ddf25a4"
      },
      "outputs": [
        {
          "name": "stdout",
          "output_type": "stream",
          "text": [
            "              precision    recall  f1-score   support\n",
            "\n",
            "           0       0.59      0.44      0.50       588\n",
            "           1       0.93      0.81      0.87       590\n",
            "           2       0.66      0.83      0.74       966\n",
            "\n",
            "    accuracy                           0.71      2144\n",
            "   macro avg       0.73      0.69      0.70      2144\n",
            "weighted avg       0.72      0.71      0.71      2144\n",
            "\n",
            "Accuracy: 0.7136194029850746\n"
          ]
        }
      ],
      "source": [
        "# Train the model\n",
        "classifier = LogisticRegression()\n",
        "classifier.fit(X_train, y_train)\n",
        "\n",
        "# Make predictions\n",
        "y_pred = classifier.predict(X_test)\n",
        "\n",
        "# Evaluate the model\n",
        "print(classification_report(y_test, y_pred))\n",
        "print(\"Accuracy:\", accuracy_score(y_test, y_pred))"
      ]
    },
    {
      "cell_type": "code",
      "execution_count": 210,
      "metadata": {
        "colab": {
          "base_uri": "https://localhost:8080/",
          "height": 606
        },
<<<<<<< HEAD
        "id": "my4XZrwXMawZ",
        "outputId": "a6330179-ffa1-49ca-a396-4b995cb68bfe"
      },
=======
        "id": "DvIlcQEX4RXn",
        "outputId": "f3b4af23-2880-40f7-d7d3-5ed217eb2961"
      },
      "execution_count": 26,
>>>>>>> c21e0f6a480190761cb999b0fd032fe1a09ec12e
      "outputs": [
        {
          "data": {
            "image/png": "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",
            "text/plain": [
              "<Figure size 288x288 with 2 Axes>"
            ]
          },
          "metadata": {
            "needs_background": "light"
          },
          "output_type": "display_data"
        },
        {
          "name": "stdout",
          "output_type": "stream",
          "text": [
            "              precision    recall  f1-score   support\n",
            "\n",
            "           0       0.59      0.44      0.50       588\n",
            "           1       0.93      0.81      0.87       590\n",
            "           2       0.66      0.83      0.74       966\n",
            "\n",
            "    accuracy                           0.71      2144\n",
            "   macro avg       0.73      0.69      0.70      2144\n",
            "weighted avg       0.72      0.71      0.71      2144\n",
            "\n",
            "Accuracy: 0.7136194029850746\n"
          ]
        }
      ],
      "source": [
        "# Generate confusion matrix\n",
        "matrix = confusion_matrix(y_test, y_pred)\n",
        "\n",
        "# Create a heatmap from the confusion matrix\n",
        "plt.figure(figsize=(4,4))\n",
        "sns.heatmap(matrix, annot=True, cmap='Blues', fmt='d')\n",
        "\n",
        "plt.title('Confusion Matrix')\n",
        "plt.xlabel('Predicted Label')\n",
        "plt.ylabel('True Label')\n",
        "\n",
        "plt.show()\n",
        "\n",
        "# Evaluate the model\n",
        "print(classification_report(y_test, y_pred))\n",
        "print(\"Accuracy:\", accuracy_score(y_test, y_pred))"
<<<<<<< HEAD
      ]
    },
    {
      "cell_type": "code",
      "execution_count": 211,
      "metadata": {},
=======
      ],
      "metadata": {
        "colab": {
          "base_uri": "https://localhost:8080/",
          "height": 606
        },
        "id": "my4XZrwXMawZ",
        "outputId": "41cd12ef-5f1b-4156-a9f8-86e0c909ed76"
      },
      "execution_count": 27,
>>>>>>> c21e0f6a480190761cb999b0fd032fe1a09ec12e
      "outputs": [
        {
          "data": {
            "text/html": [
              "<div>\n",
              "<style scoped>\n",
              "    .dataframe tbody tr th:only-of-type {\n",
              "        vertical-align: middle;\n",
              "    }\n",
              "\n",
              "    .dataframe tbody tr th {\n",
              "        vertical-align: top;\n",
              "    }\n",
              "\n",
              "    .dataframe thead th {\n",
              "        text-align: right;\n",
              "    }\n",
              "</style>\n",
              "<table border=\"1\" class=\"dataframe\">\n",
              "  <thead>\n",
              "    <tr style=\"text-align: right;\">\n",
              "      <th></th>\n",
              "      <th>tweet</th>\n",
              "      <th>tweet_is_directed_at</th>\n",
              "      <th>emotion</th>\n",
              "      <th>character_count</th>\n",
              "      <th>word_count</th>\n",
              "      <th>is_tweet_negative</th>\n",
              "      <th>is_apple</th>\n",
              "      <th>number_of_mentions</th>\n",
              "      <th>hashtags_count</th>\n",
              "      <th>average_word_length</th>\n",
              "      <th>chatgpt_data</th>\n",
              "      <th>processed_tweet</th>\n",
              "    </tr>\n",
              "  </thead>\n",
              "  <tbody>\n",
              "    <tr>\n",
              "      <th>0</th>\n",
              "      <td>.@wesley83 i have a 3g iphone. after 3 hrs twe...</td>\n",
              "      <td>iphone</td>\n",
              "      <td>negative</td>\n",
              "      <td>127</td>\n",
              "      <td>23</td>\n",
              "      <td>1</td>\n",
              "      <td>1</td>\n",
              "      <td>1</td>\n",
              "      <td>2</td>\n",
              "      <td>4.521739</td>\n",
              "      <td>0</td>\n",
              "      <td>@wesley83 3g iphone 3 hr tweeting #rise_austin...</td>\n",
              "    </tr>\n",
              "    <tr>\n",
              "      <th>1</th>\n",
              "      <td>@jessedee know about @fludapp ? awesome ipad/i...</td>\n",
              "      <td>ipad or iphone app</td>\n",
              "      <td>positive</td>\n",
              "      <td>139</td>\n",
              "      <td>22</td>\n",
              "      <td>0</td>\n",
              "      <td>1</td>\n",
              "      <td>2</td>\n",
              "      <td>1</td>\n",
              "      <td>5.363636</td>\n",
              "      <td>0</td>\n",
              "      <td>@jessedee know @fludapp awesome ipad iphone ap...</td>\n",
              "    </tr>\n",
              "    <tr>\n",
              "      <th>2</th>\n",
              "      <td>@swonderlin can not wait for #ipad 2 also. the...</td>\n",
              "      <td>ipad</td>\n",
              "      <td>positive</td>\n",
              "      <td>79</td>\n",
              "      <td>15</td>\n",
              "      <td>0</td>\n",
              "      <td>1</td>\n",
              "      <td>1</td>\n",
              "      <td>2</td>\n",
              "      <td>4.333333</td>\n",
              "      <td>0</td>\n",
              "      <td>@swonderlin wait #ipad 2 also sale #sxsw</td>\n",
              "    </tr>\n",
              "    <tr>\n",
              "      <th>3</th>\n",
              "      <td>@sxsw i hope this year's festival isn't as cra...</td>\n",
              "      <td>ipad or iphone app</td>\n",
              "      <td>negative</td>\n",
              "      <td>82</td>\n",
              "      <td>15</td>\n",
              "      <td>1</td>\n",
              "      <td>1</td>\n",
              "      <td>1</td>\n",
              "      <td>1</td>\n",
              "      <td>4.533333</td>\n",
              "      <td>0</td>\n",
              "      <td>@sxsw hope year festival crashy year iphone ap...</td>\n",
              "    </tr>\n",
              "    <tr>\n",
              "      <th>4</th>\n",
              "      <td>@sxtxstate great stuff on fri #sxsw: marissa m...</td>\n",
              "      <td>google</td>\n",
              "      <td>positive</td>\n",
              "      <td>131</td>\n",
              "      <td>17</td>\n",
              "      <td>0</td>\n",
              "      <td>0</td>\n",
              "      <td>1</td>\n",
              "      <td>1</td>\n",
              "      <td>6.764706</td>\n",
              "      <td>0</td>\n",
              "      <td>@sxtxstate great stuff fri #sxsw marissa mayer...</td>\n",
              "    </tr>\n",
              "  </tbody>\n",
              "</table>\n",
              "</div>"
            ],
            "text/plain": [
              "                                               tweet tweet_is_directed_at  \\\n",
              "0  .@wesley83 i have a 3g iphone. after 3 hrs twe...               iphone   \n",
              "1  @jessedee know about @fludapp ? awesome ipad/i...   ipad or iphone app   \n",
              "2  @swonderlin can not wait for #ipad 2 also. the...                 ipad   \n",
              "3  @sxsw i hope this year's festival isn't as cra...   ipad or iphone app   \n",
              "4  @sxtxstate great stuff on fri #sxsw: marissa m...               google   \n",
              "\n",
              "    emotion  character_count  word_count  is_tweet_negative  is_apple  \\\n",
              "0  negative              127          23                  1         1   \n",
              "1  positive              139          22                  0         1   \n",
              "2  positive               79          15                  0         1   \n",
              "3  negative               82          15                  1         1   \n",
              "4  positive              131          17                  0         0   \n",
              "\n",
              "   number_of_mentions  hashtags_count  average_word_length  chatgpt_data  \\\n",
              "0                   1               2             4.521739             0   \n",
              "1                   2               1             5.363636             0   \n",
              "2                   1               2             4.333333             0   \n",
              "3                   1               1             4.533333             0   \n",
              "4                   1               1             6.764706             0   \n",
              "\n",
              "                                     processed_tweet  \n",
              "0  @wesley83 3g iphone 3 hr tweeting #rise_austin...  \n",
              "1  @jessedee know @fludapp awesome ipad iphone ap...  \n",
              "2           @swonderlin wait #ipad 2 also sale #sxsw  \n",
              "3  @sxsw hope year festival crashy year iphone ap...  \n",
              "4  @sxtxstate great stuff fri #sxsw marissa mayer...  "
            ]
          },
          "execution_count": 211,
          "metadata": {},
          "output_type": "execute_result"
        }
      ],
      "source": [
        "df.head()"
      ]
    },
    {
      "cell_type": "code",
      "execution_count": 212,
      "metadata": {},
      "outputs": [],
      "source": [
        "# Function to fit model and print classification report.\n",
        "def model_tester(model, X_train=X_train, y_train=y_train):\n",
        "    model.fit(X_train, y_train)\n",
        "    print(classification_report(y_test, model.predict(X_test)))"
      ]
    },
    {
      "cell_type": "code",
      "execution_count": 213,
      "metadata": {},
      "outputs": [],
      "source": [
        "# Function to perform grid search and print classification report for best parameters.\n",
        "def model_best_param_tester(model, params, X_train=X_train, y_train=y_train):\n",
        "    gridsearch=GridSearchCV(model, param_grid=params)\n",
        "    gridsearch.fit(X_train, y_train)\n",
        "    print(gridsearch.best_params_)\n",
        "    return model_tester(gridsearch.best_estimator_)"
      ]
    },
    {
      "cell_type": "code",
      "execution_count": 214,
      "metadata": {},
      "outputs": [],
      "source": [
        "#Initializing the models we will test out.\n",
        "logreg=LogisticRegression()\n",
        "bayes=MultinomialNB()\n",
        "dtc=DecisionTreeClassifier()\n",
        "rfc=RandomForestClassifier()\n",
        "xg=xgb.XGBClassifier()"
      ]
    },
    {
      "cell_type": "markdown",
      "metadata": {},
      "source": [
        "We will examine each model with its optimal parameters to see how it performs on our target metric, precision. "
      ]
    },
    {
      "cell_type": "code",
      "execution_count": 215,
      "metadata": {},
      "outputs": [
        {
          "name": "stdout",
          "output_type": "stream",
          "text": [
            "{'C': 1, 'solver': 'lbfgs'}\n",
            "              precision    recall  f1-score   support\n",
            "\n",
            "           0       0.59      0.44      0.50       588\n",
            "           1       0.93      0.81      0.87       590\n",
            "           2       0.66      0.83      0.74       966\n",
            "\n",
            "    accuracy                           0.71      2144\n",
            "   macro avg       0.73      0.69      0.70      2144\n",
            "weighted avg       0.72      0.71      0.71      2144\n",
            "\n"
          ]
        }
      ],
      "source": [
        "model_best_param_tester(logreg, {'C': [0.01, 0.1, 1, 10], 'solver': ['lbfgs', 'liblinear', 'newton-cg']})"
      ]
    },
    {
      "cell_type": "code",
      "execution_count": 216,
      "metadata": {},
      "outputs": [
        {
          "name": "stdout",
          "output_type": "stream",
          "text": [
            "{'alpha': 1, 'fit_prior': True}\n",
            "              precision    recall  f1-score   support\n",
            "\n",
            "           0       0.61      0.36      0.45       588\n",
            "           1       0.92      0.77      0.84       590\n",
            "           2       0.64      0.86      0.73       966\n",
            "\n",
            "    accuracy                           0.70      2144\n",
            "   macro avg       0.72      0.67      0.68      2144\n",
            "weighted avg       0.71      0.70      0.69      2144\n",
            "\n"
          ]
        }
      ],
      "source": [
        "model_best_param_tester(bayes, {'fit_prior': [True, False], 'alpha': [0.001, 0.01, 0.1, 1]})"
      ]
    },
    {
      "cell_type": "code",
      "execution_count": 217,
      "metadata": {},
      "outputs": [
        {
          "name": "stdout",
          "output_type": "stream",
          "text": [
            "{'max_depth': 2, 'max_features': 2}\n",
            "              precision    recall  f1-score   support\n",
            "\n",
            "           0       0.00      0.00      0.00       588\n",
            "           1       0.52      0.02      0.05       590\n",
            "           2       0.45      0.99      0.62       966\n",
            "\n",
            "    accuracy                           0.45      2144\n",
            "   macro avg       0.32      0.34      0.22      2144\n",
            "weighted avg       0.35      0.45      0.29      2144\n",
            "\n"
          ]
        }
      ],
      "source": [
        "model_best_param_tester(dtc, {'max_depth': [1,2,3,4,5], 'max_features': [1,2,3,4]})"
      ]
    },
    {
      "cell_type": "code",
      "execution_count": 218,
      "metadata": {},
      "outputs": [
        {
          "name": "stdout",
          "output_type": "stream",
          "text": [
            "{'criterion': 'gini', 'max_features': 1, 'n_estimators': 150}\n",
            "              precision    recall  f1-score   support\n",
            "\n",
            "           0       0.65      0.41      0.51       588\n",
            "           1       0.94      0.83      0.88       590\n",
            "           2       0.66      0.86      0.75       966\n",
            "\n",
            "    accuracy                           0.73      2144\n",
            "   macro avg       0.75      0.70      0.71      2144\n",
            "weighted avg       0.74      0.73      0.72      2144\n",
            "\n"
          ]
        }
      ],
      "source": [
        "model_best_param_tester(rfc, {'n_estimators': [100, 150], 'max_features': [1,'sqrt', 'log2'], 'criterion': ['gini', 'entropy']})"
      ]
    },
    {
      "cell_type": "code",
      "execution_count": 219,
      "metadata": {},
      "outputs": [
        {
          "name": "stdout",
          "output_type": "stream",
          "text": [
            "{'booster': 'gbtree'}\n",
            "              precision    recall  f1-score   support\n",
            "\n",
            "           0       0.60      0.40      0.48       588\n",
            "           1       0.96      0.81      0.88       590\n",
            "           2       0.66      0.86      0.74       966\n",
            "\n",
            "    accuracy                           0.72      2144\n",
            "   macro avg       0.74      0.69      0.70      2144\n",
            "weighted avg       0.72      0.72      0.71      2144\n",
            "\n"
          ]
        }
      ],
      "source": [
        "model_best_param_tester(xg, {'booster': ['gbtree', 'gblinear' 'dart']})"
      ]
    },
    {
      "cell_type": "markdown",
      "metadata": {},
      "source": [
        "The Gradient Boosting Classifier with default parameters has the best performance of all the models examined."
      ]
    }
  ],
  "metadata": {
    "colab": {
      "provenance": []
    },
    "kernelspec": {
      "display_name": "Python 3",
      "name": "python3"
    },
    "language_info": {
      "codemirror_mode": {
        "name": "ipython",
        "version": 3
      },
      "file_extension": ".py",
      "mimetype": "text/x-python",
      "name": "python",
      "nbconvert_exporter": "python",
      "pygments_lexer": "ipython3",
      "version": "3.8.5"
    }
  },
  "nbformat": 4,
  "nbformat_minor": 0
}
