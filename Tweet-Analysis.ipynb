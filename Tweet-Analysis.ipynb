{
  "nbformat": 4,
  "nbformat_minor": 0,
  "metadata": {
    "colab": {
      "provenance": []
    },
    "kernelspec": {
      "name": "python3",
      "display_name": "Python 3"
    },
    "language_info": {
      "name": "python"
    }
  },
  "cells": [
    {
      "cell_type": "code",
      "execution_count": 1,
      "metadata": {
        "id": "Kz53SjuF1PSI"
      },
      "outputs": [],
      "source": [
        "# Data handling and computation\n",
        "import pandas as pd\n",
        "import numpy as np\n",
        "\n",
        "# Data visualization\n",
        "import matplotlib.pyplot as plt\n",
        "import seaborn as sns\n",
        "\n",
        "# Data preprocessing\n",
        "from sklearn.preprocessing import StandardScaler, OneHotEncoder, LabelEncoder\n",
        "from sklearn.compose import ColumnTransformer\n",
        "from sklearn.feature_extraction.text import TfidfVectorizer\n",
        "from sklearn.naive_bayes import MultinomialNB\n",
        "from imblearn.over_sampling import SMOTE\n",
        "\n",
        "# Model selection and validation\n",
        "from sklearn.model_selection import train_test_split, cross_val_score, GridSearchCV\n",
        "from sklearn.linear_model import LogisticRegression\n",
        "\n",
        "# Pipeline library for efficient workflow\n",
        "from sklearn.pipeline import Pipeline, make_pipeline\n",
        "\n",
        "# Metrics libraries for evaluating model performance\n",
        "from sklearn.metrics import mean_absolute_error, mean_squared_error, classification_report, roc_curve, auc, accuracy_score, confusion_matrix\n",
        "from sklearn import metrics\n",
        "\n",
        "# Natural Language Toolkit\n",
        "import nltk\n",
        "from nltk.corpus import stopwords\n",
        "from nltk.tokenize import word_tokenize\n",
        "from nltk.stem import WordNetLemmatizer\n",
        "import re\n"
      ]
    },
    {
      "cell_type": "code",
      "source": [
        "# Read in data locally\n",
        "#df = pd.read_csv('data/Tweets.csv', encoding='latin1')\n",
        "\n",
        "# Read in data using google colab/drive\n",
        "df = pd.read_csv('/content/drive/MyDrive/Flatiron/project_4/tweets.csv', encoding='latin1')"
      ],
      "metadata": {
        "id": "roEFZ9hY19cc"
      },
      "execution_count": 2,
      "outputs": []
    },
    {
      "cell_type": "code",
      "source": [
        "numerical_features = list(df.select_dtypes(\"number\"))\n",
        "categorical_features = list(df.select_dtypes(\"object\"))\n",
        "\n",
        "print(f'Numerical Columns: \\n{numerical_features}\\n')\n",
        "print(f'Categorical Columns: \\n{categorical_features}')"
      ],
      "metadata": {
        "colab": {
          "base_uri": "https://localhost:8080/"
        },
        "id": "eYmCU4keipfe",
        "outputId": "154f25e7-167a-4f9a-a13e-70ed8bd2458c"
      },
      "execution_count": 35,
      "outputs": [
        {
          "output_type": "stream",
          "name": "stdout",
          "text": [
            "Numerical Columns: \n",
            "['character_count', 'word_count', 'is_tweet_negative', 'is_apple', 'number_of_mentions', 'hashtags_count', 'average_word_length', 'chatgpt_data']\n",
            "\n",
            "Categorical Columns: \n",
            "['tweet', 'tweet_is_directed_at', 'emotion', 'processed_tweet']\n"
          ]
        }
      ]
    },
    {
      "cell_type": "markdown",
      "source": [
        "## EDA"
      ],
      "metadata": {
        "id": "vETEilA7ek6y"
      }
    },
    {
      "cell_type": "code",
      "source": [
        "df.head()"
      ],
      "metadata": {
        "colab": {
          "base_uri": "https://localhost:8080/",
          "height": 565
        },
        "id": "m-i3ulV04RdU",
        "outputId": "8b8ec034-1332-4bef-b551-01d908facbe8"
      },
      "execution_count": 19,
      "outputs": [
        {
          "output_type": "execute_result",
          "data": {
            "text/plain": [
              "                                               tweet tweet_is_directed_at  \\\n",
              "0  .@wesley83 i have a 3g iphone. after 3 hrs twe...               iphone   \n",
              "1  @jessedee know about @fludapp ? awesome ipad/i...   ipad or iphone app   \n",
              "2  @swonderlin can not wait for #ipad 2 also. the...                 ipad   \n",
              "3  @sxsw i hope this year's festival isn't as cra...   ipad or iphone app   \n",
              "4  @sxtxstate great stuff on fri #sxsw: marissa m...               google   \n",
              "\n",
              "    emotion  character_count  word_count  is_tweet_negative  is_apple  \\\n",
              "0  negative              127          23                  1         1   \n",
              "1  positive              139          22                  0         1   \n",
              "2  positive               79          15                  0         1   \n",
              "3  negative               82          15                  1         1   \n",
              "4  positive              131          17                  0         0   \n",
              "\n",
              "   number_of_mentions  hashtags_count  average_word_length  chatgpt_data  \n",
              "0                   1               2             4.521739             0  \n",
              "1                   2               1             5.363636             0  \n",
              "2                   1               2             4.333333             0  \n",
              "3                   1               1             4.533333             0  \n",
              "4                   1               1             6.764706             0  "
            ],
            "text/html": [
              "\n",
              "\n",
              "  <div id=\"df-fe960fc7-f66e-46b0-b7b2-2b5efca3e686\">\n",
              "    <div class=\"colab-df-container\">\n",
              "      <div>\n",
              "<style scoped>\n",
              "    .dataframe tbody tr th:only-of-type {\n",
              "        vertical-align: middle;\n",
              "    }\n",
              "\n",
              "    .dataframe tbody tr th {\n",
              "        vertical-align: top;\n",
              "    }\n",
              "\n",
              "    .dataframe thead th {\n",
              "        text-align: right;\n",
              "    }\n",
              "</style>\n",
              "<table border=\"1\" class=\"dataframe\">\n",
              "  <thead>\n",
              "    <tr style=\"text-align: right;\">\n",
              "      <th></th>\n",
              "      <th>tweet</th>\n",
              "      <th>tweet_is_directed_at</th>\n",
              "      <th>emotion</th>\n",
              "      <th>character_count</th>\n",
              "      <th>word_count</th>\n",
              "      <th>is_tweet_negative</th>\n",
              "      <th>is_apple</th>\n",
              "      <th>number_of_mentions</th>\n",
              "      <th>hashtags_count</th>\n",
              "      <th>average_word_length</th>\n",
              "      <th>chatgpt_data</th>\n",
              "    </tr>\n",
              "  </thead>\n",
              "  <tbody>\n",
              "    <tr>\n",
              "      <th>0</th>\n",
              "      <td>.@wesley83 i have a 3g iphone. after 3 hrs twe...</td>\n",
              "      <td>iphone</td>\n",
              "      <td>negative</td>\n",
              "      <td>127</td>\n",
              "      <td>23</td>\n",
              "      <td>1</td>\n",
              "      <td>1</td>\n",
              "      <td>1</td>\n",
              "      <td>2</td>\n",
              "      <td>4.521739</td>\n",
              "      <td>0</td>\n",
              "    </tr>\n",
              "    <tr>\n",
              "      <th>1</th>\n",
              "      <td>@jessedee know about @fludapp ? awesome ipad/i...</td>\n",
              "      <td>ipad or iphone app</td>\n",
              "      <td>positive</td>\n",
              "      <td>139</td>\n",
              "      <td>22</td>\n",
              "      <td>0</td>\n",
              "      <td>1</td>\n",
              "      <td>2</td>\n",
              "      <td>1</td>\n",
              "      <td>5.363636</td>\n",
              "      <td>0</td>\n",
              "    </tr>\n",
              "    <tr>\n",
              "      <th>2</th>\n",
              "      <td>@swonderlin can not wait for #ipad 2 also. the...</td>\n",
              "      <td>ipad</td>\n",
              "      <td>positive</td>\n",
              "      <td>79</td>\n",
              "      <td>15</td>\n",
              "      <td>0</td>\n",
              "      <td>1</td>\n",
              "      <td>1</td>\n",
              "      <td>2</td>\n",
              "      <td>4.333333</td>\n",
              "      <td>0</td>\n",
              "    </tr>\n",
              "    <tr>\n",
              "      <th>3</th>\n",
              "      <td>@sxsw i hope this year's festival isn't as cra...</td>\n",
              "      <td>ipad or iphone app</td>\n",
              "      <td>negative</td>\n",
              "      <td>82</td>\n",
              "      <td>15</td>\n",
              "      <td>1</td>\n",
              "      <td>1</td>\n",
              "      <td>1</td>\n",
              "      <td>1</td>\n",
              "      <td>4.533333</td>\n",
              "      <td>0</td>\n",
              "    </tr>\n",
              "    <tr>\n",
              "      <th>4</th>\n",
              "      <td>@sxtxstate great stuff on fri #sxsw: marissa m...</td>\n",
              "      <td>google</td>\n",
              "      <td>positive</td>\n",
              "      <td>131</td>\n",
              "      <td>17</td>\n",
              "      <td>0</td>\n",
              "      <td>0</td>\n",
              "      <td>1</td>\n",
              "      <td>1</td>\n",
              "      <td>6.764706</td>\n",
              "      <td>0</td>\n",
              "    </tr>\n",
              "  </tbody>\n",
              "</table>\n",
              "</div>\n",
              "      <button class=\"colab-df-convert\" onclick=\"convertToInteractive('df-fe960fc7-f66e-46b0-b7b2-2b5efca3e686')\"\n",
              "              title=\"Convert this dataframe to an interactive table.\"\n",
              "              style=\"display:none;\">\n",
              "\n",
              "  <svg xmlns=\"http://www.w3.org/2000/svg\" height=\"24px\"viewBox=\"0 0 24 24\"\n",
              "       width=\"24px\">\n",
              "    <path d=\"M0 0h24v24H0V0z\" fill=\"none\"/>\n",
              "    <path d=\"M18.56 5.44l.94 2.06.94-2.06 2.06-.94-2.06-.94-.94-2.06-.94 2.06-2.06.94zm-11 1L8.5 8.5l.94-2.06 2.06-.94-2.06-.94L8.5 2.5l-.94 2.06-2.06.94zm10 10l.94 2.06.94-2.06 2.06-.94-2.06-.94-.94-2.06-.94 2.06-2.06.94z\"/><path d=\"M17.41 7.96l-1.37-1.37c-.4-.4-.92-.59-1.43-.59-.52 0-1.04.2-1.43.59L10.3 9.45l-7.72 7.72c-.78.78-.78 2.05 0 2.83L4 21.41c.39.39.9.59 1.41.59.51 0 1.02-.2 1.41-.59l7.78-7.78 2.81-2.81c.8-.78.8-2.07 0-2.86zM5.41 20L4 18.59l7.72-7.72 1.47 1.35L5.41 20z\"/>\n",
              "  </svg>\n",
              "      </button>\n",
              "\n",
              "\n",
              "\n",
              "    <div id=\"df-bc9b8e7a-507a-403a-b6e4-8272f8b96772\">\n",
              "      <button class=\"colab-df-quickchart\" onclick=\"quickchart('df-bc9b8e7a-507a-403a-b6e4-8272f8b96772')\"\n",
              "              title=\"Suggest charts.\"\n",
              "              style=\"display:none;\">\n",
              "\n",
              "<svg xmlns=\"http://www.w3.org/2000/svg\" height=\"24px\"viewBox=\"0 0 24 24\"\n",
              "     width=\"24px\">\n",
              "    <g>\n",
              "        <path d=\"M19 3H5c-1.1 0-2 .9-2 2v14c0 1.1.9 2 2 2h14c1.1 0 2-.9 2-2V5c0-1.1-.9-2-2-2zM9 17H7v-7h2v7zm4 0h-2V7h2v10zm4 0h-2v-4h2v4z\"/>\n",
              "    </g>\n",
              "</svg>\n",
              "      </button>\n",
              "    </div>\n",
              "\n",
              "<style>\n",
              "  .colab-df-quickchart {\n",
              "    background-color: #E8F0FE;\n",
              "    border: none;\n",
              "    border-radius: 50%;\n",
              "    cursor: pointer;\n",
              "    display: none;\n",
              "    fill: #1967D2;\n",
              "    height: 32px;\n",
              "    padding: 0 0 0 0;\n",
              "    width: 32px;\n",
              "  }\n",
              "\n",
              "  .colab-df-quickchart:hover {\n",
              "    background-color: #E2EBFA;\n",
              "    box-shadow: 0px 1px 2px rgba(60, 64, 67, 0.3), 0px 1px 3px 1px rgba(60, 64, 67, 0.15);\n",
              "    fill: #174EA6;\n",
              "  }\n",
              "\n",
              "  [theme=dark] .colab-df-quickchart {\n",
              "    background-color: #3B4455;\n",
              "    fill: #D2E3FC;\n",
              "  }\n",
              "\n",
              "  [theme=dark] .colab-df-quickchart:hover {\n",
              "    background-color: #434B5C;\n",
              "    box-shadow: 0px 1px 3px 1px rgba(0, 0, 0, 0.15);\n",
              "    filter: drop-shadow(0px 1px 2px rgba(0, 0, 0, 0.3));\n",
              "    fill: #FFFFFF;\n",
              "  }\n",
              "</style>\n",
              "\n",
              "    <script>\n",
              "      async function quickchart(key) {\n",
              "        const containerElement = document.querySelector('#' + key);\n",
              "        const charts = await google.colab.kernel.invokeFunction(\n",
              "            'suggestCharts', [key], {});\n",
              "      }\n",
              "    </script>\n",
              "\n",
              "      <script>\n",
              "\n",
              "function displayQuickchartButton(domScope) {\n",
              "  let quickchartButtonEl =\n",
              "    domScope.querySelector('#df-bc9b8e7a-507a-403a-b6e4-8272f8b96772 button.colab-df-quickchart');\n",
              "  quickchartButtonEl.style.display =\n",
              "    google.colab.kernel.accessAllowed ? 'block' : 'none';\n",
              "}\n",
              "\n",
              "        displayQuickchartButton(document);\n",
              "      </script>\n",
              "      <style>\n",
              "    .colab-df-container {\n",
              "      display:flex;\n",
              "      flex-wrap:wrap;\n",
              "      gap: 12px;\n",
              "    }\n",
              "\n",
              "    .colab-df-convert {\n",
              "      background-color: #E8F0FE;\n",
              "      border: none;\n",
              "      border-radius: 50%;\n",
              "      cursor: pointer;\n",
              "      display: none;\n",
              "      fill: #1967D2;\n",
              "      height: 32px;\n",
              "      padding: 0 0 0 0;\n",
              "      width: 32px;\n",
              "    }\n",
              "\n",
              "    .colab-df-convert:hover {\n",
              "      background-color: #E2EBFA;\n",
              "      box-shadow: 0px 1px 2px rgba(60, 64, 67, 0.3), 0px 1px 3px 1px rgba(60, 64, 67, 0.15);\n",
              "      fill: #174EA6;\n",
              "    }\n",
              "\n",
              "    [theme=dark] .colab-df-convert {\n",
              "      background-color: #3B4455;\n",
              "      fill: #D2E3FC;\n",
              "    }\n",
              "\n",
              "    [theme=dark] .colab-df-convert:hover {\n",
              "      background-color: #434B5C;\n",
              "      box-shadow: 0px 1px 3px 1px rgba(0, 0, 0, 0.15);\n",
              "      filter: drop-shadow(0px 1px 2px rgba(0, 0, 0, 0.3));\n",
              "      fill: #FFFFFF;\n",
              "    }\n",
              "  </style>\n",
              "\n",
              "      <script>\n",
              "        const buttonEl =\n",
              "          document.querySelector('#df-fe960fc7-f66e-46b0-b7b2-2b5efca3e686 button.colab-df-convert');\n",
              "        buttonEl.style.display =\n",
              "          google.colab.kernel.accessAllowed ? 'block' : 'none';\n",
              "\n",
              "        async function convertToInteractive(key) {\n",
              "          const element = document.querySelector('#df-fe960fc7-f66e-46b0-b7b2-2b5efca3e686');\n",
              "          const dataTable =\n",
              "            await google.colab.kernel.invokeFunction('convertToInteractive',\n",
              "                                                     [key], {});\n",
              "          if (!dataTable) return;\n",
              "\n",
              "          const docLinkHtml = 'Like what you see? Visit the ' +\n",
              "            '<a target=\"_blank\" href=https://colab.research.google.com/notebooks/data_table.ipynb>data table notebook</a>'\n",
              "            + ' to learn more about interactive tables.';\n",
              "          element.innerHTML = '';\n",
              "          dataTable['output_type'] = 'display_data';\n",
              "          await google.colab.output.renderOutput(dataTable, element);\n",
              "          const docLink = document.createElement('div');\n",
              "          docLink.innerHTML = docLinkHtml;\n",
              "          element.appendChild(docLink);\n",
              "        }\n",
              "      </script>\n",
              "    </div>\n",
              "  </div>\n"
            ]
          },
          "metadata": {},
          "execution_count": 19
        }
      ]
    },
    {
      "cell_type": "code",
      "source": [
        "df.info()"
      ],
      "metadata": {
        "colab": {
          "base_uri": "https://localhost:8080/"
        },
        "id": "yHt98QNp5MoC",
        "outputId": "4cd5aa61-830d-46dc-9334-4eb4400957f9"
      },
      "execution_count": 26,
      "outputs": [
        {
          "output_type": "stream",
          "name": "stdout",
          "text": [
            "<class 'pandas.core.frame.DataFrame'>\n",
            "Int64Index: 8369 entries, 0 to 9092\n",
            "Data columns (total 11 columns):\n",
            " #   Column                Non-Null Count  Dtype  \n",
            "---  ------                --------------  -----  \n",
            " 0   tweet                 8369 non-null   object \n",
            " 1   tweet_is_directed_at  3291 non-null   object \n",
            " 2   emotion               8369 non-null   object \n",
            " 3   character_count       8369 non-null   int64  \n",
            " 4   word_count            8369 non-null   int64  \n",
            " 5   is_tweet_negative     8369 non-null   int64  \n",
            " 6   is_apple              8369 non-null   Int64  \n",
            " 7   number_of_mentions    8369 non-null   int64  \n",
            " 8   hashtags_count        8369 non-null   int64  \n",
            " 9   average_word_length   8369 non-null   float64\n",
            " 10  processed_tweet       8369 non-null   object \n",
            "dtypes: Int64(1), float64(1), int64(5), object(4)\n",
            "memory usage: 792.8+ KB\n"
          ]
        }
      ]
    },
    {
      "cell_type": "code",
      "source": [
        "df.nunique().sort_values(ascending=True)"
      ],
      "metadata": {
        "colab": {
          "base_uri": "https://localhost:8080/"
        },
        "id": "qRbAU0Vo5cTJ",
        "outputId": "2f7ba023-b204-4acd-9ad3-4e06d20a8746"
      },
      "execution_count": 27,
      "outputs": [
        {
          "output_type": "execute_result",
          "data": {
            "text/plain": [
              "is_apple                   2\n",
              "is_tweet_negative          3\n",
              "emotion                    4\n",
              "tweet_is_directed_at       9\n",
              "number_of_mentions         9\n",
              "hashtags_count            13\n",
              "word_count                30\n",
              "character_count          143\n",
              "average_word_length      785\n",
              "processed_tweet         8218\n",
              "tweet                   8326\n",
              "dtype: int64"
            ]
          },
          "metadata": {},
          "execution_count": 27
        }
      ]
    },
    {
      "cell_type": "code",
      "source": [
        "df.isna().sum().sort_values(ascending=False)"
      ],
      "metadata": {
        "colab": {
          "base_uri": "https://localhost:8080/"
        },
        "id": "8AbtMd1_gFJx",
        "outputId": "42dc4906-deb1-421d-8f5e-5951f30b0023"
      },
      "execution_count": 28,
      "outputs": [
        {
          "output_type": "execute_result",
          "data": {
            "text/plain": [
              "tweet_is_directed_at    5078\n",
              "tweet                      0\n",
              "emotion                    0\n",
              "character_count            0\n",
              "word_count                 0\n",
              "is_tweet_negative          0\n",
              "is_apple                   0\n",
              "number_of_mentions         0\n",
              "hashtags_count             0\n",
              "average_word_length        0\n",
              "processed_tweet            0\n",
              "dtype: int64"
            ]
          },
          "metadata": {},
          "execution_count": 28
        }
      ]
    },
    {
      "cell_type": "code",
      "source": [
        "df.corr()"
      ],
      "metadata": {
        "colab": {
          "base_uri": "https://localhost:8080/",
          "height": 369
        },
        "id": "03RYTBKOSs42",
        "outputId": "5c2fb3e5-f0d5-4b8d-a20b-b45af1d164ff"
      },
      "execution_count": 29,
      "outputs": [
        {
          "output_type": "stream",
          "name": "stderr",
          "text": [
            "<ipython-input-29-2f6f6606aa2c>:1: FutureWarning: The default value of numeric_only in DataFrame.corr is deprecated. In a future version, it will default to False. Select only valid columns or specify the value of numeric_only to silence this warning.\n",
            "  df.corr()\n"
          ]
        },
        {
          "output_type": "execute_result",
          "data": {
            "text/plain": [
              "                     character_count  word_count  is_tweet_negative  is_apple  \\\n",
              "character_count             1.000000    0.895978          -0.027270 -0.039956   \n",
              "word_count                  0.895978    1.000000          -0.065890  0.101657   \n",
              "is_tweet_negative          -0.027270   -0.065890           1.000000 -0.098725   \n",
              "is_apple                   -0.039956    0.101657          -0.098725  1.000000   \n",
              "number_of_mentions          0.280058    0.205961           0.019582 -0.036238   \n",
              "hashtags_count              0.077787   -0.033520           0.039116  0.037333   \n",
              "average_word_length         0.083888   -0.345719           0.091686 -0.295527   \n",
              "\n",
              "                     number_of_mentions  hashtags_count  average_word_length  \n",
              "character_count                0.280058        0.077787             0.083888  \n",
              "word_count                     0.205961       -0.033520            -0.345719  \n",
              "is_tweet_negative              0.019582        0.039116             0.091686  \n",
              "is_apple                      -0.036238        0.037333            -0.295527  \n",
              "number_of_mentions             1.000000       -0.020735             0.100823  \n",
              "hashtags_count                -0.020735        1.000000             0.237964  \n",
              "average_word_length            0.100823        0.237964             1.000000  "
            ],
            "text/html": [
              "\n",
              "\n",
              "  <div id=\"df-57cee746-edc7-4e54-a03e-267f6c78e820\">\n",
              "    <div class=\"colab-df-container\">\n",
              "      <div>\n",
              "<style scoped>\n",
              "    .dataframe tbody tr th:only-of-type {\n",
              "        vertical-align: middle;\n",
              "    }\n",
              "\n",
              "    .dataframe tbody tr th {\n",
              "        vertical-align: top;\n",
              "    }\n",
              "\n",
              "    .dataframe thead th {\n",
              "        text-align: right;\n",
              "    }\n",
              "</style>\n",
              "<table border=\"1\" class=\"dataframe\">\n",
              "  <thead>\n",
              "    <tr style=\"text-align: right;\">\n",
              "      <th></th>\n",
              "      <th>character_count</th>\n",
              "      <th>word_count</th>\n",
              "      <th>is_tweet_negative</th>\n",
              "      <th>is_apple</th>\n",
              "      <th>number_of_mentions</th>\n",
              "      <th>hashtags_count</th>\n",
              "      <th>average_word_length</th>\n",
              "    </tr>\n",
              "  </thead>\n",
              "  <tbody>\n",
              "    <tr>\n",
              "      <th>character_count</th>\n",
              "      <td>1.000000</td>\n",
              "      <td>0.895978</td>\n",
              "      <td>-0.027270</td>\n",
              "      <td>-0.039956</td>\n",
              "      <td>0.280058</td>\n",
              "      <td>0.077787</td>\n",
              "      <td>0.083888</td>\n",
              "    </tr>\n",
              "    <tr>\n",
              "      <th>word_count</th>\n",
              "      <td>0.895978</td>\n",
              "      <td>1.000000</td>\n",
              "      <td>-0.065890</td>\n",
              "      <td>0.101657</td>\n",
              "      <td>0.205961</td>\n",
              "      <td>-0.033520</td>\n",
              "      <td>-0.345719</td>\n",
              "    </tr>\n",
              "    <tr>\n",
              "      <th>is_tweet_negative</th>\n",
              "      <td>-0.027270</td>\n",
              "      <td>-0.065890</td>\n",
              "      <td>1.000000</td>\n",
              "      <td>-0.098725</td>\n",
              "      <td>0.019582</td>\n",
              "      <td>0.039116</td>\n",
              "      <td>0.091686</td>\n",
              "    </tr>\n",
              "    <tr>\n",
              "      <th>is_apple</th>\n",
              "      <td>-0.039956</td>\n",
              "      <td>0.101657</td>\n",
              "      <td>-0.098725</td>\n",
              "      <td>1.000000</td>\n",
              "      <td>-0.036238</td>\n",
              "      <td>0.037333</td>\n",
              "      <td>-0.295527</td>\n",
              "    </tr>\n",
              "    <tr>\n",
              "      <th>number_of_mentions</th>\n",
              "      <td>0.280058</td>\n",
              "      <td>0.205961</td>\n",
              "      <td>0.019582</td>\n",
              "      <td>-0.036238</td>\n",
              "      <td>1.000000</td>\n",
              "      <td>-0.020735</td>\n",
              "      <td>0.100823</td>\n",
              "    </tr>\n",
              "    <tr>\n",
              "      <th>hashtags_count</th>\n",
              "      <td>0.077787</td>\n",
              "      <td>-0.033520</td>\n",
              "      <td>0.039116</td>\n",
              "      <td>0.037333</td>\n",
              "      <td>-0.020735</td>\n",
              "      <td>1.000000</td>\n",
              "      <td>0.237964</td>\n",
              "    </tr>\n",
              "    <tr>\n",
              "      <th>average_word_length</th>\n",
              "      <td>0.083888</td>\n",
              "      <td>-0.345719</td>\n",
              "      <td>0.091686</td>\n",
              "      <td>-0.295527</td>\n",
              "      <td>0.100823</td>\n",
              "      <td>0.237964</td>\n",
              "      <td>1.000000</td>\n",
              "    </tr>\n",
              "  </tbody>\n",
              "</table>\n",
              "</div>\n",
              "      <button class=\"colab-df-convert\" onclick=\"convertToInteractive('df-57cee746-edc7-4e54-a03e-267f6c78e820')\"\n",
              "              title=\"Convert this dataframe to an interactive table.\"\n",
              "              style=\"display:none;\">\n",
              "\n",
              "  <svg xmlns=\"http://www.w3.org/2000/svg\" height=\"24px\"viewBox=\"0 0 24 24\"\n",
              "       width=\"24px\">\n",
              "    <path d=\"M0 0h24v24H0V0z\" fill=\"none\"/>\n",
              "    <path d=\"M18.56 5.44l.94 2.06.94-2.06 2.06-.94-2.06-.94-.94-2.06-.94 2.06-2.06.94zm-11 1L8.5 8.5l.94-2.06 2.06-.94-2.06-.94L8.5 2.5l-.94 2.06-2.06.94zm10 10l.94 2.06.94-2.06 2.06-.94-2.06-.94-.94-2.06-.94 2.06-2.06.94z\"/><path d=\"M17.41 7.96l-1.37-1.37c-.4-.4-.92-.59-1.43-.59-.52 0-1.04.2-1.43.59L10.3 9.45l-7.72 7.72c-.78.78-.78 2.05 0 2.83L4 21.41c.39.39.9.59 1.41.59.51 0 1.02-.2 1.41-.59l7.78-7.78 2.81-2.81c.8-.78.8-2.07 0-2.86zM5.41 20L4 18.59l7.72-7.72 1.47 1.35L5.41 20z\"/>\n",
              "  </svg>\n",
              "      </button>\n",
              "\n",
              "\n",
              "\n",
              "    <div id=\"df-57b10021-efe8-426a-a350-70ad8bb9c34a\">\n",
              "      <button class=\"colab-df-quickchart\" onclick=\"quickchart('df-57b10021-efe8-426a-a350-70ad8bb9c34a')\"\n",
              "              title=\"Suggest charts.\"\n",
              "              style=\"display:none;\">\n",
              "\n",
              "<svg xmlns=\"http://www.w3.org/2000/svg\" height=\"24px\"viewBox=\"0 0 24 24\"\n",
              "     width=\"24px\">\n",
              "    <g>\n",
              "        <path d=\"M19 3H5c-1.1 0-2 .9-2 2v14c0 1.1.9 2 2 2h14c1.1 0 2-.9 2-2V5c0-1.1-.9-2-2-2zM9 17H7v-7h2v7zm4 0h-2V7h2v10zm4 0h-2v-4h2v4z\"/>\n",
              "    </g>\n",
              "</svg>\n",
              "      </button>\n",
              "    </div>\n",
              "\n",
              "<style>\n",
              "  .colab-df-quickchart {\n",
              "    background-color: #E8F0FE;\n",
              "    border: none;\n",
              "    border-radius: 50%;\n",
              "    cursor: pointer;\n",
              "    display: none;\n",
              "    fill: #1967D2;\n",
              "    height: 32px;\n",
              "    padding: 0 0 0 0;\n",
              "    width: 32px;\n",
              "  }\n",
              "\n",
              "  .colab-df-quickchart:hover {\n",
              "    background-color: #E2EBFA;\n",
              "    box-shadow: 0px 1px 2px rgba(60, 64, 67, 0.3), 0px 1px 3px 1px rgba(60, 64, 67, 0.15);\n",
              "    fill: #174EA6;\n",
              "  }\n",
              "\n",
              "  [theme=dark] .colab-df-quickchart {\n",
              "    background-color: #3B4455;\n",
              "    fill: #D2E3FC;\n",
              "  }\n",
              "\n",
              "  [theme=dark] .colab-df-quickchart:hover {\n",
              "    background-color: #434B5C;\n",
              "    box-shadow: 0px 1px 3px 1px rgba(0, 0, 0, 0.15);\n",
              "    filter: drop-shadow(0px 1px 2px rgba(0, 0, 0, 0.3));\n",
              "    fill: #FFFFFF;\n",
              "  }\n",
              "</style>\n",
              "\n",
              "    <script>\n",
              "      async function quickchart(key) {\n",
              "        const containerElement = document.querySelector('#' + key);\n",
              "        const charts = await google.colab.kernel.invokeFunction(\n",
              "            'suggestCharts', [key], {});\n",
              "      }\n",
              "    </script>\n",
              "\n",
              "      <script>\n",
              "\n",
              "function displayQuickchartButton(domScope) {\n",
              "  let quickchartButtonEl =\n",
              "    domScope.querySelector('#df-57b10021-efe8-426a-a350-70ad8bb9c34a button.colab-df-quickchart');\n",
              "  quickchartButtonEl.style.display =\n",
              "    google.colab.kernel.accessAllowed ? 'block' : 'none';\n",
              "}\n",
              "\n",
              "        displayQuickchartButton(document);\n",
              "      </script>\n",
              "      <style>\n",
              "    .colab-df-container {\n",
              "      display:flex;\n",
              "      flex-wrap:wrap;\n",
              "      gap: 12px;\n",
              "    }\n",
              "\n",
              "    .colab-df-convert {\n",
              "      background-color: #E8F0FE;\n",
              "      border: none;\n",
              "      border-radius: 50%;\n",
              "      cursor: pointer;\n",
              "      display: none;\n",
              "      fill: #1967D2;\n",
              "      height: 32px;\n",
              "      padding: 0 0 0 0;\n",
              "      width: 32px;\n",
              "    }\n",
              "\n",
              "    .colab-df-convert:hover {\n",
              "      background-color: #E2EBFA;\n",
              "      box-shadow: 0px 1px 2px rgba(60, 64, 67, 0.3), 0px 1px 3px 1px rgba(60, 64, 67, 0.15);\n",
              "      fill: #174EA6;\n",
              "    }\n",
              "\n",
              "    [theme=dark] .colab-df-convert {\n",
              "      background-color: #3B4455;\n",
              "      fill: #D2E3FC;\n",
              "    }\n",
              "\n",
              "    [theme=dark] .colab-df-convert:hover {\n",
              "      background-color: #434B5C;\n",
              "      box-shadow: 0px 1px 3px 1px rgba(0, 0, 0, 0.15);\n",
              "      filter: drop-shadow(0px 1px 2px rgba(0, 0, 0, 0.3));\n",
              "      fill: #FFFFFF;\n",
              "    }\n",
              "  </style>\n",
              "\n",
              "      <script>\n",
              "        const buttonEl =\n",
              "          document.querySelector('#df-57cee746-edc7-4e54-a03e-267f6c78e820 button.colab-df-convert');\n",
              "        buttonEl.style.display =\n",
              "          google.colab.kernel.accessAllowed ? 'block' : 'none';\n",
              "\n",
              "        async function convertToInteractive(key) {\n",
              "          const element = document.querySelector('#df-57cee746-edc7-4e54-a03e-267f6c78e820');\n",
              "          const dataTable =\n",
              "            await google.colab.kernel.invokeFunction('convertToInteractive',\n",
              "                                                     [key], {});\n",
              "          if (!dataTable) return;\n",
              "\n",
              "          const docLinkHtml = 'Like what you see? Visit the ' +\n",
              "            '<a target=\"_blank\" href=https://colab.research.google.com/notebooks/data_table.ipynb>data table notebook</a>'\n",
              "            + ' to learn more about interactive tables.';\n",
              "          element.innerHTML = '';\n",
              "          dataTable['output_type'] = 'display_data';\n",
              "          await google.colab.output.renderOutput(dataTable, element);\n",
              "          const docLink = document.createElement('div');\n",
              "          docLink.innerHTML = docLinkHtml;\n",
              "          element.appendChild(docLink);\n",
              "        }\n",
              "      </script>\n",
              "    </div>\n",
              "  </div>\n"
            ]
          },
          "metadata": {},
          "execution_count": 29
        }
      ]
    },
    {
      "cell_type": "markdown",
      "source": [
        "\n",
        "## Data Cleaning"
      ],
      "metadata": {
        "id": "t16P1R4Meod6"
      }
    },
    {
      "cell_type": "code",
      "source": [
        "# Lowercase\n",
        "df = df.applymap(lambda s:s.lower() if type(s) == str else s)\n",
        "\n",
        "# Renaming columns to better reflect the data\n",
        "rename_cols = {\n",
        "      'tweet_text': 'tweet',\n",
        "      'emotion_in_tweet_is_directed_at': 'tweet_is_directed_at',\n",
        "      'is_there_an_emotion_directed_at_a_brand_or_product': 'emotion'\n",
        "              }\n",
        "df = df.rename(columns=rename_cols)\n",
        "\n",
        "\n",
        "# rename values in the 'emotion' column\n",
        "rename_values = {\n",
        "      'no emotion toward brand or product': 'no emotion',\n",
        "      'positive emotion': 'positive',\n",
        "      'negative emotion': 'negative',\n",
        "      \"i can't tell\": 'unsure'\n",
        "              }\n",
        "df['emotion'] = df['emotion'].map(rename_values)\n",
        "\n",
        "\n",
        "# Dropping (1) single row from df['tweet_text']\n",
        "df.dropna(subset='tweet', inplace=True)\n",
        "\n",
        "\n",
        "# Filter out 17 tweets that contain both Apple & Google\n",
        "apple_and_google = ~((df['tweet_is_directed_at'].isna()) &\n",
        "                   (df['tweet'].str.contains('google')) &\n",
        "                   (df['tweet'].str.contains('apple')))\n",
        "df = df[apple_and_google]\n",
        "\n",
        "\n",
        "\n",
        "## Create assert statements to confirm the code achieved its goals:\n",
        "\n",
        "assert df.loc[(df['tweet_is_directed_at'].isna()) & (df['tweet'].str.contains('google')) & (df['tweet'].str.contains('apple')), 'tweet'].empty\n"
      ],
      "metadata": {
        "id": "5UM7zONye4az"
      },
      "execution_count": 4,
      "outputs": []
    },
    {
      "cell_type": "markdown",
      "source": [
        "## Feature Engineering"
      ],
      "metadata": {
        "id": "0Ot2nCoomxvf"
      }
    },
    {
      "cell_type": "code",
      "source": [
        "# Create column of with the character length of the tweet\n",
        "df['character_count'] = df['tweet'].apply(len)\n",
        "\n",
        "\n",
        "# Create column of with the word count of the tweet\n",
        "df['word_count'] = df['tweet'].apply(lambda x: len(str(x).split()))\n",
        "\n",
        "\n",
        "# Creat column to determine if the tweet was negative toward a brand or not\n",
        "df['is_tweet_negative'] = df['emotion'].apply(lambda x: 1 if x == 'negative' else 0 if x == 'positive' else 2)\n",
        "\n",
        "# What company is the tweet about?\n",
        "renamed_values = {\n",
        "      'ipad': 1, 'ipad or iphone app': 1,\n",
        "      'iphone': 1, 'other google product or service': 0,\n",
        "      'android app': 0, 'android': 0, 'google': 0,\n",
        "      'other apple product or service': 1, 'apple': 1,\n",
        "                 }\n",
        "df['is_apple'] = df['tweet_is_directed_at'].map(renamed_values).astype('Int64')\n",
        "\n",
        "\n",
        "# Creating a feature call 'number_of_mentions' to count @mentions\n",
        "df['number_of_mentions'] = df['tweet'].str.count('@\\w+')\n",
        "\n",
        "\n",
        "# Create a feature 'hashtags_count' to count hashtags\n",
        "df['hashtags_count'] = df['tweet'].str.count('#')\n",
        "\n",
        "\n",
        "# Create feature named 'average_word_length'\n",
        "df['average_word_length'] = df['tweet'].apply(lambda x: np.mean([len(word) for word in x.split()]))\n",
        "\n",
        "# Adding column to tell if data was generated by chatgpt data\n",
        "df['chatgpt_data'] = 0\n"
      ],
      "metadata": {
        "id": "Zg4bNV_Cmjwr"
      },
      "execution_count": 18,
      "outputs": []
    },
    {
      "cell_type": "markdown",
      "source": [
        "## Data Filtering"
      ],
      "metadata": {
        "id": "lmV1_oDmVn1J"
      }
    },
    {
      "cell_type": "code",
      "source": [
        "# Assigning unknown tweet to company based on 'apple_words'\n",
        "apple_words = ['apple', 'iphone','ipod','ipad', 'i-pad', 'app store', 'itunes']\n",
        "apple_regex = '|'.join(apple_words)  # creates the string 'apple|iphone|ipod|ipad|i-pad'\n",
        "\n",
        "df.loc[(df['is_apple'].isna()) & df['tweet'].str.contains(apple_regex, case=False), 'is_apple'] = 1\n",
        "\n",
        "\n",
        "# Assigning unknown tweet to company based on 'google_words'\n",
        "google_words = ['google', 'android','pixel', 'google play']\n",
        "google_regex = '|'.join(google_words)  # creates the string 'google|android|pixel|google play'\n",
        "\n",
        "df.loc[(df['is_apple'].isna()) & df['tweet'].str.contains(google_regex, case=False), 'is_apple'] = 0\n",
        "\n",
        "\n",
        "# Dropping tweets that have no mention of either Apple or Google\n",
        "df.dropna(subset=['is_apple'], inplace=True)\n",
        "\n",
        "\n",
        "# Drop the column 'tweet_is_directed_at' due to many missing values\n",
        "#df = df.drop(columns=['tweet_is_directed_at'])"
      ],
      "metadata": {
        "id": "Wsbk8FprVnh3"
      },
      "execution_count": 6,
      "outputs": []
    },
    {
      "cell_type": "code",
      "source": [
        "df['is_apple'].value_counts()"
      ],
      "metadata": {
        "colab": {
          "base_uri": "https://localhost:8080/"
        },
        "id": "vRl8yyig_yX5",
        "outputId": "bed3fb1f-0847-4197-ff36-79b731a8b449"
      },
      "execution_count": 7,
      "outputs": [
        {
          "output_type": "execute_result",
          "data": {
            "text/plain": [
              "1    5567\n",
              "0    2802\n",
              "Name: is_apple, dtype: Int64"
            ]
          },
          "metadata": {},
          "execution_count": 7
        }
      ]
    },
    {
      "cell_type": "code",
      "source": [
        "df['is_tweet_negative'].value_counts()"
      ],
      "metadata": {
        "colab": {
          "base_uri": "https://localhost:8080/"
        },
        "id": "voFLUkvS8ESg",
        "outputId": "1e15fb5c-d664-4e03-b943-59873be03791"
      },
      "execution_count": 8,
      "outputs": [
        {
          "output_type": "execute_result",
          "data": {
            "text/plain": [
              "2    4833\n",
              "0    2967\n",
              "1     569\n",
              "Name: is_tweet_negative, dtype: int64"
            ]
          },
          "metadata": {},
          "execution_count": 8
        }
      ]
    },
    {
      "cell_type": "markdown",
      "source": [
        "## Import and Join Negative Tweet Data (via ChatGPT prompt engineering)"
      ],
      "metadata": {
        "id": "IbWY-vsgKw6q"
      }
    },
    {
      "cell_type": "code",
      "source": [
        "df['is_tweet_negative'].value_counts()"
      ],
      "metadata": {
        "colab": {
          "base_uri": "https://localhost:8080/"
        },
        "id": "SvWMeQsFLgTs",
        "outputId": "1ad59301-c863-4e34-8e66-adb679740214"
      },
      "execution_count": 9,
      "outputs": [
        {
          "output_type": "execute_result",
          "data": {
            "text/plain": [
              "2    4833\n",
              "0    2967\n",
              "1     569\n",
              "Name: is_tweet_negative, dtype: int64"
            ]
          },
          "metadata": {},
          "execution_count": 9
        }
      ]
    },
    {
      "cell_type": "code",
      "source": [
        "# Read in data locally\n",
        "#neg_tweets = pd.read_csv('data/chatgpt_tweet_data.csv')\n",
        "\n",
        "# Read in data using google colab/drive\n",
        "neg_tweets = pd.read_csv('/content/drive/MyDrive/Flatiron/project_4/chatgpt_tweet_data.csv')\n",
        "\n",
        "# Lowercase\n",
        "neg_tweets = neg_tweets.applymap(lambda s:s.lower() if type(s) == str else s)\n",
        "\n",
        "# Adding column to tell if data was generated by chatgpt data\n",
        "neg_tweets['chatgpt_data'] = 1"
      ],
      "metadata": {
        "id": "ox6yFLL5K4ke"
      },
      "execution_count": 21,
      "outputs": []
    },
    {
      "cell_type": "code",
      "source": [
        "neg_tweets.head()"
      ],
      "metadata": {
        "colab": {
          "base_uri": "https://localhost:8080/",
          "height": 600
        },
        "id": "HhnB34QHPbcH",
        "outputId": "ad6583ed-0a87-4550-f867-49ec43836aa2"
      },
      "execution_count": 22,
      "outputs": [
        {
          "output_type": "execute_result",
          "data": {
            "text/plain": [
              "                                              tweet tweet_is_directed_at  \\\n",
              "0         can't believe how slow the new iphone is!                apple   \n",
              "1         google search results are so frustrating!               google   \n",
              "2  the latest apple update crashed my device again!                apple   \n",
              "3    i'm so disappointed with google's new feature.               google   \n",
              "4          apple's customer service is a nightmare!                apple   \n",
              "\n",
              "    emotion  character_count  word_count  is_tweet_negative  is_apple  \\\n",
              "0  negative               37           8                  1         1   \n",
              "1  negative               37           6                  1         0   \n",
              "2  negative               45           9                  1         1   \n",
              "3  negative               40           8                  1         0   \n",
              "4  negative               38           7                  1         1   \n",
              "\n",
              "   number_of_mentions  hashtags_count  average_word_length  chatgpt_data  \n",
              "0                   0               0                  4.6             1  \n",
              "1                   0               0                  6.2             1  \n",
              "2                   0               0                  4.8             1  \n",
              "3                   0               0                  5.0             1  \n",
              "4                   0               0                  5.4             1  "
            ],
            "text/html": [
              "\n",
              "\n",
              "  <div id=\"df-31812f18-73fe-4674-9285-c1d7a302e66b\">\n",
              "    <div class=\"colab-df-container\">\n",
              "      <div>\n",
              "<style scoped>\n",
              "    .dataframe tbody tr th:only-of-type {\n",
              "        vertical-align: middle;\n",
              "    }\n",
              "\n",
              "    .dataframe tbody tr th {\n",
              "        vertical-align: top;\n",
              "    }\n",
              "\n",
              "    .dataframe thead th {\n",
              "        text-align: right;\n",
              "    }\n",
              "</style>\n",
              "<table border=\"1\" class=\"dataframe\">\n",
              "  <thead>\n",
              "    <tr style=\"text-align: right;\">\n",
              "      <th></th>\n",
              "      <th>tweet</th>\n",
              "      <th>tweet_is_directed_at</th>\n",
              "      <th>emotion</th>\n",
              "      <th>character_count</th>\n",
              "      <th>word_count</th>\n",
              "      <th>is_tweet_negative</th>\n",
              "      <th>is_apple</th>\n",
              "      <th>number_of_mentions</th>\n",
              "      <th>hashtags_count</th>\n",
              "      <th>average_word_length</th>\n",
              "      <th>chatgpt_data</th>\n",
              "    </tr>\n",
              "  </thead>\n",
              "  <tbody>\n",
              "    <tr>\n",
              "      <th>0</th>\n",
              "      <td>can't believe how slow the new iphone is!</td>\n",
              "      <td>apple</td>\n",
              "      <td>negative</td>\n",
              "      <td>37</td>\n",
              "      <td>8</td>\n",
              "      <td>1</td>\n",
              "      <td>1</td>\n",
              "      <td>0</td>\n",
              "      <td>0</td>\n",
              "      <td>4.6</td>\n",
              "      <td>1</td>\n",
              "    </tr>\n",
              "    <tr>\n",
              "      <th>1</th>\n",
              "      <td>google search results are so frustrating!</td>\n",
              "      <td>google</td>\n",
              "      <td>negative</td>\n",
              "      <td>37</td>\n",
              "      <td>6</td>\n",
              "      <td>1</td>\n",
              "      <td>0</td>\n",
              "      <td>0</td>\n",
              "      <td>0</td>\n",
              "      <td>6.2</td>\n",
              "      <td>1</td>\n",
              "    </tr>\n",
              "    <tr>\n",
              "      <th>2</th>\n",
              "      <td>the latest apple update crashed my device again!</td>\n",
              "      <td>apple</td>\n",
              "      <td>negative</td>\n",
              "      <td>45</td>\n",
              "      <td>9</td>\n",
              "      <td>1</td>\n",
              "      <td>1</td>\n",
              "      <td>0</td>\n",
              "      <td>0</td>\n",
              "      <td>4.8</td>\n",
              "      <td>1</td>\n",
              "    </tr>\n",
              "    <tr>\n",
              "      <th>3</th>\n",
              "      <td>i'm so disappointed with google's new feature.</td>\n",
              "      <td>google</td>\n",
              "      <td>negative</td>\n",
              "      <td>40</td>\n",
              "      <td>8</td>\n",
              "      <td>1</td>\n",
              "      <td>0</td>\n",
              "      <td>0</td>\n",
              "      <td>0</td>\n",
              "      <td>5.0</td>\n",
              "      <td>1</td>\n",
              "    </tr>\n",
              "    <tr>\n",
              "      <th>4</th>\n",
              "      <td>apple's customer service is a nightmare!</td>\n",
              "      <td>apple</td>\n",
              "      <td>negative</td>\n",
              "      <td>38</td>\n",
              "      <td>7</td>\n",
              "      <td>1</td>\n",
              "      <td>1</td>\n",
              "      <td>0</td>\n",
              "      <td>0</td>\n",
              "      <td>5.4</td>\n",
              "      <td>1</td>\n",
              "    </tr>\n",
              "  </tbody>\n",
              "</table>\n",
              "</div>\n",
              "      <button class=\"colab-df-convert\" onclick=\"convertToInteractive('df-31812f18-73fe-4674-9285-c1d7a302e66b')\"\n",
              "              title=\"Convert this dataframe to an interactive table.\"\n",
              "              style=\"display:none;\">\n",
              "\n",
              "  <svg xmlns=\"http://www.w3.org/2000/svg\" height=\"24px\"viewBox=\"0 0 24 24\"\n",
              "       width=\"24px\">\n",
              "    <path d=\"M0 0h24v24H0V0z\" fill=\"none\"/>\n",
              "    <path d=\"M18.56 5.44l.94 2.06.94-2.06 2.06-.94-2.06-.94-.94-2.06-.94 2.06-2.06.94zm-11 1L8.5 8.5l.94-2.06 2.06-.94-2.06-.94L8.5 2.5l-.94 2.06-2.06.94zm10 10l.94 2.06.94-2.06 2.06-.94-2.06-.94-.94-2.06-.94 2.06-2.06.94z\"/><path d=\"M17.41 7.96l-1.37-1.37c-.4-.4-.92-.59-1.43-.59-.52 0-1.04.2-1.43.59L10.3 9.45l-7.72 7.72c-.78.78-.78 2.05 0 2.83L4 21.41c.39.39.9.59 1.41.59.51 0 1.02-.2 1.41-.59l7.78-7.78 2.81-2.81c.8-.78.8-2.07 0-2.86zM5.41 20L4 18.59l7.72-7.72 1.47 1.35L5.41 20z\"/>\n",
              "  </svg>\n",
              "      </button>\n",
              "\n",
              "\n",
              "\n",
              "    <div id=\"df-d442ad1b-e2fe-42bd-831c-2a07003a8436\">\n",
              "      <button class=\"colab-df-quickchart\" onclick=\"quickchart('df-d442ad1b-e2fe-42bd-831c-2a07003a8436')\"\n",
              "              title=\"Suggest charts.\"\n",
              "              style=\"display:none;\">\n",
              "\n",
              "<svg xmlns=\"http://www.w3.org/2000/svg\" height=\"24px\"viewBox=\"0 0 24 24\"\n",
              "     width=\"24px\">\n",
              "    <g>\n",
              "        <path d=\"M19 3H5c-1.1 0-2 .9-2 2v14c0 1.1.9 2 2 2h14c1.1 0 2-.9 2-2V5c0-1.1-.9-2-2-2zM9 17H7v-7h2v7zm4 0h-2V7h2v10zm4 0h-2v-4h2v4z\"/>\n",
              "    </g>\n",
              "</svg>\n",
              "      </button>\n",
              "    </div>\n",
              "\n",
              "<style>\n",
              "  .colab-df-quickchart {\n",
              "    background-color: #E8F0FE;\n",
              "    border: none;\n",
              "    border-radius: 50%;\n",
              "    cursor: pointer;\n",
              "    display: none;\n",
              "    fill: #1967D2;\n",
              "    height: 32px;\n",
              "    padding: 0 0 0 0;\n",
              "    width: 32px;\n",
              "  }\n",
              "\n",
              "  .colab-df-quickchart:hover {\n",
              "    background-color: #E2EBFA;\n",
              "    box-shadow: 0px 1px 2px rgba(60, 64, 67, 0.3), 0px 1px 3px 1px rgba(60, 64, 67, 0.15);\n",
              "    fill: #174EA6;\n",
              "  }\n",
              "\n",
              "  [theme=dark] .colab-df-quickchart {\n",
              "    background-color: #3B4455;\n",
              "    fill: #D2E3FC;\n",
              "  }\n",
              "\n",
              "  [theme=dark] .colab-df-quickchart:hover {\n",
              "    background-color: #434B5C;\n",
              "    box-shadow: 0px 1px 3px 1px rgba(0, 0, 0, 0.15);\n",
              "    filter: drop-shadow(0px 1px 2px rgba(0, 0, 0, 0.3));\n",
              "    fill: #FFFFFF;\n",
              "  }\n",
              "</style>\n",
              "\n",
              "    <script>\n",
              "      async function quickchart(key) {\n",
              "        const containerElement = document.querySelector('#' + key);\n",
              "        const charts = await google.colab.kernel.invokeFunction(\n",
              "            'suggestCharts', [key], {});\n",
              "      }\n",
              "    </script>\n",
              "\n",
              "      <script>\n",
              "\n",
              "function displayQuickchartButton(domScope) {\n",
              "  let quickchartButtonEl =\n",
              "    domScope.querySelector('#df-d442ad1b-e2fe-42bd-831c-2a07003a8436 button.colab-df-quickchart');\n",
              "  quickchartButtonEl.style.display =\n",
              "    google.colab.kernel.accessAllowed ? 'block' : 'none';\n",
              "}\n",
              "\n",
              "        displayQuickchartButton(document);\n",
              "      </script>\n",
              "      <style>\n",
              "    .colab-df-container {\n",
              "      display:flex;\n",
              "      flex-wrap:wrap;\n",
              "      gap: 12px;\n",
              "    }\n",
              "\n",
              "    .colab-df-convert {\n",
              "      background-color: #E8F0FE;\n",
              "      border: none;\n",
              "      border-radius: 50%;\n",
              "      cursor: pointer;\n",
              "      display: none;\n",
              "      fill: #1967D2;\n",
              "      height: 32px;\n",
              "      padding: 0 0 0 0;\n",
              "      width: 32px;\n",
              "    }\n",
              "\n",
              "    .colab-df-convert:hover {\n",
              "      background-color: #E2EBFA;\n",
              "      box-shadow: 0px 1px 2px rgba(60, 64, 67, 0.3), 0px 1px 3px 1px rgba(60, 64, 67, 0.15);\n",
              "      fill: #174EA6;\n",
              "    }\n",
              "\n",
              "    [theme=dark] .colab-df-convert {\n",
              "      background-color: #3B4455;\n",
              "      fill: #D2E3FC;\n",
              "    }\n",
              "\n",
              "    [theme=dark] .colab-df-convert:hover {\n",
              "      background-color: #434B5C;\n",
              "      box-shadow: 0px 1px 3px 1px rgba(0, 0, 0, 0.15);\n",
              "      filter: drop-shadow(0px 1px 2px rgba(0, 0, 0, 0.3));\n",
              "      fill: #FFFFFF;\n",
              "    }\n",
              "  </style>\n",
              "\n",
              "      <script>\n",
              "        const buttonEl =\n",
              "          document.querySelector('#df-31812f18-73fe-4674-9285-c1d7a302e66b button.colab-df-convert');\n",
              "        buttonEl.style.display =\n",
              "          google.colab.kernel.accessAllowed ? 'block' : 'none';\n",
              "\n",
              "        async function convertToInteractive(key) {\n",
              "          const element = document.querySelector('#df-31812f18-73fe-4674-9285-c1d7a302e66b');\n",
              "          const dataTable =\n",
              "            await google.colab.kernel.invokeFunction('convertToInteractive',\n",
              "                                                     [key], {});\n",
              "          if (!dataTable) return;\n",
              "\n",
              "          const docLinkHtml = 'Like what you see? Visit the ' +\n",
              "            '<a target=\"_blank\" href=https://colab.research.google.com/notebooks/data_table.ipynb>data table notebook</a>'\n",
              "            + ' to learn more about interactive tables.';\n",
              "          element.innerHTML = '';\n",
              "          dataTable['output_type'] = 'display_data';\n",
              "          await google.colab.output.renderOutput(dataTable, element);\n",
              "          const docLink = document.createElement('div');\n",
              "          docLink.innerHTML = docLinkHtml;\n",
              "          element.appendChild(docLink);\n",
              "        }\n",
              "      </script>\n",
              "    </div>\n",
              "  </div>\n"
            ]
          },
          "metadata": {},
          "execution_count": 22
        }
      ]
    },
    {
      "cell_type": "code",
      "source": [
        "#Join Dataframes\n",
        "df = pd.concat([df, neg_tweets])"
      ],
      "metadata": {
        "id": "Xe_VSnVhO2CX"
      },
      "execution_count": 23,
      "outputs": []
    },
    {
      "cell_type": "code",
      "source": [
        "df['is_tweet_negative'].value_counts()"
      ],
      "metadata": {
        "colab": {
          "base_uri": "https://localhost:8080/"
        },
        "id": "WYpoWfawL1Aw",
        "outputId": "b887972d-a547-4285-ed35-0c8e2522b5ed"
      },
      "execution_count": 26,
      "outputs": [
        {
          "output_type": "execute_result",
          "data": {
            "text/plain": [
              "2    4833\n",
              "0    2967\n",
              "1    2920\n",
              "Name: is_tweet_negative, dtype: int64"
            ]
          },
          "metadata": {},
          "execution_count": 26
        }
      ]
    },
    {
      "cell_type": "markdown",
      "source": [
        "## Modeling"
      ],
      "metadata": {
        "id": "OAB1YmtFjbUc"
      }
    },
    {
      "cell_type": "code",
      "source": [
        "# You might need to download these if you haven't already\n",
        "nltk.download('stopwords')\n",
        "nltk.download('wordnet')\n",
        "\n",
        "stop_words = set(stopwords.words('english'))\n",
        "lemmatizer = WordNetLemmatizer()"
      ],
      "metadata": {
        "colab": {
          "base_uri": "https://localhost:8080/"
        },
        "id": "4Mg4oMNQjcK2",
        "outputId": "53dd1c3b-e449-43c2-ceb3-1d8ecedbecb2"
      },
      "execution_count": 27,
      "outputs": [
        {
          "output_type": "stream",
          "name": "stderr",
          "text": [
            "[nltk_data] Downloading package stopwords to /root/nltk_data...\n",
            "[nltk_data]   Package stopwords is already up-to-date!\n",
            "[nltk_data] Downloading package wordnet to /root/nltk_data...\n",
            "[nltk_data]   Package wordnet is already up-to-date!\n"
          ]
        }
      ]
    },
    {
      "cell_type": "code",
      "source": [
        "# Function to preprocess tweets\n",
        "def preprocess(tweet):\n",
        "    tweet = tweet.lower()\n",
        "    tweet = re.sub(r'[^\\w\\s@#]', ' ', tweet)\n",
        "    tweet = re.sub(r'\\s+[a-zA-Z]\\s+', ' ', tweet)\n",
        "    tweet = re.sub(r'\\s+', ' ', tweet, flags=re.I)\n",
        "    tweet = re.sub(r'^b\\s+', '', tweet)\n",
        "    tweet = tweet.split()\n",
        "    tweet = [lemmatizer.lemmatize(word) for word in tweet if not word in stop_words]\n",
        "    tweet = ' '.join(tweet)\n",
        "    return tweet\n",
        "\n"
      ],
      "metadata": {
        "id": "D3SRsiob2Auu"
      },
      "execution_count": 28,
      "outputs": []
    },
    {
      "cell_type": "code",
      "source": [
        "# Apply preprocessing function to tweets\n",
        "df['processed_tweet'] = df['tweet'].apply(preprocess)"
      ],
      "metadata": {
        "id": "LCBEaB-94Edz"
      },
      "execution_count": 29,
      "outputs": []
    },
    {
      "cell_type": "code",
      "source": [
        "# Feature extraction with TF-IDF\n",
        "vectorizer = TfidfVectorizer(max_features=1000)\n",
        "X = vectorizer.fit_transform(df['processed_tweet']).toarray()\n",
        "y = df['is_tweet_negative']"
      ],
      "metadata": {
        "id": "hEtXcN3L4NZs"
      },
      "execution_count": 30,
      "outputs": []
    },
    {
      "cell_type": "code",
      "source": [
        "# Split data into training set and test set\n",
        "X_train, X_test, y_train, y_test = train_test_split(X, y, test_size=0.2, random_state=42)\n"
      ],
      "metadata": {
        "id": "ePMW_n2-4IHp"
      },
      "execution_count": 31,
      "outputs": []
    },
    {
      "cell_type": "code",
      "source": [
        "# Print the original class distribution\n",
        "print('Original class distribution: \\n', y_train.value_counts())"
      ],
      "metadata": {
        "colab": {
          "base_uri": "https://localhost:8080/"
        },
        "id": "79KsaJSqR9Ta",
        "outputId": "59a42b66-4683-410d-f9ef-3d7ebd394aad"
      },
      "execution_count": 32,
      "outputs": [
        {
          "output_type": "stream",
          "name": "stdout",
          "text": [
            "Original class distribution: \n",
            " 2    3867\n",
            "0    2379\n",
            "1    2330\n",
            "Name: is_tweet_negative, dtype: int64\n"
          ]
        }
      ]
    },
    {
      "cell_type": "code",
      "source": [
        "# Train the model\n",
        "classifier = LogisticRegression()\n",
        "classifier.fit(X_train, y_train)\n",
        "\n",
        "# Make predictions\n",
        "y_pred = classifier.predict(X_test)\n",
        "\n",
        "# Evaluate the model\n",
        "print(classification_report(y_test, y_pred))\n",
        "print(\"Accuracy:\", accuracy_score(y_test, y_pred))"
      ],
      "metadata": {
        "colab": {
          "base_uri": "https://localhost:8080/"
        },
        "id": "DvIlcQEX4RXn",
        "outputId": "f296c7e3-70db-4b2e-d806-516c2ddf25a4"
      },
      "execution_count": 33,
      "outputs": [
        {
          "output_type": "stream",
          "name": "stdout",
          "text": [
            "              precision    recall  f1-score   support\n",
            "\n",
            "           0       0.58      0.43      0.49       588\n",
            "           1       0.94      0.81      0.87       590\n",
            "           2       0.66      0.82      0.73       966\n",
            "\n",
            "    accuracy                           0.71      2144\n",
            "   macro avg       0.73      0.69      0.70      2144\n",
            "weighted avg       0.72      0.71      0.71      2144\n",
            "\n",
            "Accuracy: 0.7112873134328358\n"
          ]
        }
      ]
    },
    {
      "cell_type": "code",
      "source": [
        "# Generate confusion matrix\n",
        "matrix = confusion_matrix(y_test, y_pred)\n",
        "\n",
        "# Create a heatmap from the confusion matrix\n",
        "plt.figure(figsize=(4,4))\n",
        "sns.heatmap(matrix, annot=True, cmap='Blues', fmt='d')\n",
        "\n",
        "plt.title('Confusion Matrix')\n",
        "plt.xlabel('Predicted Label')\n",
        "plt.ylabel('True Label')\n",
        "\n",
        "plt.show()\n",
        "\n",
        "# Evaluate the model\n",
        "print(classification_report(y_test, y_pred))\n",
        "print(\"Accuracy:\", accuracy_score(y_test, y_pred))"
      ],
      "metadata": {
        "colab": {
          "base_uri": "https://localhost:8080/",
          "height": 606
        },
        "id": "my4XZrwXMawZ",
        "outputId": "a6330179-ffa1-49ca-a396-4b995cb68bfe"
      },
      "execution_count": 34,
      "outputs": [
        {
          "output_type": "display_data",
          "data": {
            "text/plain": [
              "<Figure size 400x400 with 2 Axes>"
            ],
            "image/png": "[encoded data removed]"
          },
          "metadata": {}
        },
        {
          "output_type": "stream",
          "name": "stdout",
          "text": [
            "              precision    recall  f1-score   support\n",
            "\n",
            "           0       0.58      0.43      0.49       588\n",
            "           1       0.94      0.81      0.87       590\n",
            "           2       0.66      0.82      0.73       966\n",
            "\n",
            "    accuracy                           0.71      2144\n",
            "   macro avg       0.73      0.69      0.70      2144\n",
            "weighted avg       0.72      0.71      0.71      2144\n",
            "\n",
            "Accuracy: 0.7112873134328358\n"
          ]
        }
      ]
    }
  ]
}