{
 "cells": [
  {
   "cell_type": "code",
   "execution_count": 675,
   "metadata": {},
   "outputs": [],
   "source": [
    "import pandas as pd\n",
    "import numpy as np\n",
    "import matplotlib.pyplot as plt\n",
    "import seaborn as sns\n",
    "from sklearn.model_selection import train_test_split, cross_val_score\n",
    "import re"
   ]
  },
  {
   "cell_type": "code",
   "execution_count": 676,
   "metadata": {},
   "outputs": [],
   "source": [
    "df=pd.read_csv('data/Tweets.csv', encoding='latin1')"
   ]
  },
  {
   "cell_type": "code",
   "execution_count": 677,
   "metadata": {},
   "outputs": [
    {
     "name": "stdout",
     "output_type": "stream",
     "text": [
      "<class 'pandas.core.frame.DataFrame'>\n",
      "RangeIndex: 9093 entries, 0 to 9092\n",
      "Data columns (total 3 columns):\n",
      " #   Column                                              Non-Null Count  Dtype \n",
      "---  ------                                              --------------  ----- \n",
      " 0   tweet_text                                          9092 non-null   object\n",
      " 1   emotion_in_tweet_is_directed_at                     3291 non-null   object\n",
      " 2   is_there_an_emotion_directed_at_a_brand_or_product  9093 non-null   object\n",
      "dtypes: object(3)\n",
      "memory usage: 213.2+ KB\n"
     ]
    }
   ],
   "source": [
    "df.info()"
   ]
  },
  {
   "cell_type": "code",
   "execution_count": 678,
   "metadata": {},
   "outputs": [
    {
     "data": {
      "text/html": [
       "<div>\n",
       "<style scoped>\n",
       "    .dataframe tbody tr th:only-of-type {\n",
       "        vertical-align: middle;\n",
       "    }\n",
       "\n",
       "    .dataframe tbody tr th {\n",
       "        vertical-align: top;\n",
       "    }\n",
       "\n",
       "    .dataframe thead th {\n",
       "        text-align: right;\n",
       "    }\n",
       "</style>\n",
       "<table border=\"1\" class=\"dataframe\">\n",
       "  <thead>\n",
       "    <tr style=\"text-align: right;\">\n",
       "      <th></th>\n",
       "      <th>tweet_text</th>\n",
       "      <th>emotion_in_tweet_is_directed_at</th>\n",
       "      <th>is_there_an_emotion_directed_at_a_brand_or_product</th>\n",
       "    </tr>\n",
       "  </thead>\n",
       "  <tbody>\n",
       "    <tr>\n",
       "      <th>0</th>\n",
       "      <td>.@wesley83 I have a 3G iPhone. After 3 hrs twe...</td>\n",
       "      <td>iPhone</td>\n",
       "      <td>Negative emotion</td>\n",
       "    </tr>\n",
       "    <tr>\n",
       "      <th>1</th>\n",
       "      <td>@jessedee Know about @fludapp ? Awesome iPad/i...</td>\n",
       "      <td>iPad or iPhone App</td>\n",
       "      <td>Positive emotion</td>\n",
       "    </tr>\n",
       "    <tr>\n",
       "      <th>2</th>\n",
       "      <td>@swonderlin Can not wait for #iPad 2 also. The...</td>\n",
       "      <td>iPad</td>\n",
       "      <td>Positive emotion</td>\n",
       "    </tr>\n",
       "    <tr>\n",
       "      <th>3</th>\n",
       "      <td>@sxsw I hope this year's festival isn't as cra...</td>\n",
       "      <td>iPad or iPhone App</td>\n",
       "      <td>Negative emotion</td>\n",
       "    </tr>\n",
       "    <tr>\n",
       "      <th>4</th>\n",
       "      <td>@sxtxstate great stuff on Fri #SXSW: Marissa M...</td>\n",
       "      <td>Google</td>\n",
       "      <td>Positive emotion</td>\n",
       "    </tr>\n",
       "  </tbody>\n",
       "</table>\n",
       "</div>"
      ],
      "text/plain": [
       "                                          tweet_text  \\\n",
       "0  .@wesley83 I have a 3G iPhone. After 3 hrs twe...   \n",
       "1  @jessedee Know about @fludapp ? Awesome iPad/i...   \n",
       "2  @swonderlin Can not wait for #iPad 2 also. The...   \n",
       "3  @sxsw I hope this year's festival isn't as cra...   \n",
       "4  @sxtxstate great stuff on Fri #SXSW: Marissa M...   \n",
       "\n",
       "  emotion_in_tweet_is_directed_at  \\\n",
       "0                          iPhone   \n",
       "1              iPad or iPhone App   \n",
       "2                            iPad   \n",
       "3              iPad or iPhone App   \n",
       "4                          Google   \n",
       "\n",
       "  is_there_an_emotion_directed_at_a_brand_or_product  \n",
       "0                                   Negative emotion  \n",
       "1                                   Positive emotion  \n",
       "2                                   Positive emotion  \n",
       "3                                   Negative emotion  \n",
       "4                                   Positive emotion  "
      ]
     },
     "execution_count": 678,
     "metadata": {},
     "output_type": "execute_result"
    }
   ],
   "source": [
    "df.head()"
   ]
  },
  {
   "cell_type": "code",
   "execution_count": 679,
   "metadata": {},
   "outputs": [
    {
     "data": {
      "text/plain": [
       "iPad                               946\n",
       "Apple                              661\n",
       "iPad or iPhone App                 470\n",
       "Google                             430\n",
       "iPhone                             297\n",
       "Other Google product or service    293\n",
       "Android App                         81\n",
       "Android                             78\n",
       "Other Apple product or service      35\n",
       "Name: emotion_in_tweet_is_directed_at, dtype: int64"
      ]
     },
     "execution_count": 679,
     "metadata": {},
     "output_type": "execute_result"
    }
   ],
   "source": [
    "df['emotion_in_tweet_is_directed_at'].value_counts()"
   ]
  },
  {
   "cell_type": "code",
   "execution_count": 680,
   "metadata": {},
   "outputs": [],
   "source": [
    "google_pattern='[Gg]oogle\\s[A-Za-z0-9]*'\n",
    "def google_product_finder(x):\n",
    "    s=''\n",
    "    product=re.findall(google_pattern, x)\n",
    "    s+=str(product).title()\n",
    "    return s.replace('[', '').replace(']', '').replace(\"'\", \"\")"
   ]
  },
  {
   "cell_type": "code",
   "execution_count": 681,
   "metadata": {},
   "outputs": [],
   "source": [
    "df.loc[df['emotion_in_tweet_is_directed_at']=='Other Google product or service', 'emotion_in_tweet_is_directed_at']=df.loc[df['emotion_in_tweet_is_directed_at']=='Other Google product or service']['tweet_text'].apply(google_product_finder)"
   ]
  },
  {
   "cell_type": "code",
   "execution_count": 682,
   "metadata": {},
   "outputs": [],
   "source": [
    "i_pattern='i[A-Z][A-Za-z0-9]*'\n",
    "def i_product_finder(x):\n",
    "    s=''\n",
    "    product=re.findall(i_pattern, x)\n",
    "    s=str(product).replace('[', '').replace(']', '').replace(\"'\", \"\")\n",
    "    return s"
   ]
  },
  {
   "cell_type": "code",
   "execution_count": 683,
   "metadata": {},
   "outputs": [],
   "source": [
    "df.loc[df['emotion_in_tweet_is_directed_at']=='Other Apple product or service', 'emotion_in_tweet_is_directed_at']=df.loc[df['emotion_in_tweet_is_directed_at']=='Other Apple product or service']['tweet_text'].apply(i_product_finder)"
   ]
  },
  {
   "cell_type": "code",
   "execution_count": 684,
   "metadata": {},
   "outputs": [],
   "source": [
    "def straggler_cleaner(x):\n",
    "    x=x.lower()\n",
    "    if 'google' in x and 'maps' in x:\n",
    "        return 'Google Maps'\n",
    "    elif 'google' in x and 'map' in x:\n",
    "        return 'Google Maps'\n",
    "    elif 'google' in x and 'photobooth' in x:\n",
    "        return 'Google Photobooth'\n",
    "    elif 'google' in x and 'route-around' in x:\n",
    "        return 'Google Maps'\n",
    "    elif 'google' in x and 'route around' in x:\n",
    "        return 'Google Maps'\n",
    "    elif 'google' in x and 'circles' in x:\n",
    "        return 'Google Circles'\n",
    "    elif \"'circles'\" in x:\n",
    "        return 'Google Circles'\n",
    "    elif 'google' in x:\n",
    "        return 'Google'\n",
    "    elif 'iphone charger' in x:\n",
    "        return 'iPhone charger'\n",
    "    elif 'itunes' in x:\n",
    "        return 'iTunes'\n",
    "    elif 'apple' and 'macs' in x:\n",
    "        return 'Mac'\n",
    "    elif 'apple' and 'mac' in x:\n",
    "        return 'Mac'\n",
    "    elif 'iphone' and 'case' in x:\n",
    "        return 'iPhone case'\n",
    "    elif 'apple' in x:\n",
    "        return 'Apple'\n",
    "    else:\n",
    "        return ''"
   ]
  },
  {
   "cell_type": "code",
   "execution_count": 685,
   "metadata": {},
   "outputs": [],
   "source": [
    "df.loc[df['emotion_in_tweet_is_directed_at']=='', 'emotion_in_tweet_is_directed_at']=df.loc[df['emotion_in_tweet_is_directed_at']=='']['tweet_text'].apply(straggler_cleaner)"
   ]
  },
  {
   "cell_type": "code",
   "execution_count": 686,
   "metadata": {},
   "outputs": [],
   "source": [
    "df['positive_sentiment']=df['is_there_an_emotion_directed_at_a_brand_or_product'].apply(lambda x: 1 if x =='Positive emotion' else 0)\n",
    "df['negative_sentiment']=df['is_there_an_emotion_directed_at_a_brand_or_product'].apply(lambda x: 1 if x =='Negative emotion' else 0)\n",
    "top_8_sentiments=pd.concat([df.groupby('emotion_in_tweet_is_directed_at')['positive_sentiment'].sum().sort_values(ascending=False)[:8], df.groupby('emotion_in_tweet_is_directed_at')['negative_sentiment'].sum().sort_values(ascending=False)[:8]], axis=1, ignore_index=False)"
   ]
  },
  {
   "cell_type": "code",
   "execution_count": 687,
   "metadata": {},
   "outputs": [
    {
     "data": {
      "image/png": "[encoded data removed]",
      "text/plain": [
       "<Figure size 1008x864 with 1 Axes>"
      ]
     },
     "metadata": {
      "needs_background": "light"
     },
     "output_type": "display_data"
    }
   ],
   "source": [
    "fig, ax=plt.subplots(figsize=(14,12))\n",
    "width=0.4\n",
    "ax.bar(np.arange(1,9,1)-width/2, top_8_sentiments['positive_sentiment'], width=width, color='blue', label='positive')\n",
    "ax.bar(np.arange(1,9,1)+width/2, top_8_sentiments['negative_sentiment'], width=width, color='orange', label='negative')\n",
    "ax.set_xticks(np.arange(1,9,1))\n",
    "ax.set_xticklabels(top_8_sentiments.index)\n",
    "ax.set_title('Comparison of positive and negative sentiment by product')\n",
    "ax.legend();"
   ]
  },
  {
   "cell_type": "code",
   "execution_count": 688,
   "metadata": {},
   "outputs": [
    {
     "data": {
      "text/plain": [
       "iPad                              953\n",
       "Apple                             662\n",
       "iPad or iPhone App                470\n",
       "Google                            439\n",
       "iPhone                            305\n",
       "                                 ... \n",
       "Google Apis                         1\n",
       "Google For                          1\n",
       "Google Logos                        1\n",
       "Google Photobooth                   1\n",
       "Google Should, Google Checkout      1\n",
       "Name: emotion_in_tweet_is_directed_at, Length: 95, dtype: int64"
      ]
     },
     "execution_count": 688,
     "metadata": {},
     "output_type": "execute_result"
    }
   ],
   "source": [
    "df['emotion_in_tweet_is_directed_at'].value_counts()"
   ]
  },
  {
   "cell_type": "markdown",
   "metadata": {},
   "source": [
    "#next step: clean tweets column"
   ]
  }
 ],
 "metadata": {
  "kernelspec": {
   "display_name": "learn-env",
   "language": "python",
   "name": "python3"
  },
  "language_info": {
   "codemirror_mode": {
    "name": "ipython",
    "version": 3
   },
   "file_extension": ".py",
   "mimetype": "text/x-python",
   "name": "python",
   "nbconvert_exporter": "python",
   "pygments_lexer": "ipython3",
   "version": "3.8.5"
  },
  "orig_nbformat": 4
 },
 "nbformat": 4,
 "nbformat_minor": 2
}
